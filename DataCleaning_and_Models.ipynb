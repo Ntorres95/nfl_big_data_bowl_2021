{
  "nbformat": 4,
  "nbformat_minor": 0,
  "metadata": {
    "kernelspec": {
      "display_name": "Python 3",
      "language": "python",
      "name": "python3"
    },
    "language_info": {
      "codemirror_mode": {
        "name": "ipython",
        "version": 3
      },
      "file_extension": ".py",
      "mimetype": "text/x-python",
      "name": "python",
      "nbconvert_exporter": "python",
      "pygments_lexer": "ipython3",
      "version": "3.7.6"
    },
    "colab": {
      "name": "DataCleaning_and_Models.ipynb",
      "provenance": [],
      "collapsed_sections": [],
      "include_colab_link": true
    },
    "accelerator": "GPU"
  },
  "cells": [
    {
      "cell_type": "markdown",
      "metadata": {
        "id": "view-in-github",
        "colab_type": "text"
      },
      "source": [
        "<a href=\"https://colab.research.google.com/github/Ntorres95/nfl_big_data_bowl_2021/blob/main/DataCleaning_and_Models.ipynb\" target=\"_parent\"><img src=\"https://colab.research.google.com/assets/colab-badge.svg\" alt=\"Open In Colab\"/></a>"
      ]
    },
    {
      "cell_type": "code",
      "metadata": {
        "colab": {
          "base_uri": "https://localhost:8080/"
        },
        "id": "Q1xBiYtPCu7p",
        "outputId": "4cabeecd-352e-4686-a516-d74d26c81efc"
      },
      "source": [
        "!pip install boto3\n",
        "!pip install fsspec\n",
        "!pip install s3fs"
      ],
      "execution_count": 1,
      "outputs": [
        {
          "output_type": "stream",
          "text": [
            "Requirement already satisfied: boto3 in /usr/local/lib/python3.6/dist-packages (1.16.25)\n",
            "Requirement already satisfied: jmespath<1.0.0,>=0.7.1 in /usr/local/lib/python3.6/dist-packages (from boto3) (0.10.0)\n",
            "Collecting botocore<1.20.0,>=1.19.25\n",
            "  Using cached https://files.pythonhosted.org/packages/ef/d5/c0c33ca15e31062220ac5964f3492409eaf90a5cf5399503cd8264f2f8e9/botocore-1.19.25-py2.py3-none-any.whl\n",
            "Requirement already satisfied: s3transfer<0.4.0,>=0.3.0 in /usr/local/lib/python3.6/dist-packages (from boto3) (0.3.3)\n",
            "Requirement already satisfied: urllib3<1.27,>=1.25.4; python_version != \"3.4\" in /usr/local/lib/python3.6/dist-packages (from botocore<1.20.0,>=1.19.25->boto3) (1.25.11)\n",
            "Requirement already satisfied: python-dateutil<3.0.0,>=2.1 in /usr/local/lib/python3.6/dist-packages (from botocore<1.20.0,>=1.19.25->boto3) (2.8.1)\n",
            "Requirement already satisfied: six>=1.5 in /usr/local/lib/python3.6/dist-packages (from python-dateutil<3.0.0,>=2.1->botocore<1.20.0,>=1.19.25->boto3) (1.15.0)\n",
            "\u001b[31mERROR: aiobotocore 1.1.2 has requirement botocore<1.17.45,>=1.17.44, but you'll have botocore 1.19.25 which is incompatible.\u001b[0m\n",
            "Installing collected packages: botocore\n",
            "  Found existing installation: botocore 1.17.44\n",
            "    Uninstalling botocore-1.17.44:\n",
            "      Successfully uninstalled botocore-1.17.44\n",
            "Successfully installed botocore-1.19.25\n",
            "Requirement already satisfied: fsspec in /usr/local/lib/python3.6/dist-packages (0.8.4)\n",
            "Requirement already satisfied: s3fs in /usr/local/lib/python3.6/dist-packages (0.5.1)\n",
            "Requirement already satisfied: aiobotocore>=1.0.1 in /usr/local/lib/python3.6/dist-packages (from s3fs) (1.1.2)\n",
            "Requirement already satisfied: fsspec>=0.8.0 in /usr/local/lib/python3.6/dist-packages (from s3fs) (0.8.4)\n",
            "Collecting botocore<1.17.45,>=1.17.44\n",
            "  Using cached https://files.pythonhosted.org/packages/1e/6a/b6490235c01c941a24a86235e2a641e9505cf0ce4b4968d4987573d92bec/botocore-1.17.44-py2.py3-none-any.whl\n",
            "Requirement already satisfied: aioitertools>=0.5.1 in /usr/local/lib/python3.6/dist-packages (from aiobotocore>=1.0.1->s3fs) (0.7.1)\n",
            "Requirement already satisfied: aiohttp>=3.3.1 in /usr/local/lib/python3.6/dist-packages (from aiobotocore>=1.0.1->s3fs) (3.7.3)\n",
            "Requirement already satisfied: wrapt>=1.10.10 in /usr/local/lib/python3.6/dist-packages (from aiobotocore>=1.0.1->s3fs) (1.12.1)\n",
            "Requirement already satisfied: docutils<0.16,>=0.10 in /usr/local/lib/python3.6/dist-packages (from botocore<1.17.45,>=1.17.44->aiobotocore>=1.0.1->s3fs) (0.15.2)\n",
            "Requirement already satisfied: jmespath<1.0.0,>=0.7.1 in /usr/local/lib/python3.6/dist-packages (from botocore<1.17.45,>=1.17.44->aiobotocore>=1.0.1->s3fs) (0.10.0)\n",
            "Requirement already satisfied: python-dateutil<3.0.0,>=2.1 in /usr/local/lib/python3.6/dist-packages (from botocore<1.17.45,>=1.17.44->aiobotocore>=1.0.1->s3fs) (2.8.1)\n",
            "Requirement already satisfied: urllib3<1.26,>=1.20; python_version != \"3.4\" in /usr/local/lib/python3.6/dist-packages (from botocore<1.17.45,>=1.17.44->aiobotocore>=1.0.1->s3fs) (1.25.11)\n",
            "Requirement already satisfied: typing_extensions>=3.7 in /usr/local/lib/python3.6/dist-packages (from aioitertools>=0.5.1->aiobotocore>=1.0.1->s3fs) (3.7.4.3)\n",
            "Requirement already satisfied: attrs>=17.3.0 in /usr/local/lib/python3.6/dist-packages (from aiohttp>=3.3.1->aiobotocore>=1.0.1->s3fs) (20.3.0)\n",
            "Requirement already satisfied: multidict<7.0,>=4.5 in /usr/local/lib/python3.6/dist-packages (from aiohttp>=3.3.1->aiobotocore>=1.0.1->s3fs) (5.0.2)\n",
            "Requirement already satisfied: yarl<2.0,>=1.0 in /usr/local/lib/python3.6/dist-packages (from aiohttp>=3.3.1->aiobotocore>=1.0.1->s3fs) (1.6.3)\n",
            "Requirement already satisfied: chardet<4.0,>=2.0 in /usr/local/lib/python3.6/dist-packages (from aiohttp>=3.3.1->aiobotocore>=1.0.1->s3fs) (3.0.4)\n",
            "Requirement already satisfied: idna-ssl>=1.0; python_version < \"3.7\" in /usr/local/lib/python3.6/dist-packages (from aiohttp>=3.3.1->aiobotocore>=1.0.1->s3fs) (1.1.0)\n",
            "Requirement already satisfied: async-timeout<4.0,>=3.0 in /usr/local/lib/python3.6/dist-packages (from aiohttp>=3.3.1->aiobotocore>=1.0.1->s3fs) (3.0.1)\n",
            "Requirement already satisfied: six>=1.5 in /usr/local/lib/python3.6/dist-packages (from python-dateutil<3.0.0,>=2.1->botocore<1.17.45,>=1.17.44->aiobotocore>=1.0.1->s3fs) (1.15.0)\n",
            "Requirement already satisfied: idna>=2.0 in /usr/local/lib/python3.6/dist-packages (from yarl<2.0,>=1.0->aiohttp>=3.3.1->aiobotocore>=1.0.1->s3fs) (2.10)\n",
            "\u001b[31mERROR: boto3 1.16.25 has requirement botocore<1.20.0,>=1.19.25, but you'll have botocore 1.17.44 which is incompatible.\u001b[0m\n",
            "Installing collected packages: botocore\n",
            "  Found existing installation: botocore 1.19.25\n",
            "    Uninstalling botocore-1.19.25:\n",
            "      Successfully uninstalled botocore-1.19.25\n",
            "Successfully installed botocore-1.17.44\n"
          ],
          "name": "stdout"
        }
      ]
    },
    {
      "cell_type": "code",
      "metadata": {
        "id": "SR8SjTv11ta8"
      },
      "source": [
        "import matplotlib.pyplot as plt\n",
        "from sklearn.neighbors import KNeighborsClassifier\n",
        "import pandas as pd\n",
        "import numpy as np\n",
        "import boto3\n",
        "import botocore\n",
        "import os"
      ],
      "execution_count": 2,
      "outputs": []
    },
    {
      "cell_type": "code",
      "metadata": {
        "id": "0tsFUJpKCD7r"
      },
      "source": [
        "from boto3.session import Session\n",
        "from botocore.client import Config\n",
        "from botocore.handlers import set_list_objects_encoding_type_url"
      ],
      "execution_count": 3,
      "outputs": []
    },
    {
      "cell_type": "code",
      "metadata": {
        "id": "1twmNf27CMxn"
      },
      "source": [
        "#load aws buckets into pandas\n",
        "weeks_df = pd.read_csv(\"https://mybigbowlbucket.s3-us-west-1.amazonaws.com/weeksNFL.csv\")\n",
        "games_df = pd.read_csv(\"https://mybigbowlbucket.s3-us-west-1.amazonaws.com/games.csv\")\n",
        "players_df = pd.read_csv(\"https://mybigbowlbucket.s3-us-west-1.amazonaws.com/players.csv\")\n",
        "plays_df = pd.read_csv(\"https://mybigbowlbucket.s3-us-west-1.amazonaws.com/plays.csv\")"
      ],
      "execution_count": 4,
      "outputs": []
    },
    {
      "cell_type": "code",
      "metadata": {
        "colab": {
          "base_uri": "https://localhost:8080/"
        },
        "id": "a7nGUNpJLem2",
        "outputId": "1b71cae3-3b7a-4e46-89ec-cdc8ddd4850d"
      },
      "source": [
        "weeks_df.shape"
      ],
      "execution_count": 5,
      "outputs": [
        {
          "output_type": "execute_result",
          "data": {
            "text/plain": [
              "(18309388, 19)"
            ]
          },
          "metadata": {
            "tags": []
          },
          "execution_count": 5
        }
      ]
    },
    {
      "cell_type": "code",
      "metadata": {
        "id": "unCEUmIZKg8y"
      },
      "source": [
        "weeks_df = weeks_df.dropna()\n",
        "games_df = games_df.dropna()\n",
        "players_df = players_df.dropna()\n",
        "plays_df = plays_df.dropna()"
      ],
      "execution_count": 6,
      "outputs": []
    },
    {
      "cell_type": "code",
      "metadata": {
        "colab": {
          "base_uri": "https://localhost:8080/"
        },
        "id": "Qcg6liZdLhx1",
        "outputId": "5f12d7ae-0f51-4af9-c1e0-f065ad5e580c"
      },
      "source": [
        "weeks_df.shape"
      ],
      "execution_count": 7,
      "outputs": [
        {
          "output_type": "execute_result",
          "data": {
            "text/plain": [
              "(5117955, 19)"
            ]
          },
          "metadata": {
            "tags": []
          },
          "execution_count": 7
        }
      ]
    },
    {
      "cell_type": "code",
      "metadata": {
        "colab": {
          "base_uri": "https://localhost:8080/",
          "height": 142
        },
        "id": "VPazd-zFDARI",
        "outputId": "ae26c4b1-7666-467c-b365-be4c6d6c6526"
      },
      "source": [
        "weeks_df.head(3)"
      ],
      "execution_count": 8,
      "outputs": [
        {
          "output_type": "execute_result",
          "data": {
            "text/html": [
              "<div>\n",
              "<style scoped>\n",
              "    .dataframe tbody tr th:only-of-type {\n",
              "        vertical-align: middle;\n",
              "    }\n",
              "\n",
              "    .dataframe tbody tr th {\n",
              "        vertical-align: top;\n",
              "    }\n",
              "\n",
              "    .dataframe thead th {\n",
              "        text-align: right;\n",
              "    }\n",
              "</style>\n",
              "<table border=\"1\" class=\"dataframe\">\n",
              "  <thead>\n",
              "    <tr style=\"text-align: right;\">\n",
              "      <th></th>\n",
              "      <th>time</th>\n",
              "      <th>x</th>\n",
              "      <th>y</th>\n",
              "      <th>s</th>\n",
              "      <th>a</th>\n",
              "      <th>dis</th>\n",
              "      <th>o</th>\n",
              "      <th>dir</th>\n",
              "      <th>event</th>\n",
              "      <th>nflId</th>\n",
              "      <th>displayName</th>\n",
              "      <th>jerseyNumber</th>\n",
              "      <th>position</th>\n",
              "      <th>frameId</th>\n",
              "      <th>team</th>\n",
              "      <th>gameId</th>\n",
              "      <th>playId</th>\n",
              "      <th>playDirection</th>\n",
              "      <th>route</th>\n",
              "    </tr>\n",
              "  </thead>\n",
              "  <tbody>\n",
              "    <tr>\n",
              "      <th>2</th>\n",
              "      <td>2018-09-07T01:07:14.599Z</td>\n",
              "      <td>91.35</td>\n",
              "      <td>44.16</td>\n",
              "      <td>0.02</td>\n",
              "      <td>0.03</td>\n",
              "      <td>0.01</td>\n",
              "      <td>290.45</td>\n",
              "      <td>16.86</td>\n",
              "      <td>None</td>\n",
              "      <td>2495454.0</td>\n",
              "      <td>Julio Jones</td>\n",
              "      <td>11.0</td>\n",
              "      <td>WR</td>\n",
              "      <td>1</td>\n",
              "      <td>away</td>\n",
              "      <td>2018090600</td>\n",
              "      <td>75</td>\n",
              "      <td>left</td>\n",
              "      <td>HITCH</td>\n",
              "    </tr>\n",
              "    <tr>\n",
              "      <th>4</th>\n",
              "      <td>2018-09-07T01:07:14.599Z</td>\n",
              "      <td>90.78</td>\n",
              "      <td>36.15</td>\n",
              "      <td>0.00</td>\n",
              "      <td>0.00</td>\n",
              "      <td>0.00</td>\n",
              "      <td>257.61</td>\n",
              "      <td>193.97</td>\n",
              "      <td>None</td>\n",
              "      <td>2533040.0</td>\n",
              "      <td>Mohamed Sanu</td>\n",
              "      <td>12.0</td>\n",
              "      <td>WR</td>\n",
              "      <td>1</td>\n",
              "      <td>away</td>\n",
              "      <td>2018090600</td>\n",
              "      <td>75</td>\n",
              "      <td>left</td>\n",
              "      <td>HITCH</td>\n",
              "    </tr>\n",
              "    <tr>\n",
              "      <th>10</th>\n",
              "      <td>2018-09-07T01:07:14.599Z</td>\n",
              "      <td>91.29</td>\n",
              "      <td>21.83</td>\n",
              "      <td>0.01</td>\n",
              "      <td>0.02</td>\n",
              "      <td>0.01</td>\n",
              "      <td>250.34</td>\n",
              "      <td>151.83</td>\n",
              "      <td>None</td>\n",
              "      <td>2555415.0</td>\n",
              "      <td>Austin Hooper</td>\n",
              "      <td>81.0</td>\n",
              "      <td>TE</td>\n",
              "      <td>1</td>\n",
              "      <td>away</td>\n",
              "      <td>2018090600</td>\n",
              "      <td>75</td>\n",
              "      <td>left</td>\n",
              "      <td>OUT</td>\n",
              "    </tr>\n",
              "  </tbody>\n",
              "</table>\n",
              "</div>"
            ],
            "text/plain": [
              "                        time      x      y  ...  playId  playDirection  route\n",
              "2   2018-09-07T01:07:14.599Z  91.35  44.16  ...      75           left  HITCH\n",
              "4   2018-09-07T01:07:14.599Z  90.78  36.15  ...      75           left  HITCH\n",
              "10  2018-09-07T01:07:14.599Z  91.29  21.83  ...      75           left    OUT\n",
              "\n",
              "[3 rows x 19 columns]"
            ]
          },
          "metadata": {
            "tags": []
          },
          "execution_count": 8
        }
      ]
    },
    {
      "cell_type": "code",
      "metadata": {
        "colab": {
          "base_uri": "https://localhost:8080/",
          "height": 142
        },
        "id": "L6GS9rsiDPQh",
        "outputId": "15cdb1e4-0c59-4230-9b52-1ec4b869fef5"
      },
      "source": [
        "games_df.head(3)"
      ],
      "execution_count": 9,
      "outputs": [
        {
          "output_type": "execute_result",
          "data": {
            "text/html": [
              "<div>\n",
              "<style scoped>\n",
              "    .dataframe tbody tr th:only-of-type {\n",
              "        vertical-align: middle;\n",
              "    }\n",
              "\n",
              "    .dataframe tbody tr th {\n",
              "        vertical-align: top;\n",
              "    }\n",
              "\n",
              "    .dataframe thead th {\n",
              "        text-align: right;\n",
              "    }\n",
              "</style>\n",
              "<table border=\"1\" class=\"dataframe\">\n",
              "  <thead>\n",
              "    <tr style=\"text-align: right;\">\n",
              "      <th></th>\n",
              "      <th>gameId</th>\n",
              "      <th>gameDate</th>\n",
              "      <th>gameTimeEastern</th>\n",
              "      <th>homeTeamAbbr</th>\n",
              "      <th>visitorTeamAbbr</th>\n",
              "      <th>week</th>\n",
              "    </tr>\n",
              "  </thead>\n",
              "  <tbody>\n",
              "    <tr>\n",
              "      <th>0</th>\n",
              "      <td>2018090600</td>\n",
              "      <td>09/06/2018</td>\n",
              "      <td>20:20:00</td>\n",
              "      <td>PHI</td>\n",
              "      <td>ATL</td>\n",
              "      <td>1</td>\n",
              "    </tr>\n",
              "    <tr>\n",
              "      <th>1</th>\n",
              "      <td>2018090901</td>\n",
              "      <td>09/09/2018</td>\n",
              "      <td>13:00:00</td>\n",
              "      <td>CLE</td>\n",
              "      <td>PIT</td>\n",
              "      <td>1</td>\n",
              "    </tr>\n",
              "    <tr>\n",
              "      <th>2</th>\n",
              "      <td>2018090902</td>\n",
              "      <td>09/09/2018</td>\n",
              "      <td>13:00:00</td>\n",
              "      <td>IND</td>\n",
              "      <td>CIN</td>\n",
              "      <td>1</td>\n",
              "    </tr>\n",
              "  </tbody>\n",
              "</table>\n",
              "</div>"
            ],
            "text/plain": [
              "       gameId    gameDate gameTimeEastern homeTeamAbbr visitorTeamAbbr  week\n",
              "0  2018090600  09/06/2018        20:20:00          PHI             ATL     1\n",
              "1  2018090901  09/09/2018        13:00:00          CLE             PIT     1\n",
              "2  2018090902  09/09/2018        13:00:00          IND             CIN     1"
            ]
          },
          "metadata": {
            "tags": []
          },
          "execution_count": 9
        }
      ]
    },
    {
      "cell_type": "code",
      "metadata": {
        "colab": {
          "base_uri": "https://localhost:8080/",
          "height": 142
        },
        "id": "21qE6EThDPXz",
        "outputId": "bc6c4403-2cab-40d7-e3a9-5c91f747d805"
      },
      "source": [
        "players_df.head(3)"
      ],
      "execution_count": 10,
      "outputs": [
        {
          "output_type": "execute_result",
          "data": {
            "text/html": [
              "<div>\n",
              "<style scoped>\n",
              "    .dataframe tbody tr th:only-of-type {\n",
              "        vertical-align: middle;\n",
              "    }\n",
              "\n",
              "    .dataframe tbody tr th {\n",
              "        vertical-align: top;\n",
              "    }\n",
              "\n",
              "    .dataframe thead th {\n",
              "        text-align: right;\n",
              "    }\n",
              "</style>\n",
              "<table border=\"1\" class=\"dataframe\">\n",
              "  <thead>\n",
              "    <tr style=\"text-align: right;\">\n",
              "      <th></th>\n",
              "      <th>nflId</th>\n",
              "      <th>height</th>\n",
              "      <th>weight</th>\n",
              "      <th>birthDate</th>\n",
              "      <th>collegeName</th>\n",
              "      <th>position</th>\n",
              "      <th>displayName</th>\n",
              "    </tr>\n",
              "  </thead>\n",
              "  <tbody>\n",
              "    <tr>\n",
              "      <th>0</th>\n",
              "      <td>2539334</td>\n",
              "      <td>72</td>\n",
              "      <td>190</td>\n",
              "      <td>1990-09-10</td>\n",
              "      <td>Washington</td>\n",
              "      <td>CB</td>\n",
              "      <td>Desmond Trufant</td>\n",
              "    </tr>\n",
              "    <tr>\n",
              "      <th>1</th>\n",
              "      <td>2539653</td>\n",
              "      <td>70</td>\n",
              "      <td>186</td>\n",
              "      <td>1988-11-01</td>\n",
              "      <td>Southeastern Louisiana</td>\n",
              "      <td>CB</td>\n",
              "      <td>Robert Alford</td>\n",
              "    </tr>\n",
              "    <tr>\n",
              "      <th>2</th>\n",
              "      <td>2543850</td>\n",
              "      <td>69</td>\n",
              "      <td>186</td>\n",
              "      <td>1991-12-18</td>\n",
              "      <td>Purdue</td>\n",
              "      <td>SS</td>\n",
              "      <td>Ricardo Allen</td>\n",
              "    </tr>\n",
              "  </tbody>\n",
              "</table>\n",
              "</div>"
            ],
            "text/plain": [
              "     nflId height  weight  ...             collegeName position      displayName\n",
              "0  2539334     72     190  ...              Washington       CB  Desmond Trufant\n",
              "1  2539653     70     186  ...  Southeastern Louisiana       CB    Robert Alford\n",
              "2  2543850     69     186  ...                  Purdue       SS    Ricardo Allen\n",
              "\n",
              "[3 rows x 7 columns]"
            ]
          },
          "metadata": {
            "tags": []
          },
          "execution_count": 10
        }
      ]
    },
    {
      "cell_type": "code",
      "metadata": {
        "colab": {
          "base_uri": "https://localhost:8080/",
          "height": 264
        },
        "id": "k-xuqgC7DTOr",
        "outputId": "aefd08a8-4c75-4eaa-a722-7efeb4c8024c"
      },
      "source": [
        "plays_df.head(3)"
      ],
      "execution_count": 11,
      "outputs": [
        {
          "output_type": "execute_result",
          "data": {
            "text/html": [
              "<div>\n",
              "<style scoped>\n",
              "    .dataframe tbody tr th:only-of-type {\n",
              "        vertical-align: middle;\n",
              "    }\n",
              "\n",
              "    .dataframe tbody tr th {\n",
              "        vertical-align: top;\n",
              "    }\n",
              "\n",
              "    .dataframe thead th {\n",
              "        text-align: right;\n",
              "    }\n",
              "</style>\n",
              "<table border=\"1\" class=\"dataframe\">\n",
              "  <thead>\n",
              "    <tr style=\"text-align: right;\">\n",
              "      <th></th>\n",
              "      <th>gameId</th>\n",
              "      <th>playId</th>\n",
              "      <th>playDescription</th>\n",
              "      <th>quarter</th>\n",
              "      <th>down</th>\n",
              "      <th>yardsToGo</th>\n",
              "      <th>possessionTeam</th>\n",
              "      <th>playType</th>\n",
              "      <th>yardlineSide</th>\n",
              "      <th>yardlineNumber</th>\n",
              "      <th>offenseFormation</th>\n",
              "      <th>personnelO</th>\n",
              "      <th>defendersInTheBox</th>\n",
              "      <th>numberOfPassRushers</th>\n",
              "      <th>personnelD</th>\n",
              "      <th>typeDropback</th>\n",
              "      <th>preSnapVisitorScore</th>\n",
              "      <th>preSnapHomeScore</th>\n",
              "      <th>gameClock</th>\n",
              "      <th>absoluteYardlineNumber</th>\n",
              "      <th>penaltyCodes</th>\n",
              "      <th>penaltyJerseyNumbers</th>\n",
              "      <th>passResult</th>\n",
              "      <th>offensePlayResult</th>\n",
              "      <th>playResult</th>\n",
              "      <th>epa</th>\n",
              "      <th>isDefensivePI</th>\n",
              "    </tr>\n",
              "  </thead>\n",
              "  <tbody>\n",
              "    <tr>\n",
              "      <th>29</th>\n",
              "      <td>2018090600</td>\n",
              "      <td>1680</td>\n",
              "      <td>(1:57) (Shotgun) N.Foles pass short right to N...</td>\n",
              "      <td>2</td>\n",
              "      <td>2</td>\n",
              "      <td>10</td>\n",
              "      <td>PHI</td>\n",
              "      <td>play_type_pass</td>\n",
              "      <td>PHI</td>\n",
              "      <td>5</td>\n",
              "      <td>SHOTGUN</td>\n",
              "      <td>1 RB, 1 TE, 3 WR</td>\n",
              "      <td>6.0</td>\n",
              "      <td>4.0</td>\n",
              "      <td>3 DL, 3 LB, 5 DB</td>\n",
              "      <td>TRADITIONAL</td>\n",
              "      <td>6.0</td>\n",
              "      <td>3.0</td>\n",
              "      <td>01:57:00</td>\n",
              "      <td>105.0</td>\n",
              "      <td>RPS</td>\n",
              "      <td>ATL 97</td>\n",
              "      <td>C</td>\n",
              "      <td>4</td>\n",
              "      <td>19</td>\n",
              "      <td>1.299050</td>\n",
              "      <td>False</td>\n",
              "    </tr>\n",
              "    <tr>\n",
              "      <th>45</th>\n",
              "      <td>2018090600</td>\n",
              "      <td>2503</td>\n",
              "      <td>(11:04) (Shotgun) M.Ryan pass incomplete short...</td>\n",
              "      <td>3</td>\n",
              "      <td>2</td>\n",
              "      <td>10</td>\n",
              "      <td>ATL</td>\n",
              "      <td>play_type_pass</td>\n",
              "      <td>ATL</td>\n",
              "      <td>32</td>\n",
              "      <td>EMPTY</td>\n",
              "      <td>1 RB, 1 TE, 3 WR</td>\n",
              "      <td>5.0</td>\n",
              "      <td>4.0</td>\n",
              "      <td>4 DL, 1 LB, 6 DB</td>\n",
              "      <td>TRADITIONAL</td>\n",
              "      <td>6.0</td>\n",
              "      <td>3.0</td>\n",
              "      <td>11:04:00</td>\n",
              "      <td>42.0</td>\n",
              "      <td>ING</td>\n",
              "      <td>ATL 2</td>\n",
              "      <td>I</td>\n",
              "      <td>0</td>\n",
              "      <td>-12</td>\n",
              "      <td>-1.868122</td>\n",
              "      <td>False</td>\n",
              "    </tr>\n",
              "    <tr>\n",
              "      <th>91</th>\n",
              "      <td>2018090901</td>\n",
              "      <td>439</td>\n",
              "      <td>(8:05) (Shotgun) B.Roethlisberger pass short r...</td>\n",
              "      <td>1</td>\n",
              "      <td>3</td>\n",
              "      <td>9</td>\n",
              "      <td>PIT</td>\n",
              "      <td>play_type_pass</td>\n",
              "      <td>PIT</td>\n",
              "      <td>43</td>\n",
              "      <td>EMPTY</td>\n",
              "      <td>1 RB, 1 TE, 3 WR</td>\n",
              "      <td>6.0</td>\n",
              "      <td>4.0</td>\n",
              "      <td>2 DL, 4 LB, 5 DB</td>\n",
              "      <td>TRADITIONAL</td>\n",
              "      <td>0.0</td>\n",
              "      <td>0.0</td>\n",
              "      <td>08:05:00</td>\n",
              "      <td>53.0</td>\n",
              "      <td>IBW</td>\n",
              "      <td>PIT 11</td>\n",
              "      <td>C</td>\n",
              "      <td>0</td>\n",
              "      <td>0</td>\n",
              "      <td>-1.770704</td>\n",
              "      <td>False</td>\n",
              "    </tr>\n",
              "  </tbody>\n",
              "</table>\n",
              "</div>"
            ],
            "text/plain": [
              "        gameId  playId  ...       epa  isDefensivePI\n",
              "29  2018090600    1680  ...  1.299050          False\n",
              "45  2018090600    2503  ... -1.868122          False\n",
              "91  2018090901     439  ... -1.770704          False\n",
              "\n",
              "[3 rows x 27 columns]"
            ]
          },
          "metadata": {
            "tags": []
          },
          "execution_count": 11
        }
      ]
    },
    {
      "cell_type": "code",
      "metadata": {
        "id": "r_LKu1t9GCM-",
        "colab": {
          "base_uri": "https://localhost:8080/",
          "height": 394
        },
        "outputId": "eb1c0959-dfb3-4269-9357-5bd464222639"
      },
      "source": [
        "df = weeks_df.merge(plays_df, how='right', on='playId')\n",
        "df.head()"
      ],
      "execution_count": 12,
      "outputs": [
        {
          "output_type": "execute_result",
          "data": {
            "text/html": [
              "<div>\n",
              "<style scoped>\n",
              "    .dataframe tbody tr th:only-of-type {\n",
              "        vertical-align: middle;\n",
              "    }\n",
              "\n",
              "    .dataframe tbody tr th {\n",
              "        vertical-align: top;\n",
              "    }\n",
              "\n",
              "    .dataframe thead th {\n",
              "        text-align: right;\n",
              "    }\n",
              "</style>\n",
              "<table border=\"1\" class=\"dataframe\">\n",
              "  <thead>\n",
              "    <tr style=\"text-align: right;\">\n",
              "      <th></th>\n",
              "      <th>time</th>\n",
              "      <th>x</th>\n",
              "      <th>y</th>\n",
              "      <th>s</th>\n",
              "      <th>a</th>\n",
              "      <th>dis</th>\n",
              "      <th>o</th>\n",
              "      <th>dir</th>\n",
              "      <th>event</th>\n",
              "      <th>nflId</th>\n",
              "      <th>displayName</th>\n",
              "      <th>jerseyNumber</th>\n",
              "      <th>position</th>\n",
              "      <th>frameId</th>\n",
              "      <th>team</th>\n",
              "      <th>gameId_x</th>\n",
              "      <th>playId</th>\n",
              "      <th>playDirection</th>\n",
              "      <th>route</th>\n",
              "      <th>gameId_y</th>\n",
              "      <th>playDescription</th>\n",
              "      <th>quarter</th>\n",
              "      <th>down</th>\n",
              "      <th>yardsToGo</th>\n",
              "      <th>possessionTeam</th>\n",
              "      <th>playType</th>\n",
              "      <th>yardlineSide</th>\n",
              "      <th>yardlineNumber</th>\n",
              "      <th>offenseFormation</th>\n",
              "      <th>personnelO</th>\n",
              "      <th>defendersInTheBox</th>\n",
              "      <th>numberOfPassRushers</th>\n",
              "      <th>personnelD</th>\n",
              "      <th>typeDropback</th>\n",
              "      <th>preSnapVisitorScore</th>\n",
              "      <th>preSnapHomeScore</th>\n",
              "      <th>gameClock</th>\n",
              "      <th>absoluteYardlineNumber</th>\n",
              "      <th>penaltyCodes</th>\n",
              "      <th>penaltyJerseyNumbers</th>\n",
              "      <th>passResult</th>\n",
              "      <th>offensePlayResult</th>\n",
              "      <th>playResult</th>\n",
              "      <th>epa</th>\n",
              "      <th>isDefensivePI</th>\n",
              "    </tr>\n",
              "  </thead>\n",
              "  <tbody>\n",
              "    <tr>\n",
              "      <th>0</th>\n",
              "      <td>2018-09-07T02:17:33.400Z</td>\n",
              "      <td>110.35</td>\n",
              "      <td>32.48</td>\n",
              "      <td>0.00</td>\n",
              "      <td>0.00</td>\n",
              "      <td>0.00</td>\n",
              "      <td>44.48</td>\n",
              "      <td>307.08</td>\n",
              "      <td>None</td>\n",
              "      <td>2506467.0</td>\n",
              "      <td>Darren Sproles</td>\n",
              "      <td>43.0</td>\n",
              "      <td>RB</td>\n",
              "      <td>1.0</td>\n",
              "      <td>home</td>\n",
              "      <td>2.018091e+09</td>\n",
              "      <td>1680</td>\n",
              "      <td>left</td>\n",
              "      <td>WHEEL</td>\n",
              "      <td>2018090600</td>\n",
              "      <td>(1:57) (Shotgun) N.Foles pass short right to N...</td>\n",
              "      <td>2</td>\n",
              "      <td>2</td>\n",
              "      <td>10</td>\n",
              "      <td>PHI</td>\n",
              "      <td>play_type_pass</td>\n",
              "      <td>PHI</td>\n",
              "      <td>5</td>\n",
              "      <td>SHOTGUN</td>\n",
              "      <td>1 RB, 1 TE, 3 WR</td>\n",
              "      <td>6.0</td>\n",
              "      <td>4.0</td>\n",
              "      <td>3 DL, 3 LB, 5 DB</td>\n",
              "      <td>TRADITIONAL</td>\n",
              "      <td>6.0</td>\n",
              "      <td>3.0</td>\n",
              "      <td>01:57:00</td>\n",
              "      <td>105.0</td>\n",
              "      <td>RPS</td>\n",
              "      <td>ATL 97</td>\n",
              "      <td>C</td>\n",
              "      <td>4</td>\n",
              "      <td>19</td>\n",
              "      <td>1.29905</td>\n",
              "      <td>False</td>\n",
              "    </tr>\n",
              "    <tr>\n",
              "      <th>1</th>\n",
              "      <td>2018-09-07T02:17:33.400Z</td>\n",
              "      <td>106.49</td>\n",
              "      <td>42.95</td>\n",
              "      <td>0.00</td>\n",
              "      <td>0.00</td>\n",
              "      <td>0.00</td>\n",
              "      <td>247.94</td>\n",
              "      <td>189.89</td>\n",
              "      <td>None</td>\n",
              "      <td>2507763.0</td>\n",
              "      <td>Mike Wallace</td>\n",
              "      <td>14.0</td>\n",
              "      <td>WR</td>\n",
              "      <td>1.0</td>\n",
              "      <td>home</td>\n",
              "      <td>2.018091e+09</td>\n",
              "      <td>1680</td>\n",
              "      <td>left</td>\n",
              "      <td>POST</td>\n",
              "      <td>2018090600</td>\n",
              "      <td>(1:57) (Shotgun) N.Foles pass short right to N...</td>\n",
              "      <td>2</td>\n",
              "      <td>2</td>\n",
              "      <td>10</td>\n",
              "      <td>PHI</td>\n",
              "      <td>play_type_pass</td>\n",
              "      <td>PHI</td>\n",
              "      <td>5</td>\n",
              "      <td>SHOTGUN</td>\n",
              "      <td>1 RB, 1 TE, 3 WR</td>\n",
              "      <td>6.0</td>\n",
              "      <td>4.0</td>\n",
              "      <td>3 DL, 3 LB, 5 DB</td>\n",
              "      <td>TRADITIONAL</td>\n",
              "      <td>6.0</td>\n",
              "      <td>3.0</td>\n",
              "      <td>01:57:00</td>\n",
              "      <td>105.0</td>\n",
              "      <td>RPS</td>\n",
              "      <td>ATL 97</td>\n",
              "      <td>C</td>\n",
              "      <td>4</td>\n",
              "      <td>19</td>\n",
              "      <td>1.29905</td>\n",
              "      <td>False</td>\n",
              "    </tr>\n",
              "    <tr>\n",
              "      <th>2</th>\n",
              "      <td>2018-09-07T02:17:33.400Z</td>\n",
              "      <td>105.99</td>\n",
              "      <td>22.35</td>\n",
              "      <td>0.00</td>\n",
              "      <td>0.00</td>\n",
              "      <td>0.00</td>\n",
              "      <td>255.39</td>\n",
              "      <td>246.65</td>\n",
              "      <td>None</td>\n",
              "      <td>2540158.0</td>\n",
              "      <td>Zach Ertz</td>\n",
              "      <td>86.0</td>\n",
              "      <td>TE</td>\n",
              "      <td>1.0</td>\n",
              "      <td>home</td>\n",
              "      <td>2.018091e+09</td>\n",
              "      <td>1680</td>\n",
              "      <td>left</td>\n",
              "      <td>POST</td>\n",
              "      <td>2018090600</td>\n",
              "      <td>(1:57) (Shotgun) N.Foles pass short right to N...</td>\n",
              "      <td>2</td>\n",
              "      <td>2</td>\n",
              "      <td>10</td>\n",
              "      <td>PHI</td>\n",
              "      <td>play_type_pass</td>\n",
              "      <td>PHI</td>\n",
              "      <td>5</td>\n",
              "      <td>SHOTGUN</td>\n",
              "      <td>1 RB, 1 TE, 3 WR</td>\n",
              "      <td>6.0</td>\n",
              "      <td>4.0</td>\n",
              "      <td>3 DL, 3 LB, 5 DB</td>\n",
              "      <td>TRADITIONAL</td>\n",
              "      <td>6.0</td>\n",
              "      <td>3.0</td>\n",
              "      <td>01:57:00</td>\n",
              "      <td>105.0</td>\n",
              "      <td>RPS</td>\n",
              "      <td>ATL 97</td>\n",
              "      <td>C</td>\n",
              "      <td>4</td>\n",
              "      <td>19</td>\n",
              "      <td>1.29905</td>\n",
              "      <td>False</td>\n",
              "    </tr>\n",
              "    <tr>\n",
              "      <th>3</th>\n",
              "      <td>2018-09-07T02:17:33.400Z</td>\n",
              "      <td>107.67</td>\n",
              "      <td>16.05</td>\n",
              "      <td>5.83</td>\n",
              "      <td>2.36</td>\n",
              "      <td>0.59</td>\n",
              "      <td>327.16</td>\n",
              "      <td>2.02</td>\n",
              "      <td>None</td>\n",
              "      <td>2552600.0</td>\n",
              "      <td>Nelson Agholor</td>\n",
              "      <td>13.0</td>\n",
              "      <td>WR</td>\n",
              "      <td>1.0</td>\n",
              "      <td>home</td>\n",
              "      <td>2.018091e+09</td>\n",
              "      <td>1680</td>\n",
              "      <td>left</td>\n",
              "      <td>CROSS</td>\n",
              "      <td>2018090600</td>\n",
              "      <td>(1:57) (Shotgun) N.Foles pass short right to N...</td>\n",
              "      <td>2</td>\n",
              "      <td>2</td>\n",
              "      <td>10</td>\n",
              "      <td>PHI</td>\n",
              "      <td>play_type_pass</td>\n",
              "      <td>PHI</td>\n",
              "      <td>5</td>\n",
              "      <td>SHOTGUN</td>\n",
              "      <td>1 RB, 1 TE, 3 WR</td>\n",
              "      <td>6.0</td>\n",
              "      <td>4.0</td>\n",
              "      <td>3 DL, 3 LB, 5 DB</td>\n",
              "      <td>TRADITIONAL</td>\n",
              "      <td>6.0</td>\n",
              "      <td>3.0</td>\n",
              "      <td>01:57:00</td>\n",
              "      <td>105.0</td>\n",
              "      <td>RPS</td>\n",
              "      <td>ATL 97</td>\n",
              "      <td>C</td>\n",
              "      <td>4</td>\n",
              "      <td>19</td>\n",
              "      <td>1.29905</td>\n",
              "      <td>False</td>\n",
              "    </tr>\n",
              "    <tr>\n",
              "      <th>4</th>\n",
              "      <td>2018-09-07T02:17:33.400Z</td>\n",
              "      <td>106.75</td>\n",
              "      <td>15.20</td>\n",
              "      <td>0.00</td>\n",
              "      <td>0.00</td>\n",
              "      <td>0.00</td>\n",
              "      <td>253.47</td>\n",
              "      <td>288.27</td>\n",
              "      <td>None</td>\n",
              "      <td>2553502.0</td>\n",
              "      <td>DeAndre Carter</td>\n",
              "      <td>16.0</td>\n",
              "      <td>WR</td>\n",
              "      <td>1.0</td>\n",
              "      <td>home</td>\n",
              "      <td>2.018091e+09</td>\n",
              "      <td>1680</td>\n",
              "      <td>left</td>\n",
              "      <td>POST</td>\n",
              "      <td>2018090600</td>\n",
              "      <td>(1:57) (Shotgun) N.Foles pass short right to N...</td>\n",
              "      <td>2</td>\n",
              "      <td>2</td>\n",
              "      <td>10</td>\n",
              "      <td>PHI</td>\n",
              "      <td>play_type_pass</td>\n",
              "      <td>PHI</td>\n",
              "      <td>5</td>\n",
              "      <td>SHOTGUN</td>\n",
              "      <td>1 RB, 1 TE, 3 WR</td>\n",
              "      <td>6.0</td>\n",
              "      <td>4.0</td>\n",
              "      <td>3 DL, 3 LB, 5 DB</td>\n",
              "      <td>TRADITIONAL</td>\n",
              "      <td>6.0</td>\n",
              "      <td>3.0</td>\n",
              "      <td>01:57:00</td>\n",
              "      <td>105.0</td>\n",
              "      <td>RPS</td>\n",
              "      <td>ATL 97</td>\n",
              "      <td>C</td>\n",
              "      <td>4</td>\n",
              "      <td>19</td>\n",
              "      <td>1.29905</td>\n",
              "      <td>False</td>\n",
              "    </tr>\n",
              "  </tbody>\n",
              "</table>\n",
              "</div>"
            ],
            "text/plain": [
              "                       time       x      y  ...  playResult      epa  isDefensivePI\n",
              "0  2018-09-07T02:17:33.400Z  110.35  32.48  ...          19  1.29905          False\n",
              "1  2018-09-07T02:17:33.400Z  106.49  42.95  ...          19  1.29905          False\n",
              "2  2018-09-07T02:17:33.400Z  105.99  22.35  ...          19  1.29905          False\n",
              "3  2018-09-07T02:17:33.400Z  107.67  16.05  ...          19  1.29905          False\n",
              "4  2018-09-07T02:17:33.400Z  106.75  15.20  ...          19  1.29905          False\n",
              "\n",
              "[5 rows x 45 columns]"
            ]
          },
          "metadata": {
            "tags": []
          },
          "execution_count": 12
        }
      ]
    },
    {
      "cell_type": "code",
      "metadata": {
        "id": "P43tUB5C1ta-"
      },
      "source": [
        "df = df.drop(columns=['time', 'x', 'y', 's', 'a', 'o', 'dir', 'event', 'nflId', 'displayName', 'jerseyNumber', 'frameId', 'gameId_x', 'gameId_y', 'playDescription','possessionTeam', 'playType', 'yardlineSide', 'gameClock', 'penaltyCodes', 'penaltyJerseyNumbers','typeDropback'])"
      ],
      "execution_count": 13,
      "outputs": []
    },
    {
      "cell_type": "code",
      "metadata": {
        "id": "OghGX19b1ta-",
        "colab": {
          "base_uri": "https://localhost:8080/",
          "height": 304
        },
        "outputId": "562bb681-08e2-4871-d793-2d574285f5b0"
      },
      "source": [
        "# Drop the null columns where all values are null\n",
        "df = df.dropna(axis='columns', how='all')\n",
        "\n",
        "df = pd.get_dummies(df)\n",
        "\n",
        "df.head()"
      ],
      "execution_count": 14,
      "outputs": [
        {
          "output_type": "execute_result",
          "data": {
            "text/html": [
              "<div>\n",
              "<style scoped>\n",
              "    .dataframe tbody tr th:only-of-type {\n",
              "        vertical-align: middle;\n",
              "    }\n",
              "\n",
              "    .dataframe tbody tr th {\n",
              "        vertical-align: top;\n",
              "    }\n",
              "\n",
              "    .dataframe thead th {\n",
              "        text-align: right;\n",
              "    }\n",
              "</style>\n",
              "<table border=\"1\" class=\"dataframe\">\n",
              "  <thead>\n",
              "    <tr style=\"text-align: right;\">\n",
              "      <th></th>\n",
              "      <th>dis</th>\n",
              "      <th>playId</th>\n",
              "      <th>quarter</th>\n",
              "      <th>down</th>\n",
              "      <th>yardsToGo</th>\n",
              "      <th>yardlineNumber</th>\n",
              "      <th>defendersInTheBox</th>\n",
              "      <th>numberOfPassRushers</th>\n",
              "      <th>preSnapVisitorScore</th>\n",
              "      <th>preSnapHomeScore</th>\n",
              "      <th>absoluteYardlineNumber</th>\n",
              "      <th>offensePlayResult</th>\n",
              "      <th>playResult</th>\n",
              "      <th>epa</th>\n",
              "      <th>isDefensivePI</th>\n",
              "      <th>position_FB</th>\n",
              "      <th>position_HB</th>\n",
              "      <th>position_QB</th>\n",
              "      <th>position_RB</th>\n",
              "      <th>position_TE</th>\n",
              "      <th>position_WR</th>\n",
              "      <th>team_away</th>\n",
              "      <th>team_home</th>\n",
              "      <th>playDirection_left</th>\n",
              "      <th>playDirection_right</th>\n",
              "      <th>route_ANGLE</th>\n",
              "      <th>route_CORNER</th>\n",
              "      <th>route_CROSS</th>\n",
              "      <th>route_FLAT</th>\n",
              "      <th>route_GO</th>\n",
              "      <th>route_HITCH</th>\n",
              "      <th>route_IN</th>\n",
              "      <th>route_OUT</th>\n",
              "      <th>route_POST</th>\n",
              "      <th>route_SCREEN</th>\n",
              "      <th>route_SLANT</th>\n",
              "      <th>route_WHEEL</th>\n",
              "      <th>route_undefined</th>\n",
              "      <th>offenseFormation_EMPTY</th>\n",
              "      <th>offenseFormation_I_FORM</th>\n",
              "      <th>...</th>\n",
              "      <th>offenseFormation_WILDCAT</th>\n",
              "      <th>personnelO_0 RB, 0 TE, 5 WR</th>\n",
              "      <th>personnelO_0 RB, 1 TE, 4 WR</th>\n",
              "      <th>personnelO_1 RB, 0 TE, 4 WR</th>\n",
              "      <th>personnelO_1 RB, 1 TE, 3 WR</th>\n",
              "      <th>personnelO_1 RB, 2 TE, 2 WR</th>\n",
              "      <th>personnelO_1 RB, 3 TE, 1 WR</th>\n",
              "      <th>personnelO_2 QB, 1 RB, 1 TE, 2 WR</th>\n",
              "      <th>personnelO_2 RB, 0 TE, 3 WR</th>\n",
              "      <th>personnelO_2 RB, 1 TE, 2 WR</th>\n",
              "      <th>personnelO_2 RB, 2 TE, 1 WR</th>\n",
              "      <th>personnelO_3 RB, 1 TE, 1 WR</th>\n",
              "      <th>personnelO_6 OL, 1 RB, 1 TE, 2 WR</th>\n",
              "      <th>personnelO_6 OL, 1 RB, 2 TE, 1 WR</th>\n",
              "      <th>personnelO_6 OL, 2 RB, 1 TE, 0 WR,1 DL</th>\n",
              "      <th>personnelO_6 OL, 2 RB, 2 TE, 0 WR</th>\n",
              "      <th>personnelD_0 DL, 4 LB, 7 DB</th>\n",
              "      <th>personnelD_0 DL, 5 LB, 6 DB</th>\n",
              "      <th>personnelD_0 DL, 6 LB, 5 DB</th>\n",
              "      <th>personnelD_1 DL, 3 LB, 7 DB</th>\n",
              "      <th>personnelD_1 DL, 4 LB, 6 DB</th>\n",
              "      <th>personnelD_1 DL, 5 LB, 5 DB</th>\n",
              "      <th>personnelD_2 DL, 2 LB, 7 DB</th>\n",
              "      <th>personnelD_2 DL, 3 LB, 6 DB</th>\n",
              "      <th>personnelD_2 DL, 4 LB, 5 DB</th>\n",
              "      <th>personnelD_3 DL, 1 LB, 7 DB</th>\n",
              "      <th>personnelD_3 DL, 2 LB, 6 DB</th>\n",
              "      <th>personnelD_3 DL, 3 LB, 5 DB</th>\n",
              "      <th>personnelD_3 DL, 4 LB, 4 DB</th>\n",
              "      <th>personnelD_3 DL, 5 LB, 3 DB</th>\n",
              "      <th>personnelD_4 DL, 1 LB, 6 DB</th>\n",
              "      <th>personnelD_4 DL, 2 LB, 5 DB</th>\n",
              "      <th>personnelD_4 DL, 3 LB, 4 DB</th>\n",
              "      <th>personnelD_4 DL, 4 LB, 3 DB</th>\n",
              "      <th>personnelD_4 DL, 5 LB, 2 DB</th>\n",
              "      <th>personnelD_5 DL, 2 LB, 4 DB</th>\n",
              "      <th>passResult_C</th>\n",
              "      <th>passResult_I</th>\n",
              "      <th>passResult_IN</th>\n",
              "      <th>passResult_S</th>\n",
              "    </tr>\n",
              "  </thead>\n",
              "  <tbody>\n",
              "    <tr>\n",
              "      <th>0</th>\n",
              "      <td>0.00</td>\n",
              "      <td>1680</td>\n",
              "      <td>2</td>\n",
              "      <td>2</td>\n",
              "      <td>10</td>\n",
              "      <td>5</td>\n",
              "      <td>6.0</td>\n",
              "      <td>4.0</td>\n",
              "      <td>6.0</td>\n",
              "      <td>3.0</td>\n",
              "      <td>105.0</td>\n",
              "      <td>4</td>\n",
              "      <td>19</td>\n",
              "      <td>1.29905</td>\n",
              "      <td>False</td>\n",
              "      <td>0</td>\n",
              "      <td>0</td>\n",
              "      <td>0</td>\n",
              "      <td>1</td>\n",
              "      <td>0</td>\n",
              "      <td>0</td>\n",
              "      <td>0</td>\n",
              "      <td>1</td>\n",
              "      <td>1</td>\n",
              "      <td>0</td>\n",
              "      <td>0</td>\n",
              "      <td>0</td>\n",
              "      <td>0</td>\n",
              "      <td>0</td>\n",
              "      <td>0</td>\n",
              "      <td>0</td>\n",
              "      <td>0</td>\n",
              "      <td>0</td>\n",
              "      <td>0</td>\n",
              "      <td>0</td>\n",
              "      <td>0</td>\n",
              "      <td>1</td>\n",
              "      <td>0</td>\n",
              "      <td>0</td>\n",
              "      <td>0</td>\n",
              "      <td>...</td>\n",
              "      <td>0</td>\n",
              "      <td>0</td>\n",
              "      <td>0</td>\n",
              "      <td>0</td>\n",
              "      <td>1</td>\n",
              "      <td>0</td>\n",
              "      <td>0</td>\n",
              "      <td>0</td>\n",
              "      <td>0</td>\n",
              "      <td>0</td>\n",
              "      <td>0</td>\n",
              "      <td>0</td>\n",
              "      <td>0</td>\n",
              "      <td>0</td>\n",
              "      <td>0</td>\n",
              "      <td>0</td>\n",
              "      <td>0</td>\n",
              "      <td>0</td>\n",
              "      <td>0</td>\n",
              "      <td>0</td>\n",
              "      <td>0</td>\n",
              "      <td>0</td>\n",
              "      <td>0</td>\n",
              "      <td>0</td>\n",
              "      <td>0</td>\n",
              "      <td>0</td>\n",
              "      <td>0</td>\n",
              "      <td>1</td>\n",
              "      <td>0</td>\n",
              "      <td>0</td>\n",
              "      <td>0</td>\n",
              "      <td>0</td>\n",
              "      <td>0</td>\n",
              "      <td>0</td>\n",
              "      <td>0</td>\n",
              "      <td>0</td>\n",
              "      <td>1</td>\n",
              "      <td>0</td>\n",
              "      <td>0</td>\n",
              "      <td>0</td>\n",
              "    </tr>\n",
              "    <tr>\n",
              "      <th>1</th>\n",
              "      <td>0.00</td>\n",
              "      <td>1680</td>\n",
              "      <td>2</td>\n",
              "      <td>2</td>\n",
              "      <td>10</td>\n",
              "      <td>5</td>\n",
              "      <td>6.0</td>\n",
              "      <td>4.0</td>\n",
              "      <td>6.0</td>\n",
              "      <td>3.0</td>\n",
              "      <td>105.0</td>\n",
              "      <td>4</td>\n",
              "      <td>19</td>\n",
              "      <td>1.29905</td>\n",
              "      <td>False</td>\n",
              "      <td>0</td>\n",
              "      <td>0</td>\n",
              "      <td>0</td>\n",
              "      <td>0</td>\n",
              "      <td>0</td>\n",
              "      <td>1</td>\n",
              "      <td>0</td>\n",
              "      <td>1</td>\n",
              "      <td>1</td>\n",
              "      <td>0</td>\n",
              "      <td>0</td>\n",
              "      <td>0</td>\n",
              "      <td>0</td>\n",
              "      <td>0</td>\n",
              "      <td>0</td>\n",
              "      <td>0</td>\n",
              "      <td>0</td>\n",
              "      <td>0</td>\n",
              "      <td>1</td>\n",
              "      <td>0</td>\n",
              "      <td>0</td>\n",
              "      <td>0</td>\n",
              "      <td>0</td>\n",
              "      <td>0</td>\n",
              "      <td>0</td>\n",
              "      <td>...</td>\n",
              "      <td>0</td>\n",
              "      <td>0</td>\n",
              "      <td>0</td>\n",
              "      <td>0</td>\n",
              "      <td>1</td>\n",
              "      <td>0</td>\n",
              "      <td>0</td>\n",
              "      <td>0</td>\n",
              "      <td>0</td>\n",
              "      <td>0</td>\n",
              "      <td>0</td>\n",
              "      <td>0</td>\n",
              "      <td>0</td>\n",
              "      <td>0</td>\n",
              "      <td>0</td>\n",
              "      <td>0</td>\n",
              "      <td>0</td>\n",
              "      <td>0</td>\n",
              "      <td>0</td>\n",
              "      <td>0</td>\n",
              "      <td>0</td>\n",
              "      <td>0</td>\n",
              "      <td>0</td>\n",
              "      <td>0</td>\n",
              "      <td>0</td>\n",
              "      <td>0</td>\n",
              "      <td>0</td>\n",
              "      <td>1</td>\n",
              "      <td>0</td>\n",
              "      <td>0</td>\n",
              "      <td>0</td>\n",
              "      <td>0</td>\n",
              "      <td>0</td>\n",
              "      <td>0</td>\n",
              "      <td>0</td>\n",
              "      <td>0</td>\n",
              "      <td>1</td>\n",
              "      <td>0</td>\n",
              "      <td>0</td>\n",
              "      <td>0</td>\n",
              "    </tr>\n",
              "    <tr>\n",
              "      <th>2</th>\n",
              "      <td>0.00</td>\n",
              "      <td>1680</td>\n",
              "      <td>2</td>\n",
              "      <td>2</td>\n",
              "      <td>10</td>\n",
              "      <td>5</td>\n",
              "      <td>6.0</td>\n",
              "      <td>4.0</td>\n",
              "      <td>6.0</td>\n",
              "      <td>3.0</td>\n",
              "      <td>105.0</td>\n",
              "      <td>4</td>\n",
              "      <td>19</td>\n",
              "      <td>1.29905</td>\n",
              "      <td>False</td>\n",
              "      <td>0</td>\n",
              "      <td>0</td>\n",
              "      <td>0</td>\n",
              "      <td>0</td>\n",
              "      <td>1</td>\n",
              "      <td>0</td>\n",
              "      <td>0</td>\n",
              "      <td>1</td>\n",
              "      <td>1</td>\n",
              "      <td>0</td>\n",
              "      <td>0</td>\n",
              "      <td>0</td>\n",
              "      <td>0</td>\n",
              "      <td>0</td>\n",
              "      <td>0</td>\n",
              "      <td>0</td>\n",
              "      <td>0</td>\n",
              "      <td>0</td>\n",
              "      <td>1</td>\n",
              "      <td>0</td>\n",
              "      <td>0</td>\n",
              "      <td>0</td>\n",
              "      <td>0</td>\n",
              "      <td>0</td>\n",
              "      <td>0</td>\n",
              "      <td>...</td>\n",
              "      <td>0</td>\n",
              "      <td>0</td>\n",
              "      <td>0</td>\n",
              "      <td>0</td>\n",
              "      <td>1</td>\n",
              "      <td>0</td>\n",
              "      <td>0</td>\n",
              "      <td>0</td>\n",
              "      <td>0</td>\n",
              "      <td>0</td>\n",
              "      <td>0</td>\n",
              "      <td>0</td>\n",
              "      <td>0</td>\n",
              "      <td>0</td>\n",
              "      <td>0</td>\n",
              "      <td>0</td>\n",
              "      <td>0</td>\n",
              "      <td>0</td>\n",
              "      <td>0</td>\n",
              "      <td>0</td>\n",
              "      <td>0</td>\n",
              "      <td>0</td>\n",
              "      <td>0</td>\n",
              "      <td>0</td>\n",
              "      <td>0</td>\n",
              "      <td>0</td>\n",
              "      <td>0</td>\n",
              "      <td>1</td>\n",
              "      <td>0</td>\n",
              "      <td>0</td>\n",
              "      <td>0</td>\n",
              "      <td>0</td>\n",
              "      <td>0</td>\n",
              "      <td>0</td>\n",
              "      <td>0</td>\n",
              "      <td>0</td>\n",
              "      <td>1</td>\n",
              "      <td>0</td>\n",
              "      <td>0</td>\n",
              "      <td>0</td>\n",
              "    </tr>\n",
              "    <tr>\n",
              "      <th>3</th>\n",
              "      <td>0.59</td>\n",
              "      <td>1680</td>\n",
              "      <td>2</td>\n",
              "      <td>2</td>\n",
              "      <td>10</td>\n",
              "      <td>5</td>\n",
              "      <td>6.0</td>\n",
              "      <td>4.0</td>\n",
              "      <td>6.0</td>\n",
              "      <td>3.0</td>\n",
              "      <td>105.0</td>\n",
              "      <td>4</td>\n",
              "      <td>19</td>\n",
              "      <td>1.29905</td>\n",
              "      <td>False</td>\n",
              "      <td>0</td>\n",
              "      <td>0</td>\n",
              "      <td>0</td>\n",
              "      <td>0</td>\n",
              "      <td>0</td>\n",
              "      <td>1</td>\n",
              "      <td>0</td>\n",
              "      <td>1</td>\n",
              "      <td>1</td>\n",
              "      <td>0</td>\n",
              "      <td>0</td>\n",
              "      <td>0</td>\n",
              "      <td>1</td>\n",
              "      <td>0</td>\n",
              "      <td>0</td>\n",
              "      <td>0</td>\n",
              "      <td>0</td>\n",
              "      <td>0</td>\n",
              "      <td>0</td>\n",
              "      <td>0</td>\n",
              "      <td>0</td>\n",
              "      <td>0</td>\n",
              "      <td>0</td>\n",
              "      <td>0</td>\n",
              "      <td>0</td>\n",
              "      <td>...</td>\n",
              "      <td>0</td>\n",
              "      <td>0</td>\n",
              "      <td>0</td>\n",
              "      <td>0</td>\n",
              "      <td>1</td>\n",
              "      <td>0</td>\n",
              "      <td>0</td>\n",
              "      <td>0</td>\n",
              "      <td>0</td>\n",
              "      <td>0</td>\n",
              "      <td>0</td>\n",
              "      <td>0</td>\n",
              "      <td>0</td>\n",
              "      <td>0</td>\n",
              "      <td>0</td>\n",
              "      <td>0</td>\n",
              "      <td>0</td>\n",
              "      <td>0</td>\n",
              "      <td>0</td>\n",
              "      <td>0</td>\n",
              "      <td>0</td>\n",
              "      <td>0</td>\n",
              "      <td>0</td>\n",
              "      <td>0</td>\n",
              "      <td>0</td>\n",
              "      <td>0</td>\n",
              "      <td>0</td>\n",
              "      <td>1</td>\n",
              "      <td>0</td>\n",
              "      <td>0</td>\n",
              "      <td>0</td>\n",
              "      <td>0</td>\n",
              "      <td>0</td>\n",
              "      <td>0</td>\n",
              "      <td>0</td>\n",
              "      <td>0</td>\n",
              "      <td>1</td>\n",
              "      <td>0</td>\n",
              "      <td>0</td>\n",
              "      <td>0</td>\n",
              "    </tr>\n",
              "    <tr>\n",
              "      <th>4</th>\n",
              "      <td>0.00</td>\n",
              "      <td>1680</td>\n",
              "      <td>2</td>\n",
              "      <td>2</td>\n",
              "      <td>10</td>\n",
              "      <td>5</td>\n",
              "      <td>6.0</td>\n",
              "      <td>4.0</td>\n",
              "      <td>6.0</td>\n",
              "      <td>3.0</td>\n",
              "      <td>105.0</td>\n",
              "      <td>4</td>\n",
              "      <td>19</td>\n",
              "      <td>1.29905</td>\n",
              "      <td>False</td>\n",
              "      <td>0</td>\n",
              "      <td>0</td>\n",
              "      <td>0</td>\n",
              "      <td>0</td>\n",
              "      <td>0</td>\n",
              "      <td>1</td>\n",
              "      <td>0</td>\n",
              "      <td>1</td>\n",
              "      <td>1</td>\n",
              "      <td>0</td>\n",
              "      <td>0</td>\n",
              "      <td>0</td>\n",
              "      <td>0</td>\n",
              "      <td>0</td>\n",
              "      <td>0</td>\n",
              "      <td>0</td>\n",
              "      <td>0</td>\n",
              "      <td>0</td>\n",
              "      <td>1</td>\n",
              "      <td>0</td>\n",
              "      <td>0</td>\n",
              "      <td>0</td>\n",
              "      <td>0</td>\n",
              "      <td>0</td>\n",
              "      <td>0</td>\n",
              "      <td>...</td>\n",
              "      <td>0</td>\n",
              "      <td>0</td>\n",
              "      <td>0</td>\n",
              "      <td>0</td>\n",
              "      <td>1</td>\n",
              "      <td>0</td>\n",
              "      <td>0</td>\n",
              "      <td>0</td>\n",
              "      <td>0</td>\n",
              "      <td>0</td>\n",
              "      <td>0</td>\n",
              "      <td>0</td>\n",
              "      <td>0</td>\n",
              "      <td>0</td>\n",
              "      <td>0</td>\n",
              "      <td>0</td>\n",
              "      <td>0</td>\n",
              "      <td>0</td>\n",
              "      <td>0</td>\n",
              "      <td>0</td>\n",
              "      <td>0</td>\n",
              "      <td>0</td>\n",
              "      <td>0</td>\n",
              "      <td>0</td>\n",
              "      <td>0</td>\n",
              "      <td>0</td>\n",
              "      <td>0</td>\n",
              "      <td>1</td>\n",
              "      <td>0</td>\n",
              "      <td>0</td>\n",
              "      <td>0</td>\n",
              "      <td>0</td>\n",
              "      <td>0</td>\n",
              "      <td>0</td>\n",
              "      <td>0</td>\n",
              "      <td>0</td>\n",
              "      <td>1</td>\n",
              "      <td>0</td>\n",
              "      <td>0</td>\n",
              "      <td>0</td>\n",
              "    </tr>\n",
              "  </tbody>\n",
              "</table>\n",
              "<p>5 rows × 84 columns</p>\n",
              "</div>"
            ],
            "text/plain": [
              "    dis  playId  quarter  ...  passResult_I  passResult_IN  passResult_S\n",
              "0  0.00    1680        2  ...             0              0             0\n",
              "1  0.00    1680        2  ...             0              0             0\n",
              "2  0.00    1680        2  ...             0              0             0\n",
              "3  0.59    1680        2  ...             0              0             0\n",
              "4  0.00    1680        2  ...             0              0             0\n",
              "\n",
              "[5 rows x 84 columns]"
            ]
          },
          "metadata": {
            "tags": []
          },
          "execution_count": 14
        }
      ]
    },
    {
      "cell_type": "code",
      "metadata": {
        "id": "Szg8nKYz1ta-"
      },
      "source": [
        "# Set features. This will also be used as your x values.\n",
        "selected_features = df[['quarter', 'down', 'yardsToGo', 'defendersInTheBox', 'numberOfPassRushers', 'isDefensivePI',\n",
        "                        'offenseFormation_EMPTY',\t'offenseFormation_I_FORM',\t'offenseFormation_JUMBO',\t'offenseFormation_PISTOL',\t'offenseFormation_SHOTGUN',\t'offenseFormation_SINGLEBACK',\n",
        "                        'offenseFormation_WILDCAT',\t'personnelO_0 RB, 0 TE, 5 WR',\t'personnelO_0 RB, 1 TE, 4 WR',\t'personnelO_1 RB, 0 TE, 4 WR',\t'personnelO_1 RB, 1 TE, 3 WR',\t'personnelO_1 RB, 2 TE, 2 WR',\t\n",
        "                        'personnelO_1 RB, 3 TE, 1 WR',\t'personnelO_2 QB, 1 RB, 1 TE, 2 WR',\t'personnelO_2 RB, 0 TE, 3 WR',\t'personnelO_2 RB, 1 TE, 2 WR',\t'personnelO_2 RB, 2 TE, 1 WR',\n",
        "                        'personnelO_3 RB, 1 TE, 1 WR',\t'personnelO_6 OL, 1 RB, 1 TE, 2 WR',\t'personnelO_6 OL, 1 RB, 2 TE, 1 WR',\t'personnelO_6 OL, 2 RB, 1 TE, 0 WR,1 DL',\t'personnelO_6 OL, 2 RB, 2 TE, 0 WR',\n",
        "                        'personnelD_0 DL, 4 LB, 7 DB',\t'personnelD_0 DL, 5 LB, 6 DB',\t'personnelD_0 DL, 6 LB, 5 DB',\t'personnelD_1 DL, 3 LB, 7 DB',\t'personnelD_1 DL, 4 LB, 6 DB',\n",
        "                        'personnelD_1 DL, 5 LB, 5 DB',\t'personnelD_2 DL, 2 LB, 7 DB',\t'personnelD_2 DL, 3 LB, 6 DB',\t'personnelD_2 DL, 4 LB, 5 DB',\t'personnelD_3 DL, 1 LB, 7 DB',\n",
        "                        'personnelD_3 DL, 2 LB, 6 DB',\t'personnelD_3 DL, 3 LB, 5 DB',\t'personnelD_3 DL, 4 LB, 4 DB',\t'personnelD_3 DL, 5 LB, 3 DB',\t'personnelD_4 DL, 1 LB, 6 DB',\n",
        "                        'personnelD_4 DL, 2 LB, 5 DB',\t'personnelD_4 DL, 3 LB, 4 DB',\t'personnelD_4 DL, 4 LB, 3 DB',\t'personnelD_4 DL, 5 LB, 2 DB',\t'personnelD_5 DL, 2 LB, 4 DB'\t]]"
      ],
      "execution_count": 15,
      "outputs": []
    },
    {
      "cell_type": "code",
      "metadata": {
        "id": "lnncRLUq73WA"
      },
      "source": [
        "defensive_features = df[['personnelD_0 DL, 4 LB, 7 DB',\t'personnelD_0 DL, 5 LB, 6 DB',\t'personnelD_0 DL, 6 LB, 5 DB',\t'personnelD_1 DL, 3 LB, 7 DB',\t'personnelD_1 DL, 4 LB, 6 DB',\n",
        "                        'personnelD_1 DL, 5 LB, 5 DB',\t'personnelD_2 DL, 2 LB, 7 DB',\t'personnelD_2 DL, 3 LB, 6 DB',\t'personnelD_2 DL, 4 LB, 5 DB',\t'personnelD_3 DL, 1 LB, 7 DB',\n",
        "                        'personnelD_3 DL, 2 LB, 6 DB',\t'personnelD_3 DL, 3 LB, 5 DB',\t'personnelD_3 DL, 4 LB, 4 DB',\t'personnelD_3 DL, 5 LB, 3 DB',\t'personnelD_4 DL, 1 LB, 6 DB',\n",
        "                        'personnelD_4 DL, 2 LB, 5 DB',\t'personnelD_4 DL, 3 LB, 4 DB',\t'personnelD_4 DL, 4 LB, 3 DB',\t'personnelD_4 DL, 5 LB, 2 DB',\t'personnelD_5 DL, 2 LB, 4 DB']]"
      ],
      "execution_count": 16,
      "outputs": []
    },
    {
      "cell_type": "code",
      "metadata": {
        "id": "a9mb-RHF-LX4"
      },
      "source": [
        "offensive_features = df[['offenseFormation_EMPTY',\t'offenseFormation_I_FORM',\t'offenseFormation_JUMBO',\t'offenseFormation_PISTOL',\t'offenseFormation_SHOTGUN',\t'offenseFormation_SINGLEBACK',\n",
        "                        'offenseFormation_WILDCAT',\t'personnelO_0 RB, 0 TE, 5 WR',\t'personnelO_0 RB, 1 TE, 4 WR',\t'personnelO_1 RB, 0 TE, 4 WR',\t'personnelO_1 RB, 1 TE, 3 WR',\t'personnelO_1 RB, 2 TE, 2 WR',\t\n",
        "                        'personnelO_1 RB, 3 TE, 1 WR',\t'personnelO_2 QB, 1 RB, 1 TE, 2 WR',\t'personnelO_2 RB, 0 TE, 3 WR',\t'personnelO_2 RB, 1 TE, 2 WR',\t'personnelO_2 RB, 2 TE, 1 WR',\n",
        "                        'personnelO_3 RB, 1 TE, 1 WR',\t'personnelO_6 OL, 1 RB, 1 TE, 2 WR',\t'personnelO_6 OL, 1 RB, 2 TE, 1 WR',\t'personnelO_6 OL, 2 RB, 1 TE, 0 WR,1 DL',\t'personnelO_6 OL, 2 RB, 2 TE, 0 WR',]]"
      ],
      "execution_count": 17,
      "outputs": []
    },
    {
      "cell_type": "markdown",
      "metadata": {
        "id": "n80d9nvM74Pw"
      },
      "source": [
        "**Completion Predictions**"
      ]
    },
    {
      "cell_type": "markdown",
      "metadata": {
        "id": "_FLBax8KfHb-"
      },
      "source": [
        "Logistic Regression-----"
      ]
    },
    {
      "cell_type": "code",
      "metadata": {
        "id": "gKGWvLI7hWax"
      },
      "source": [
        "#import sklearn dependencies\n",
        "from sklearn.model_selection import train_test_split\n",
        "from sklearn.preprocessing import MinMaxScaler\n",
        "from sklearn.linear_model import LogisticRegression"
      ],
      "execution_count": 18,
      "outputs": []
    },
    {
      "cell_type": "code",
      "metadata": {
        "id": "NGhjXWM91ta-"
      },
      "source": [
        "# logistic regression on complete passes\n",
        "y = df[\"passResult_C\"]\n",
        "X = selected_features\n",
        "\n",
        "X_train, X_test, y_train, y_test = train_test_split(X, y, random_state=1, stratify=y)"
      ],
      "execution_count": 19,
      "outputs": []
    },
    {
      "cell_type": "code",
      "metadata": {
        "id": "mdKbdJpe1ta-"
      },
      "source": [
        "X_scaler = MinMaxScaler().fit(X_train)\n",
        "\n",
        "X_train_scaled = X_scaler.transform(X_train)\n",
        "X_test_scaled = X_scaler.transform(X_test)"
      ],
      "execution_count": 20,
      "outputs": []
    },
    {
      "cell_type": "code",
      "metadata": {
        "id": "gH5e1W4S1ta-",
        "colab": {
          "base_uri": "https://localhost:8080/"
        },
        "outputId": "b3750e2d-5348-444f-c704-84a1cf568ab5"
      },
      "source": [
        "model = LogisticRegression(max_iter=1000)\n",
        "model.fit(X_train_scaled, y_train)"
      ],
      "execution_count": 21,
      "outputs": [
        {
          "output_type": "execute_result",
          "data": {
            "text/plain": [
              "LogisticRegression(C=1.0, class_weight=None, dual=False, fit_intercept=True,\n",
              "                   intercept_scaling=1, l1_ratio=None, max_iter=1000,\n",
              "                   multi_class='auto', n_jobs=None, penalty='l2',\n",
              "                   random_state=None, solver='lbfgs', tol=0.0001, verbose=0,\n",
              "                   warm_start=False)"
            ]
          },
          "metadata": {
            "tags": []
          },
          "execution_count": 21
        }
      ]
    },
    {
      "cell_type": "code",
      "metadata": {
        "id": "9FY0qMFj1ta-",
        "colab": {
          "base_uri": "https://localhost:8080/"
        },
        "outputId": "3592e45d-52c1-4f0e-a2fc-601cff880987"
      },
      "source": [
        "print(f\"Training Data Score: {model.score(X_train_scaled, y_train)}\")\n",
        "print(f\"Testing Data Score: {model.score(X_test_scaled, y_test)}\")"
      ],
      "execution_count": 22,
      "outputs": [
        {
          "output_type": "stream",
          "text": [
            "Training Data Score: 0.7214973850812001\n",
            "Testing Data Score: 0.7213546346984276\n"
          ],
          "name": "stdout"
        }
      ]
    },
    {
      "cell_type": "code",
      "metadata": {
        "colab": {
          "base_uri": "https://localhost:8080/"
        },
        "id": "0f8QfIB2bAzW",
        "outputId": "d15a833e-78d8-46a5-ce9b-299fc4a75986"
      },
      "source": [
        "import joblib\n",
        "filename = 'logistic_regression_complete.sav'\n",
        "joblib.dump(model, filename)"
      ],
      "execution_count": 23,
      "outputs": [
        {
          "output_type": "execute_result",
          "data": {
            "text/plain": [
              "['logistic_regression_complete.sav']"
            ]
          },
          "metadata": {
            "tags": []
          },
          "execution_count": 23
        }
      ]
    },
    {
      "cell_type": "code",
      "metadata": {
        "colab": {
          "base_uri": "https://localhost:8080/"
        },
        "id": "TkVMDpfCbA4w",
        "outputId": "f3e145a4-b70f-426a-c2fb-92f3e805aeaa"
      },
      "source": [
        "logistic_regression_complete = joblib.load(filename)\n",
        "logistic_regression_complete"
      ],
      "execution_count": 24,
      "outputs": [
        {
          "output_type": "execute_result",
          "data": {
            "text/plain": [
              "LogisticRegression(C=1.0, class_weight=None, dual=False, fit_intercept=True,\n",
              "                   intercept_scaling=1, l1_ratio=None, max_iter=1000,\n",
              "                   multi_class='auto', n_jobs=None, penalty='l2',\n",
              "                   random_state=None, solver='lbfgs', tol=0.0001, verbose=0,\n",
              "                   warm_start=False)"
            ]
          },
          "metadata": {
            "tags": []
          },
          "execution_count": 24
        }
      ]
    },
    {
      "cell_type": "markdown",
      "metadata": {
        "id": "hE7_Cu9hfSUx"
      },
      "source": [
        "Random Forest Classifier"
      ]
    },
    {
      "cell_type": "code",
      "metadata": {
        "id": "aaFLUe-11ta-",
        "colab": {
          "base_uri": "https://localhost:8080/"
        },
        "outputId": "7c93fe98-9dd6-485e-b295-21b55982a7af"
      },
      "source": [
        "# random forest on complete passes\n",
        "from sklearn.ensemble import RandomForestClassifier\n",
        "rf = RandomForestClassifier(n_estimators=100)\n",
        "rf = rf.fit(X_train, y_train)\n",
        "rf.score(X_test, y_test)"
      ],
      "execution_count": 25,
      "outputs": [
        {
          "output_type": "execute_result",
          "data": {
            "text/plain": [
              "0.9779619276148657"
            ]
          },
          "metadata": {
            "tags": []
          },
          "execution_count": 25
        }
      ]
    },
    {
      "cell_type": "code",
      "metadata": {
        "id": "Pco2SaJOfCKn",
        "colab": {
          "base_uri": "https://localhost:8080/"
        },
        "outputId": "a2cfbe76-107a-439f-93c4-24587ded255b"
      },
      "source": [
        "sorted(zip(rf.feature_importances_, selected_features), reverse=True)"
      ],
      "execution_count": 26,
      "outputs": [
        {
          "output_type": "execute_result",
          "data": {
            "text/plain": [
              "[(0.22753190202647403, 'yardsToGo'),\n",
              " (0.13260708909540966, 'quarter'),\n",
              " (0.11784006261999175, 'defendersInTheBox'),\n",
              " (0.10807029949073453, 'numberOfPassRushers'),\n",
              " (0.0824972397935335, 'down'),\n",
              " (0.027395559674165185, 'personnelD_3 DL, 3 LB, 5 DB'),\n",
              " (0.026595022380333982, 'personnelD_4 DL, 2 LB, 5 DB'),\n",
              " (0.022985548065873215, 'personnelD_2 DL, 4 LB, 5 DB'),\n",
              " (0.021673302553274293, 'personnelD_4 DL, 1 LB, 6 DB'),\n",
              " (0.018526595206896434, 'offenseFormation_SHOTGUN'),\n",
              " (0.01843196548743937, 'isDefensivePI'),\n",
              " (0.0176338415528003, 'personnelO_1 RB, 1 TE, 3 WR'),\n",
              " (0.016342765662226297, 'personnelD_3 DL, 2 LB, 6 DB'),\n",
              " (0.01627035607871528, 'offenseFormation_EMPTY'),\n",
              " (0.014011143332421452, 'personnelD_2 DL, 3 LB, 6 DB'),\n",
              " (0.01364569584563187, 'offenseFormation_SINGLEBACK'),\n",
              " (0.013590297945453382, 'personnelO_1 RB, 2 TE, 2 WR'),\n",
              " (0.012251991065114315, 'personnelD_4 DL, 3 LB, 4 DB'),\n",
              " (0.0104205601733813, 'personnelO_1 RB, 0 TE, 4 WR'),\n",
              " (0.008499959271349737, 'personnelO_2 RB, 1 TE, 2 WR'),\n",
              " (0.007457234231686946, 'personnelD_1 DL, 4 LB, 6 DB'),\n",
              " (0.006957396451484871, 'personnelD_1 DL, 3 LB, 7 DB'),\n",
              " (0.0063102976975290435, 'offenseFormation_I_FORM'),\n",
              " (0.00577958661455793, 'personnelD_3 DL, 4 LB, 4 DB'),\n",
              " (0.005559771736224903, 'personnelO_0 RB, 1 TE, 4 WR'),\n",
              " (0.005395108793071281, 'personnelD_2 DL, 2 LB, 7 DB'),\n",
              " (0.005279136823363721, 'personnelD_5 DL, 2 LB, 4 DB'),\n",
              " (0.0048165532058634455, 'offenseFormation_PISTOL'),\n",
              " (0.0037501267224414993, 'personnelD_1 DL, 5 LB, 5 DB'),\n",
              " (0.0033351886372377793, 'personnelO_2 RB, 0 TE, 3 WR'),\n",
              " (0.002781654156650074, 'personnelO_1 RB, 3 TE, 1 WR'),\n",
              " (0.002416171029509432, 'offenseFormation_WILDCAT'),\n",
              " (0.0021702943200717813, 'personnelD_0 DL, 6 LB, 5 DB'),\n",
              " (0.0018831132968707572, 'personnelD_0 DL, 5 LB, 6 DB'),\n",
              " (0.0015959824500405865, 'personnelO_2 QB, 1 RB, 1 TE, 2 WR'),\n",
              " (0.00135821482969879, 'personnelO_2 RB, 2 TE, 1 WR'),\n",
              " (0.0013556426772451612, 'personnelD_4 DL, 5 LB, 2 DB'),\n",
              " (0.0009111160733669797, 'offenseFormation_JUMBO'),\n",
              " (0.0008138052744386532, 'personnelO_6 OL, 1 RB, 1 TE, 2 WR'),\n",
              " (0.000585407069416123, 'personnelD_4 DL, 4 LB, 3 DB'),\n",
              " (0.0005678681787789953, 'personnelD_3 DL, 1 LB, 7 DB'),\n",
              " (0.0004975507010095649, 'personnelO_3 RB, 1 TE, 1 WR'),\n",
              " (0.0003868526505170669, 'personnelD_0 DL, 4 LB, 7 DB'),\n",
              " (0.00030806167750801686, 'personnelO_6 OL, 2 RB, 2 TE, 0 WR'),\n",
              " (0.00030479272251733526, 'personnelO_6 OL, 2 RB, 1 TE, 0 WR,1 DL'),\n",
              " (0.00021859353989414038, 'personnelO_6 OL, 1 RB, 2 TE, 1 WR'),\n",
              " (0.00020462967217902876, 'personnelD_3 DL, 5 LB, 3 DB'),\n",
              " (0.0001786514456062324, 'personnelO_0 RB, 0 TE, 5 WR')]"
            ]
          },
          "metadata": {
            "tags": []
          },
          "execution_count": 26
        }
      ]
    },
    {
      "cell_type": "code",
      "metadata": {
        "colab": {
          "base_uri": "https://localhost:8080/"
        },
        "id": "IdE_IffTgRKa",
        "outputId": "f7a6b599-15f2-45d5-ddc1-c29e1f46fca3"
      },
      "source": [
        "filename = 'random_forest_complete.sav'\n",
        "joblib.dump(rf, filename)"
      ],
      "execution_count": 27,
      "outputs": [
        {
          "output_type": "execute_result",
          "data": {
            "text/plain": [
              "['random_forest_complete.sav']"
            ]
          },
          "metadata": {
            "tags": []
          },
          "execution_count": 27
        }
      ]
    },
    {
      "cell_type": "code",
      "metadata": {
        "colab": {
          "base_uri": "https://localhost:8080/"
        },
        "id": "x75a2QqrgX2y",
        "outputId": "67a0b370-4fc5-4211-e79d-f3436d584b47"
      },
      "source": [
        "random_forest_complete = joblib.load(filename)\n",
        "random_forest_complete"
      ],
      "execution_count": 28,
      "outputs": [
        {
          "output_type": "execute_result",
          "data": {
            "text/plain": [
              "RandomForestClassifier(bootstrap=True, ccp_alpha=0.0, class_weight=None,\n",
              "                       criterion='gini', max_depth=None, max_features='auto',\n",
              "                       max_leaf_nodes=None, max_samples=None,\n",
              "                       min_impurity_decrease=0.0, min_impurity_split=None,\n",
              "                       min_samples_leaf=1, min_samples_split=2,\n",
              "                       min_weight_fraction_leaf=0.0, n_estimators=100,\n",
              "                       n_jobs=None, oob_score=False, random_state=None,\n",
              "                       verbose=0, warm_start=False)"
            ]
          },
          "metadata": {
            "tags": []
          },
          "execution_count": 28
        }
      ]
    },
    {
      "cell_type": "markdown",
      "metadata": {
        "id": "X45gDQoK8BIV"
      },
      "source": [
        "**Incomplete Predictions**"
      ]
    },
    {
      "cell_type": "markdown",
      "metadata": {
        "id": "bS6vvPkgft5B"
      },
      "source": [
        "Logistic Regression"
      ]
    },
    {
      "cell_type": "code",
      "metadata": {
        "id": "eENyUFxk1ta-"
      },
      "source": [
        "# logistic regression on incomplete passes\n",
        "y = df[\"passResult_I\"]\n",
        "X = selected_features\n",
        "\n",
        "X_train, X_test, y_train, y_test = train_test_split(X, y, random_state=1, stratify=y)"
      ],
      "execution_count": 29,
      "outputs": []
    },
    {
      "cell_type": "code",
      "metadata": {
        "id": "Hdn8n63C1ta-"
      },
      "source": [
        "\n",
        "X_scaler = MinMaxScaler().fit(X_train)\n",
        "\n",
        "X_train_scaled = X_scaler.transform(X_train)\n",
        "X_test_scaled = X_scaler.transform(X_test)"
      ],
      "execution_count": 30,
      "outputs": []
    },
    {
      "cell_type": "code",
      "metadata": {
        "id": "L9BhnBrg8LhR",
        "colab": {
          "base_uri": "https://localhost:8080/"
        },
        "outputId": "766672a2-a3e7-4e24-bb0b-2b55852ad4c8"
      },
      "source": [
        "model = LogisticRegression(max_iter=1000)\n",
        "model.fit(X_train_scaled, y_train)"
      ],
      "execution_count": 31,
      "outputs": [
        {
          "output_type": "execute_result",
          "data": {
            "text/plain": [
              "LogisticRegression(C=1.0, class_weight=None, dual=False, fit_intercept=True,\n",
              "                   intercept_scaling=1, l1_ratio=None, max_iter=1000,\n",
              "                   multi_class='auto', n_jobs=None, penalty='l2',\n",
              "                   random_state=None, solver='lbfgs', tol=0.0001, verbose=0,\n",
              "                   warm_start=False)"
            ]
          },
          "metadata": {
            "tags": []
          },
          "execution_count": 31
        }
      ]
    },
    {
      "cell_type": "code",
      "metadata": {
        "id": "6et3u9KA8Ms_",
        "colab": {
          "base_uri": "https://localhost:8080/"
        },
        "outputId": "2f8c953e-d9a2-4d47-a181-06adca6280cd"
      },
      "source": [
        "print(f\"Training Data Score: {model.score(X_train_scaled, y_train)}\")\n",
        "print(f\"Testing Data Score: {model.score(X_test_scaled, y_test)}\")"
      ],
      "execution_count": 32,
      "outputs": [
        {
          "output_type": "stream",
          "text": [
            "Training Data Score: 0.7959731869626463\n",
            "Testing Data Score: 0.7970573805927013\n"
          ],
          "name": "stdout"
        }
      ]
    },
    {
      "cell_type": "code",
      "metadata": {
        "colab": {
          "base_uri": "https://localhost:8080/"
        },
        "id": "mwrnkyzFdeOl",
        "outputId": "82d137cd-d34a-4024-df9b-219867a703a7"
      },
      "source": [
        "filename = 'logistic_regression_incomplete.sav'\n",
        "joblib.dump(model, filename)"
      ],
      "execution_count": 33,
      "outputs": [
        {
          "output_type": "execute_result",
          "data": {
            "text/plain": [
              "['logistic_regression_incomplete.sav']"
            ]
          },
          "metadata": {
            "tags": []
          },
          "execution_count": 33
        }
      ]
    },
    {
      "cell_type": "code",
      "metadata": {
        "colab": {
          "base_uri": "https://localhost:8080/"
        },
        "id": "czrgGlsYdeRT",
        "outputId": "10d46fb8-5d46-48d5-8d4b-9ce935be36ad"
      },
      "source": [
        "logistic_regression_incomplete = joblib.load(filename)\n",
        "logistic_regression_incomplete"
      ],
      "execution_count": 34,
      "outputs": [
        {
          "output_type": "execute_result",
          "data": {
            "text/plain": [
              "LogisticRegression(C=1.0, class_weight=None, dual=False, fit_intercept=True,\n",
              "                   intercept_scaling=1, l1_ratio=None, max_iter=1000,\n",
              "                   multi_class='auto', n_jobs=None, penalty='l2',\n",
              "                   random_state=None, solver='lbfgs', tol=0.0001, verbose=0,\n",
              "                   warm_start=False)"
            ]
          },
          "metadata": {
            "tags": []
          },
          "execution_count": 34
        }
      ]
    },
    {
      "cell_type": "markdown",
      "metadata": {
        "id": "IAmiixGTgM6S"
      },
      "source": [
        "Random Forest Classifier"
      ]
    },
    {
      "cell_type": "code",
      "metadata": {
        "id": "K9r8M9xm8OGu",
        "colab": {
          "base_uri": "https://localhost:8080/"
        },
        "outputId": "f27d29b3-b056-4bd7-c7d9-985435238800"
      },
      "source": [
        "# random forest on incomplete passes\n",
        "rf = RandomForestClassifier(n_estimators=100)\n",
        "rf = rf.fit(X_train, y_train)\n",
        "rf.score(X_test, y_test)"
      ],
      "execution_count": 35,
      "outputs": [
        {
          "output_type": "execute_result",
          "data": {
            "text/plain": [
              "0.9910040753675845"
            ]
          },
          "metadata": {
            "tags": []
          },
          "execution_count": 35
        }
      ]
    },
    {
      "cell_type": "code",
      "metadata": {
        "id": "kxKOUqJg8PiX",
        "colab": {
          "base_uri": "https://localhost:8080/"
        },
        "outputId": "f805ad66-c0e3-4cd4-bffa-d3ec337c3f6b"
      },
      "source": [
        "sorted(zip(rf.feature_importances_, selected_features), reverse=True)"
      ],
      "execution_count": 36,
      "outputs": [
        {
          "output_type": "execute_result",
          "data": {
            "text/plain": [
              "[(0.24105711261269924, 'yardsToGo'),\n",
              " (0.13715480851679196, 'quarter'),\n",
              " (0.12342773110263339, 'numberOfPassRushers'),\n",
              " (0.10574118680668045, 'defendersInTheBox'),\n",
              " (0.07879299349130264, 'down'),\n",
              " (0.03272252539241344, 'personnelD_4 DL, 2 LB, 5 DB'),\n",
              " (0.025026805956254193, 'personnelD_4 DL, 1 LB, 6 DB'),\n",
              " (0.02098825566239996, 'personnelD_3 DL, 3 LB, 5 DB'),\n",
              " (0.020824098080972308, 'offenseFormation_SHOTGUN'),\n",
              " (0.018666900689708534, 'personnelD_2 DL, 4 LB, 5 DB'),\n",
              " (0.018481763103265304, 'offenseFormation_EMPTY'),\n",
              " (0.016734737363846456, 'personnelO_1 RB, 1 TE, 3 WR'),\n",
              " (0.015161474234036527, 'personnelD_3 DL, 2 LB, 6 DB'),\n",
              " (0.013721022521635547, 'personnelD_1 DL, 3 LB, 7 DB'),\n",
              " (0.012608493240015683, 'personnelD_2 DL, 2 LB, 7 DB'),\n",
              " (0.012059040662157206, 'personnelO_1 RB, 2 TE, 2 WR'),\n",
              " (0.01156663277504459, 'isDefensivePI'),\n",
              " (0.011254503681437282, 'personnelD_4 DL, 3 LB, 4 DB'),\n",
              " (0.011110697809377859, 'offenseFormation_SINGLEBACK'),\n",
              " (0.009527889817294376, 'personnelO_1 RB, 0 TE, 4 WR'),\n",
              " (0.007284952039081471, 'personnelD_2 DL, 3 LB, 6 DB'),\n",
              " (0.00675514146981884, 'personnelD_5 DL, 2 LB, 4 DB'),\n",
              " (0.006129391315597382, 'personnelO_2 RB, 1 TE, 2 WR'),\n",
              " (0.005354799379806623, 'personnelO_2 RB, 0 TE, 3 WR'),\n",
              " (0.005107243027483955, 'personnelD_3 DL, 4 LB, 4 DB'),\n",
              " (0.005082368192446023, 'personnelD_1 DL, 4 LB, 6 DB'),\n",
              " (0.004604907013285522, 'offenseFormation_I_FORM'),\n",
              " (0.004240016532381986, 'personnelO_0 RB, 1 TE, 4 WR'),\n",
              " (0.00397292712950349, 'personnelD_0 DL, 5 LB, 6 DB'),\n",
              " (0.0023947023189423507, 'personnelD_1 DL, 5 LB, 5 DB'),\n",
              " (0.002376806981142999, 'offenseFormation_PISTOL'),\n",
              " (0.0022716811874087394, 'personnelO_1 RB, 3 TE, 1 WR'),\n",
              " (0.0019480660865861272, 'personnelD_3 DL, 1 LB, 7 DB'),\n",
              " (0.0014879185561799508, 'personnelD_4 DL, 5 LB, 2 DB'),\n",
              " (0.0009502377958998477, 'personnelO_6 OL, 1 RB, 1 TE, 2 WR'),\n",
              " (0.0007451719043580555, 'personnelO_3 RB, 1 TE, 1 WR'),\n",
              " (0.0004900949015735587, 'personnelO_2 QB, 1 RB, 1 TE, 2 WR'),\n",
              " (0.0004174337750108705, 'personnelD_0 DL, 4 LB, 7 DB'),\n",
              " (0.00038516916883006254, 'offenseFormation_JUMBO'),\n",
              " (0.0003051121375776014, 'personnelD_0 DL, 6 LB, 5 DB'),\n",
              " (0.0002600721733866311, 'personnelD_4 DL, 4 LB, 3 DB'),\n",
              " (0.00020650312202201434, 'personnelO_2 RB, 2 TE, 1 WR'),\n",
              " (0.00020588634636437198, 'personnelO_6 OL, 2 RB, 1 TE, 0 WR,1 DL'),\n",
              " (0.00015315401807565937, 'personnelO_6 OL, 2 RB, 2 TE, 0 WR'),\n",
              " (9.14152423008568e-05, 'personnelO_6 OL, 1 RB, 2 TE, 1 WR'),\n",
              " (8.468241479848027e-05, 'offenseFormation_WILDCAT'),\n",
              " (5.488000434235353e-05, 'personnelD_3 DL, 5 LB, 3 DB'),\n",
              " (1.0592245827240996e-05, 'personnelO_0 RB, 0 TE, 5 WR')]"
            ]
          },
          "metadata": {
            "tags": []
          },
          "execution_count": 36
        }
      ]
    },
    {
      "cell_type": "code",
      "metadata": {
        "colab": {
          "base_uri": "https://localhost:8080/"
        },
        "id": "CPkXER4pg0rd",
        "outputId": "ed56deab-02f5-4534-bab8-15940b324ead"
      },
      "source": [
        "filename = 'random_forest_complete.sav'\n",
        "joblib.dump(rf, filename)"
      ],
      "execution_count": 37,
      "outputs": [
        {
          "output_type": "execute_result",
          "data": {
            "text/plain": [
              "['random_forest_complete.sav']"
            ]
          },
          "metadata": {
            "tags": []
          },
          "execution_count": 37
        }
      ]
    },
    {
      "cell_type": "code",
      "metadata": {
        "colab": {
          "base_uri": "https://localhost:8080/"
        },
        "id": "yk6BwS8Qg0ty",
        "outputId": "c68db166-5066-4024-c762-10f2d68a34d1"
      },
      "source": [
        "random_forest_complete = joblib.load(filename)\n",
        "random_forest_complete"
      ],
      "execution_count": 38,
      "outputs": [
        {
          "output_type": "execute_result",
          "data": {
            "text/plain": [
              "RandomForestClassifier(bootstrap=True, ccp_alpha=0.0, class_weight=None,\n",
              "                       criterion='gini', max_depth=None, max_features='auto',\n",
              "                       max_leaf_nodes=None, max_samples=None,\n",
              "                       min_impurity_decrease=0.0, min_impurity_split=None,\n",
              "                       min_samples_leaf=1, min_samples_split=2,\n",
              "                       min_weight_fraction_leaf=0.0, n_estimators=100,\n",
              "                       n_jobs=None, oob_score=False, random_state=None,\n",
              "                       verbose=0, warm_start=False)"
            ]
          },
          "metadata": {
            "tags": []
          },
          "execution_count": 38
        }
      ]
    },
    {
      "cell_type": "markdown",
      "metadata": {
        "id": "cTkwH8ZZ8OiY"
      },
      "source": [
        "**Sack Predictions**"
      ]
    },
    {
      "cell_type": "markdown",
      "metadata": {
        "id": "zXRnXxtBgejQ"
      },
      "source": [
        "Logistic Regression"
      ]
    },
    {
      "cell_type": "code",
      "metadata": {
        "id": "mi-rSAZJ8R6A"
      },
      "source": [
        "#logistic regression sacks\n",
        "y = df[\"passResult_S\"]\n",
        "X = selected_features\n",
        "\n",
        "X_train, X_test, y_train, y_test = train_test_split(X, y, random_state=1, stratify=y)"
      ],
      "execution_count": 39,
      "outputs": []
    },
    {
      "cell_type": "code",
      "metadata": {
        "id": "m16Pw2E28UUO"
      },
      "source": [
        "X_scaler = MinMaxScaler().fit(X_train)\n",
        "\n",
        "X_train_scaled = X_scaler.transform(X_train)\n",
        "X_test_scaled = X_scaler.transform(X_test)"
      ],
      "execution_count": 40,
      "outputs": []
    },
    {
      "cell_type": "code",
      "metadata": {
        "id": "YF21MwyF8V4i",
        "colab": {
          "base_uri": "https://localhost:8080/"
        },
        "outputId": "d39be7c5-a88b-406b-bdc0-0b36ddf534d4"
      },
      "source": [
        "model = LogisticRegression(max_iter=1000)\n",
        "model.fit(X_train_scaled, y_train)"
      ],
      "execution_count": 41,
      "outputs": [
        {
          "output_type": "execute_result",
          "data": {
            "text/plain": [
              "LogisticRegression(C=1.0, class_weight=None, dual=False, fit_intercept=True,\n",
              "                   intercept_scaling=1, l1_ratio=None, max_iter=1000,\n",
              "                   multi_class='auto', n_jobs=None, penalty='l2',\n",
              "                   random_state=None, solver='lbfgs', tol=0.0001, verbose=0,\n",
              "                   warm_start=False)"
            ]
          },
          "metadata": {
            "tags": []
          },
          "execution_count": 41
        }
      ]
    },
    {
      "cell_type": "code",
      "metadata": {
        "id": "kJNWy4JZ8XW_",
        "colab": {
          "base_uri": "https://localhost:8080/"
        },
        "outputId": "48591388-ff7f-4a2a-d678-46b08c1fa566"
      },
      "source": [
        "print(f\"Training Data Score: {model.score(X_train_scaled, y_train)}\")\n",
        "print(f\"Testing Data Score: {model.score(X_test_scaled, y_test)}\")"
      ],
      "execution_count": 42,
      "outputs": [
        {
          "output_type": "stream",
          "text": [
            "Training Data Score: 0.9300804714949563\n",
            "Testing Data Score: 0.930009569099096\n"
          ],
          "name": "stdout"
        }
      ]
    },
    {
      "cell_type": "code",
      "metadata": {
        "colab": {
          "base_uri": "https://localhost:8080/"
        },
        "id": "14G1GPvYikVL",
        "outputId": "dff783a1-b8dd-44d8-888a-0960985a2713"
      },
      "source": [
        "filename = 'logistic_regression_sacks.sav'\n",
        "joblib.dump(model, filename)"
      ],
      "execution_count": 43,
      "outputs": [
        {
          "output_type": "execute_result",
          "data": {
            "text/plain": [
              "['logistic_regression_sacks.sav']"
            ]
          },
          "metadata": {
            "tags": []
          },
          "execution_count": 43
        }
      ]
    },
    {
      "cell_type": "code",
      "metadata": {
        "colab": {
          "base_uri": "https://localhost:8080/"
        },
        "id": "da1FLUxYikXQ",
        "outputId": "4b4bac30-0ad2-4915-c7d1-23d2d9263c5b"
      },
      "source": [
        "logistic_regression_sacks = joblib.load(filename)\n",
        "logistic_regression_sacks"
      ],
      "execution_count": 44,
      "outputs": [
        {
          "output_type": "execute_result",
          "data": {
            "text/plain": [
              "LogisticRegression(C=1.0, class_weight=None, dual=False, fit_intercept=True,\n",
              "                   intercept_scaling=1, l1_ratio=None, max_iter=1000,\n",
              "                   multi_class='auto', n_jobs=None, penalty='l2',\n",
              "                   random_state=None, solver='lbfgs', tol=0.0001, verbose=0,\n",
              "                   warm_start=False)"
            ]
          },
          "metadata": {
            "tags": []
          },
          "execution_count": 44
        }
      ]
    },
    {
      "cell_type": "markdown",
      "metadata": {
        "id": "_KLCOYhVgkF8"
      },
      "source": [
        "Random Forest Clasifier"
      ]
    },
    {
      "cell_type": "code",
      "metadata": {
        "id": "Tyq-9nc6giyQ",
        "colab": {
          "base_uri": "https://localhost:8080/"
        },
        "outputId": "ba569179-adf1-4e6e-85a9-ce191cfff31d"
      },
      "source": [
        "# random forest on sacks\n",
        "rf = RandomForestClassifier(n_estimators=100)\n",
        "rf = rf.fit(X_train, y_train)\n",
        "rf.score(X_test, y_test)"
      ],
      "execution_count": 45,
      "outputs": [
        {
          "output_type": "execute_result",
          "data": {
            "text/plain": [
              "0.9924612985801788"
            ]
          },
          "metadata": {
            "tags": []
          },
          "execution_count": 45
        }
      ]
    },
    {
      "cell_type": "code",
      "metadata": {
        "id": "WtmsRFrcgjCY",
        "colab": {
          "base_uri": "https://localhost:8080/"
        },
        "outputId": "ecc8e82a-b578-4ffc-fd6a-437e74921912"
      },
      "source": [
        "sorted(zip(rf.feature_importances_, selected_features), reverse=True)"
      ],
      "execution_count": 46,
      "outputs": [
        {
          "output_type": "execute_result",
          "data": {
            "text/plain": [
              "[(0.2556203340660554, 'yardsToGo'),\n",
              " (0.13350113216979087, 'quarter'),\n",
              " (0.12078783679049827, 'defendersInTheBox'),\n",
              " (0.11860194157407983, 'numberOfPassRushers'),\n",
              " (0.08829884216192267, 'down'),\n",
              " (0.03315675614653996, 'personnelD_3 DL, 3 LB, 5 DB'),\n",
              " (0.024113962834006575, 'personnelD_4 DL, 2 LB, 5 DB'),\n",
              " (0.02048584641338747, 'personnelD_2 DL, 4 LB, 5 DB'),\n",
              " (0.0202037308960398, 'offenseFormation_SHOTGUN'),\n",
              " (0.016250566787421497, 'personnelD_1 DL, 4 LB, 6 DB'),\n",
              " (0.01574903357451774, 'offenseFormation_SINGLEBACK'),\n",
              " (0.015318788991091445, 'personnelO_1 RB, 1 TE, 3 WR'),\n",
              " (0.014706447600426711, 'personnelO_2 RB, 1 TE, 2 WR'),\n",
              " (0.014525831655857946, 'offenseFormation_I_FORM'),\n",
              " (0.012785846279756385, 'offenseFormation_PISTOL'),\n",
              " (0.01184417782765786, 'personnelO_1 RB, 2 TE, 2 WR'),\n",
              " (0.011662038292817194, 'offenseFormation_EMPTY'),\n",
              " (0.010329229801688735, 'personnelD_4 DL, 1 LB, 6 DB'),\n",
              " (0.010119089530666793, 'personnelD_4 DL, 3 LB, 4 DB'),\n",
              " (0.009190442486251218, 'personnelD_1 DL, 5 LB, 5 DB'),\n",
              " (0.008748163423579506, 'personnelD_3 DL, 4 LB, 4 DB'),\n",
              " (0.008464404779382071, 'personnelO_2 RB, 2 TE, 1 WR'),\n",
              " (0.006433363026978518, 'personnelD_3 DL, 2 LB, 6 DB'),\n",
              " (0.004666345640899496, 'personnelO_1 RB, 3 TE, 1 WR'),\n",
              " (0.003947271810668747, 'isDefensivePI'),\n",
              " (0.003940664792678966, 'personnelD_2 DL, 3 LB, 6 DB'),\n",
              " (0.001325097023863428, 'personnelO_2 QB, 1 RB, 1 TE, 2 WR'),\n",
              " (0.0007017976780521462, 'personnelO_0 RB, 1 TE, 4 WR'),\n",
              " (0.0006314534005521762, 'personnelO_2 RB, 0 TE, 3 WR'),\n",
              " (0.0006082379584548548, 'personnelD_2 DL, 2 LB, 7 DB'),\n",
              " (0.0006018702812113106, 'personnelD_5 DL, 2 LB, 4 DB'),\n",
              " (0.0003758632961551435, 'personnelD_4 DL, 4 LB, 3 DB'),\n",
              " (0.0002927800777585993, 'personnelO_1 RB, 0 TE, 4 WR'),\n",
              " (0.0002841918936738308, 'personnelO_6 OL, 1 RB, 1 TE, 2 WR'),\n",
              " (0.0002691781390426604, 'offenseFormation_JUMBO'),\n",
              " (0.0002526078540357949, 'personnelD_1 DL, 3 LB, 7 DB'),\n",
              " (0.00025062447404089114, 'personnelD_3 DL, 1 LB, 7 DB'),\n",
              " (0.00020102933759112444, 'personnelO_6 OL, 2 RB, 2 TE, 0 WR'),\n",
              " (0.00015283753472261258, 'personnelD_0 DL, 6 LB, 5 DB'),\n",
              " (0.00012956682782340527, 'offenseFormation_WILDCAT'),\n",
              " (0.00012299440269478458, 'personnelD_0 DL, 5 LB, 6 DB'),\n",
              " (0.00010090417857155904, 'personnelD_3 DL, 5 LB, 3 DB'),\n",
              " (8.891369223792546e-05, 'personnelO_6 OL, 1 RB, 2 TE, 1 WR'),\n",
              " (7.638398134643686e-05, 'personnelO_6 OL, 2 RB, 1 TE, 0 WR,1 DL'),\n",
              " (5.675526317482982e-05, 'personnelD_0 DL, 4 LB, 7 DB'),\n",
              " (2.0948787822390593e-05, 'personnelO_0 RB, 0 TE, 5 WR'),\n",
              " (3.5368692831880807e-06, 'personnelO_3 RB, 1 TE, 1 WR'),\n",
              " (3.376932290577513e-07, 'personnelD_4 DL, 5 LB, 2 DB')]"
            ]
          },
          "metadata": {
            "tags": []
          },
          "execution_count": 46
        }
      ]
    },
    {
      "cell_type": "code",
      "metadata": {
        "colab": {
          "base_uri": "https://localhost:8080/"
        },
        "id": "TP6I6fJeg2sR",
        "outputId": "cbd5ff7f-89ad-4c6a-888b-dd62db162ccb"
      },
      "source": [
        "filename = 'random_forest_sacks.sav'\n",
        "joblib.dump(rf, filename)"
      ],
      "execution_count": 47,
      "outputs": [
        {
          "output_type": "execute_result",
          "data": {
            "text/plain": [
              "['random_forest_sacks.sav']"
            ]
          },
          "metadata": {
            "tags": []
          },
          "execution_count": 47
        }
      ]
    },
    {
      "cell_type": "code",
      "metadata": {
        "colab": {
          "base_uri": "https://localhost:8080/"
        },
        "id": "Dajxlphjg2ub",
        "outputId": "aef2edb9-7a9a-49ea-d451-ae2996822b10"
      },
      "source": [
        "random_forest_sacks = joblib.load(filename)\n",
        "random_forest_sacks"
      ],
      "execution_count": 48,
      "outputs": [
        {
          "output_type": "execute_result",
          "data": {
            "text/plain": [
              "RandomForestClassifier(bootstrap=True, ccp_alpha=0.0, class_weight=None,\n",
              "                       criterion='gini', max_depth=None, max_features='auto',\n",
              "                       max_leaf_nodes=None, max_samples=None,\n",
              "                       min_impurity_decrease=0.0, min_impurity_split=None,\n",
              "                       min_samples_leaf=1, min_samples_split=2,\n",
              "                       min_weight_fraction_leaf=0.0, n_estimators=100,\n",
              "                       n_jobs=None, oob_score=False, random_state=None,\n",
              "                       verbose=0, warm_start=False)"
            ]
          },
          "metadata": {
            "tags": []
          },
          "execution_count": 48
        }
      ]
    },
    {
      "cell_type": "markdown",
      "metadata": {
        "id": "DFml0NxK8Zoq"
      },
      "source": [
        "**Interceptions Predictions**"
      ]
    },
    {
      "cell_type": "markdown",
      "metadata": {
        "id": "ezbr8MH7gzt3"
      },
      "source": [
        "Logistic Regression"
      ]
    },
    {
      "cell_type": "code",
      "metadata": {
        "id": "rRi-ChHW8ezt"
      },
      "source": [
        "#logistic regression on interceptions\n",
        "y = df[\"passResult_IN\"]\n",
        "X = selected_features\n",
        "\n",
        "X_train, X_test, y_train, y_test = train_test_split(X, y, random_state=1, stratify=y)"
      ],
      "execution_count": 49,
      "outputs": []
    },
    {
      "cell_type": "code",
      "metadata": {
        "id": "4zSYgoLB8iMD"
      },
      "source": [
        "X_scaler = MinMaxScaler().fit(X_train)\n",
        "\n",
        "X_train_scaled = X_scaler.transform(X_train)\n",
        "X_test_scaled = X_scaler.transform(X_test)"
      ],
      "execution_count": 50,
      "outputs": []
    },
    {
      "cell_type": "code",
      "metadata": {
        "id": "fc9aHy3R8jjd",
        "colab": {
          "base_uri": "https://localhost:8080/"
        },
        "outputId": "b306b34f-5c6e-414a-99e9-6ce7ed393eac"
      },
      "source": [
        "model = LogisticRegression(max_iter=1000)\n",
        "model.fit(X_train_scaled, y_train)"
      ],
      "execution_count": 51,
      "outputs": [
        {
          "output_type": "execute_result",
          "data": {
            "text/plain": [
              "LogisticRegression(C=1.0, class_weight=None, dual=False, fit_intercept=True,\n",
              "                   intercept_scaling=1, l1_ratio=None, max_iter=1000,\n",
              "                   multi_class='auto', n_jobs=None, penalty='l2',\n",
              "                   random_state=None, solver='lbfgs', tol=0.0001, verbose=0,\n",
              "                   warm_start=False)"
            ]
          },
          "metadata": {
            "tags": []
          },
          "execution_count": 51
        }
      ]
    },
    {
      "cell_type": "code",
      "metadata": {
        "id": "nORAEih08km9",
        "colab": {
          "base_uri": "https://localhost:8080/"
        },
        "outputId": "843569a8-bb60-47b2-9ce8-d25ddf5e0d75"
      },
      "source": [
        "print(f\"Training Data Score: {model.score(X_train_scaled, y_train)}\")\n",
        "print(f\"Testing Data Score: {model.score(X_test_scaled, y_test)}\")"
      ],
      "execution_count": 52,
      "outputs": [
        {
          "output_type": "stream",
          "text": [
            "Training Data Score: 0.9646637845889801\n",
            "Testing Data Score: 0.9644826128983683\n"
          ],
          "name": "stdout"
        }
      ]
    },
    {
      "cell_type": "code",
      "metadata": {
        "colab": {
          "base_uri": "https://localhost:8080/"
        },
        "id": "kbhnCoUJg45M",
        "outputId": "3f942175-9f8d-4136-8133-533721d7096c"
      },
      "source": [
        "filename = 'logistic_regression_interceptions.sav'\n",
        "joblib.dump(model, filename)"
      ],
      "execution_count": 53,
      "outputs": [
        {
          "output_type": "execute_result",
          "data": {
            "text/plain": [
              "['logistic_regression_interceptions.sav']"
            ]
          },
          "metadata": {
            "tags": []
          },
          "execution_count": 53
        }
      ]
    },
    {
      "cell_type": "code",
      "metadata": {
        "colab": {
          "base_uri": "https://localhost:8080/"
        },
        "id": "b73ruGkEg47W",
        "outputId": "f824456a-d728-4cb6-cbc6-c4e55c218b35"
      },
      "source": [
        "logistic_regression_interceptions = joblib.load(filename)\n",
        "logistic_regression_interceptions"
      ],
      "execution_count": 54,
      "outputs": [
        {
          "output_type": "execute_result",
          "data": {
            "text/plain": [
              "LogisticRegression(C=1.0, class_weight=None, dual=False, fit_intercept=True,\n",
              "                   intercept_scaling=1, l1_ratio=None, max_iter=1000,\n",
              "                   multi_class='auto', n_jobs=None, penalty='l2',\n",
              "                   random_state=None, solver='lbfgs', tol=0.0001, verbose=0,\n",
              "                   warm_start=False)"
            ]
          },
          "metadata": {
            "tags": []
          },
          "execution_count": 54
        }
      ]
    },
    {
      "cell_type": "markdown",
      "metadata": {
        "id": "P4wuZxv_g4IE"
      },
      "source": [
        "Random Forest Classifier"
      ]
    },
    {
      "cell_type": "code",
      "metadata": {
        "id": "9dQhkE1Dg24c",
        "colab": {
          "base_uri": "https://localhost:8080/"
        },
        "outputId": "81493945-f5ef-42e8-d98b-91dbc421892a"
      },
      "source": [
        "#random forest on interceptions\n",
        "rf = RandomForestClassifier(n_estimators=100)\n",
        "rf = rf.fit(X_train, y_train)\n",
        "rf.score(X_test, y_test)"
      ],
      "execution_count": 55,
      "outputs": [
        {
          "output_type": "execute_result",
          "data": {
            "text/plain": [
              "0.9946568482204876"
            ]
          },
          "metadata": {
            "tags": []
          },
          "execution_count": 55
        }
      ]
    },
    {
      "cell_type": "code",
      "metadata": {
        "id": "ljxXe7S0g262",
        "colab": {
          "base_uri": "https://localhost:8080/"
        },
        "outputId": "d88da861-cd23-4149-bf48-98d49787fefc"
      },
      "source": [
        "sorted(zip(rf.feature_importances_, selected_features), reverse=True)"
      ],
      "execution_count": 56,
      "outputs": [
        {
          "output_type": "execute_result",
          "data": {
            "text/plain": [
              "[(0.15720293386711337, 'numberOfPassRushers'),\n",
              " (0.15092370373364725, 'quarter'),\n",
              " (0.12517437281464283, 'yardsToGo'),\n",
              " (0.10282808824940531, 'defendersInTheBox'),\n",
              " (0.08734917701962312, 'down'),\n",
              " (0.04128440604595754, 'personnelD_0 DL, 6 LB, 5 DB'),\n",
              " (0.029042264210329672, 'offenseFormation_SHOTGUN'),\n",
              " (0.02667893727426899, 'personnelD_2 DL, 4 LB, 5 DB'),\n",
              " (0.022626449024520094, 'personnelD_3 DL, 3 LB, 5 DB'),\n",
              " (0.02225384880174768, 'offenseFormation_WILDCAT'),\n",
              " (0.021957269410270697, 'offenseFormation_EMPTY'),\n",
              " (0.021459210241541803, 'personnelD_4 DL, 2 LB, 5 DB'),\n",
              " (0.01791655888753975, 'personnelD_3 DL, 2 LB, 6 DB'),\n",
              " (0.016094082168753285, 'offenseFormation_PISTOL'),\n",
              " (0.015824799784561437, 'personnelD_4 DL, 1 LB, 6 DB'),\n",
              " (0.014724103496388842, 'personnelD_2 DL, 3 LB, 6 DB'),\n",
              " (0.014408982896821455, 'personnelO_1 RB, 2 TE, 2 WR'),\n",
              " (0.014175348380444722, 'offenseFormation_I_FORM'),\n",
              " (0.012710349804422877, 'personnelO_2 RB, 1 TE, 2 WR'),\n",
              " (0.012177221523475328, 'personnelO_1 RB, 0 TE, 4 WR'),\n",
              " (0.011124914465693435, 'personnelD_1 DL, 4 LB, 6 DB'),\n",
              " (0.01073549221617643, 'personnelD_1 DL, 5 LB, 5 DB'),\n",
              " (0.010631200501563987, 'personnelO_1 RB, 1 TE, 3 WR'),\n",
              " (0.010609064849278482, 'personnelD_4 DL, 3 LB, 4 DB'),\n",
              " (0.00997622374911403, 'personnelO_2 QB, 1 RB, 1 TE, 2 WR'),\n",
              " (0.009581255517386538, 'offenseFormation_SINGLEBACK'),\n",
              " (0.003500584869154623, 'isDefensivePI'),\n",
              " (0.001824055696356111, 'personnelD_3 DL, 4 LB, 4 DB'),\n",
              " (0.0013811701076853827, 'personnelD_1 DL, 3 LB, 7 DB'),\n",
              " (0.0009175815247596576, 'personnelO_1 RB, 3 TE, 1 WR'),\n",
              " (0.000700669306485988, 'offenseFormation_JUMBO'),\n",
              " (0.0005684744978463656, 'personnelO_2 RB, 0 TE, 3 WR'),\n",
              " (0.00037475586383716917, 'personnelO_0 RB, 1 TE, 4 WR'),\n",
              " (0.0003522245973741984, 'personnelO_0 RB, 0 TE, 5 WR'),\n",
              " (0.00024769888187346767, 'personnelD_3 DL, 5 LB, 3 DB'),\n",
              " (0.0002029248642538087, 'personnelD_3 DL, 1 LB, 7 DB'),\n",
              " (0.00012611488507873063, 'personnelO_2 RB, 2 TE, 1 WR'),\n",
              " (0.00010709389114524272, 'personnelD_5 DL, 2 LB, 4 DB'),\n",
              " (7.376211582695224e-05, 'personnelD_2 DL, 2 LB, 7 DB'),\n",
              " (6.850423991579623e-05, 'personnelO_6 OL, 1 RB, 1 TE, 2 WR'),\n",
              " (6.073167531188981e-05, 'personnelD_0 DL, 5 LB, 6 DB'),\n",
              " (1.0734669298516433e-05, 'personnelD_4 DL, 4 LB, 3 DB'),\n",
              " (6.884124494132822e-06, 'personnelD_0 DL, 4 LB, 7 DB'),\n",
              " (2.985944813131534e-06, 'personnelD_4 DL, 5 LB, 2 DB'),\n",
              " (2.2554692040338067e-06, 'personnelO_3 RB, 1 TE, 1 WR'),\n",
              " (4.3073737319961915e-07, 'personnelO_6 OL, 2 RB, 1 TE, 0 WR,1 DL'),\n",
              " (1.031032226163996e-07, 'personnelO_6 OL, 2 RB, 2 TE, 0 WR'),\n",
              " (0.0, 'personnelO_6 OL, 1 RB, 2 TE, 1 WR')]"
            ]
          },
          "metadata": {
            "tags": []
          },
          "execution_count": 56
        }
      ]
    },
    {
      "cell_type": "code",
      "metadata": {
        "colab": {
          "base_uri": "https://localhost:8080/"
        },
        "id": "4_xetOrMg62v",
        "outputId": "2df561f0-852f-4a3d-bb88-3cbe0f5c56f9"
      },
      "source": [
        "filename = 'random_forest_interceptions.sav'\n",
        "joblib.dump(rf, filename)"
      ],
      "execution_count": 57,
      "outputs": [
        {
          "output_type": "execute_result",
          "data": {
            "text/plain": [
              "['random_forest_interceptions.sav']"
            ]
          },
          "metadata": {
            "tags": []
          },
          "execution_count": 57
        }
      ]
    },
    {
      "cell_type": "code",
      "metadata": {
        "colab": {
          "base_uri": "https://localhost:8080/"
        },
        "id": "W-DL0NL_g64z",
        "outputId": "238c783f-1fb3-47e4-f81e-9f42d0843ea2"
      },
      "source": [
        "random_forest_interceptions = joblib.load(filename)\n",
        "random_forest_interceptions"
      ],
      "execution_count": 58,
      "outputs": [
        {
          "output_type": "execute_result",
          "data": {
            "text/plain": [
              "RandomForestClassifier(bootstrap=True, ccp_alpha=0.0, class_weight=None,\n",
              "                       criterion='gini', max_depth=None, max_features='auto',\n",
              "                       max_leaf_nodes=None, max_samples=None,\n",
              "                       min_impurity_decrease=0.0, min_impurity_split=None,\n",
              "                       min_samples_leaf=1, min_samples_split=2,\n",
              "                       min_weight_fraction_leaf=0.0, n_estimators=100,\n",
              "                       n_jobs=None, oob_score=False, random_state=None,\n",
              "                       verbose=0, warm_start=False)"
            ]
          },
          "metadata": {
            "tags": []
          },
          "execution_count": 58
        }
      ]
    },
    {
      "cell_type": "markdown",
      "metadata": {
        "id": "3yzvp8tC83YW"
      },
      "source": [
        "**Catch Predictions vs Defensive formations**"
      ]
    },
    {
      "cell_type": "markdown",
      "metadata": {
        "id": "jfdFTllShPpg"
      },
      "source": [
        "Logistic Regression"
      ]
    },
    {
      "cell_type": "code",
      "metadata": {
        "id": "0zpZBZgt87Cu"
      },
      "source": [
        "#logistic regression complete passes vs defensive formations\n",
        "y = df[\"passResult_C\"]\n",
        "X = defensive_features\n",
        "\n",
        "X_train, X_test, y_train, y_test = train_test_split(X, y, random_state=1, stratify=y)"
      ],
      "execution_count": 59,
      "outputs": []
    },
    {
      "cell_type": "code",
      "metadata": {
        "id": "zfm-AJSv9AfA"
      },
      "source": [
        "X_scaler = MinMaxScaler().fit(X_train)\n",
        "\n",
        "X_train_scaled = X_scaler.transform(X_train)\n",
        "X_test_scaled = X_scaler.transform(X_test)"
      ],
      "execution_count": 60,
      "outputs": []
    },
    {
      "cell_type": "code",
      "metadata": {
        "id": "u4Kxk62R9Ja4",
        "colab": {
          "base_uri": "https://localhost:8080/"
        },
        "outputId": "916fc858-ac9b-4de5-a234-d161dc04f40a"
      },
      "source": [
        "model = LogisticRegression(max_iter=1000)\n",
        "model.fit(X_train_scaled, y_train)"
      ],
      "execution_count": 61,
      "outputs": [
        {
          "output_type": "execute_result",
          "data": {
            "text/plain": [
              "LogisticRegression(C=1.0, class_weight=None, dual=False, fit_intercept=True,\n",
              "                   intercept_scaling=1, l1_ratio=None, max_iter=1000,\n",
              "                   multi_class='auto', n_jobs=None, penalty='l2',\n",
              "                   random_state=None, solver='lbfgs', tol=0.0001, verbose=0,\n",
              "                   warm_start=False)"
            ]
          },
          "metadata": {
            "tags": []
          },
          "execution_count": 61
        }
      ]
    },
    {
      "cell_type": "code",
      "metadata": {
        "id": "5pZ0impo9K9j",
        "colab": {
          "base_uri": "https://localhost:8080/"
        },
        "outputId": "d2b1fcd1-9e20-4695-82bf-ebf66d281c5d"
      },
      "source": [
        "print(f\"Training Data Score: {model.score(X_train_scaled, y_train)}\")\n",
        "print(f\"Testing Data Score: {model.score(X_test_scaled, y_test)}\")"
      ],
      "execution_count": 62,
      "outputs": [
        {
          "output_type": "stream",
          "text": [
            "Training Data Score: 0.6863975648062693\n",
            "Testing Data Score: 0.6853466491152227\n"
          ],
          "name": "stdout"
        }
      ]
    },
    {
      "cell_type": "code",
      "metadata": {
        "colab": {
          "base_uri": "https://localhost:8080/"
        },
        "id": "YlyGhQFQg8OL",
        "outputId": "1a012d94-1bbc-4c56-973a-654667a666a7"
      },
      "source": [
        "filename = 'logistic_regression_complete_defense.sav'\n",
        "joblib.dump(model, filename)"
      ],
      "execution_count": 63,
      "outputs": [
        {
          "output_type": "execute_result",
          "data": {
            "text/plain": [
              "['logistic_regression_complete_defense.sav']"
            ]
          },
          "metadata": {
            "tags": []
          },
          "execution_count": 63
        }
      ]
    },
    {
      "cell_type": "code",
      "metadata": {
        "colab": {
          "base_uri": "https://localhost:8080/"
        },
        "id": "QUYoOf7Bg8QX",
        "outputId": "e70d676d-c1e6-44c4-f9d5-573959a3b60a"
      },
      "source": [
        "logistic_regression_complete_defense = joblib.load(filename)\n",
        "logistic_regression_complete_defense"
      ],
      "execution_count": 64,
      "outputs": [
        {
          "output_type": "execute_result",
          "data": {
            "text/plain": [
              "LogisticRegression(C=1.0, class_weight=None, dual=False, fit_intercept=True,\n",
              "                   intercept_scaling=1, l1_ratio=None, max_iter=1000,\n",
              "                   multi_class='auto', n_jobs=None, penalty='l2',\n",
              "                   random_state=None, solver='lbfgs', tol=0.0001, verbose=0,\n",
              "                   warm_start=False)"
            ]
          },
          "metadata": {
            "tags": []
          },
          "execution_count": 64
        }
      ]
    },
    {
      "cell_type": "markdown",
      "metadata": {
        "id": "-o4jJ7CthS-N"
      },
      "source": [
        "Random Forest Classifier"
      ]
    },
    {
      "cell_type": "code",
      "metadata": {
        "id": "Ts-hVuCu9MhZ",
        "colab": {
          "base_uri": "https://localhost:8080/"
        },
        "outputId": "3ff3149b-8ee8-42b6-c311-8798e994aa2a"
      },
      "source": [
        "#random forest complete passes vs defensive formations\n",
        "rf = RandomForestClassifier(n_estimators=100)\n",
        "rf = rf.fit(X_train, y_train)\n",
        "rf.score(X_test, y_test)"
      ],
      "execution_count": 65,
      "outputs": [
        {
          "output_type": "execute_result",
          "data": {
            "text/plain": [
              "0.6853466491152227"
            ]
          },
          "metadata": {
            "tags": []
          },
          "execution_count": 65
        }
      ]
    },
    {
      "cell_type": "code",
      "metadata": {
        "id": "9X52Sdz4hVXX",
        "colab": {
          "base_uri": "https://localhost:8080/"
        },
        "outputId": "b67c47b8-08da-471b-d2f9-db62e64c00cd"
      },
      "source": [
        "sorted(zip(rf.feature_importances_, defensive_features), reverse=True)"
      ],
      "execution_count": 66,
      "outputs": [
        {
          "output_type": "execute_result",
          "data": {
            "text/plain": [
              "[(0.18074132173600946, 'personnelD_4 DL, 1 LB, 6 DB'),\n",
              " (0.1683952904388161, 'personnelD_1 DL, 3 LB, 7 DB'),\n",
              " (0.15362066924737894, 'personnelD_2 DL, 2 LB, 7 DB'),\n",
              " (0.06508649117166677, 'personnelD_2 DL, 3 LB, 6 DB'),\n",
              " (0.05463192659963242, 'personnelD_0 DL, 6 LB, 5 DB'),\n",
              " (0.05424246783548972, 'personnelD_0 DL, 5 LB, 6 DB'),\n",
              " (0.04724539990229405, 'personnelD_4 DL, 3 LB, 4 DB'),\n",
              " (0.03882528092707768, 'personnelD_4 DL, 5 LB, 2 DB'),\n",
              " (0.037333399048226884, 'personnelD_3 DL, 4 LB, 4 DB'),\n",
              " (0.0366729924942544, 'personnelD_3 DL, 3 LB, 5 DB'),\n",
              " (0.03142138155917715, 'personnelD_4 DL, 4 LB, 3 DB'),\n",
              " (0.02722016797442695, 'personnelD_1 DL, 5 LB, 5 DB'),\n",
              " (0.020346988984362577, 'personnelD_5 DL, 2 LB, 4 DB'),\n",
              " (0.017505177458079, 'personnelD_4 DL, 2 LB, 5 DB'),\n",
              " (0.015840216297463027, 'personnelD_2 DL, 4 LB, 5 DB'),\n",
              " (0.015320568779529996, 'personnelD_1 DL, 4 LB, 6 DB'),\n",
              " (0.013872096186836273, 'personnelD_3 DL, 2 LB, 6 DB'),\n",
              " (0.010697646507180275, 'personnelD_0 DL, 4 LB, 7 DB'),\n",
              " (0.00970239747831906, 'personnelD_3 DL, 5 LB, 3 DB'),\n",
              " (0.0012781193737791657, 'personnelD_3 DL, 1 LB, 7 DB')]"
            ]
          },
          "metadata": {
            "tags": []
          },
          "execution_count": 66
        }
      ]
    },
    {
      "cell_type": "code",
      "metadata": {
        "colab": {
          "base_uri": "https://localhost:8080/"
        },
        "id": "BgfxQUFMg_QA",
        "outputId": "80293b6b-23eb-455d-a30d-76716bcc1f31"
      },
      "source": [
        "filename = 'random_forest_complete_defense.sav'\n",
        "joblib.dump(rf, filename)"
      ],
      "execution_count": 67,
      "outputs": [
        {
          "output_type": "execute_result",
          "data": {
            "text/plain": [
              "['random_forest_complete_defense.sav']"
            ]
          },
          "metadata": {
            "tags": []
          },
          "execution_count": 67
        }
      ]
    },
    {
      "cell_type": "code",
      "metadata": {
        "colab": {
          "base_uri": "https://localhost:8080/"
        },
        "id": "82NDmdP2g_Sg",
        "outputId": "670589f1-425f-43d1-d119-4583d9e3331e"
      },
      "source": [
        "random_forest_complete_defense = joblib.load(filename)\n",
        "random_forest_complete_defense"
      ],
      "execution_count": 68,
      "outputs": [
        {
          "output_type": "execute_result",
          "data": {
            "text/plain": [
              "RandomForestClassifier(bootstrap=True, ccp_alpha=0.0, class_weight=None,\n",
              "                       criterion='gini', max_depth=None, max_features='auto',\n",
              "                       max_leaf_nodes=None, max_samples=None,\n",
              "                       min_impurity_decrease=0.0, min_impurity_split=None,\n",
              "                       min_samples_leaf=1, min_samples_split=2,\n",
              "                       min_weight_fraction_leaf=0.0, n_estimators=100,\n",
              "                       n_jobs=None, oob_score=False, random_state=None,\n",
              "                       verbose=0, warm_start=False)"
            ]
          },
          "metadata": {
            "tags": []
          },
          "execution_count": 68
        }
      ]
    },
    {
      "cell_type": "markdown",
      "metadata": {
        "id": "eXDLS1IL_MX-"
      },
      "source": [
        "**Incomplete Passes vs Offense formations**"
      ]
    },
    {
      "cell_type": "markdown",
      "metadata": {
        "id": "Q1I92mALhqHz"
      },
      "source": [
        "Logistic Regression"
      ]
    },
    {
      "cell_type": "code",
      "metadata": {
        "id": "8EknKcv6_TNu"
      },
      "source": [
        "#logistic regression incomplete passes vs offense formations\n",
        "y = df[\"passResult_I\"]\n",
        "X = offensive_features\n",
        "\n",
        "X_train, X_test, y_train, y_test = train_test_split(X, y, random_state=1, stratify=y)"
      ],
      "execution_count": 69,
      "outputs": []
    },
    {
      "cell_type": "code",
      "metadata": {
        "id": "qxnj3bBG_YYb"
      },
      "source": [
        "X_scaler = MinMaxScaler().fit(X_train)\n",
        "\n",
        "X_train_scaled = X_scaler.transform(X_train)\n",
        "X_test_scaled = X_scaler.transform(X_test)"
      ],
      "execution_count": 70,
      "outputs": []
    },
    {
      "cell_type": "code",
      "metadata": {
        "id": "UHfMD_e0_aDd",
        "colab": {
          "base_uri": "https://localhost:8080/"
        },
        "outputId": "6bdbcac5-ca03-4311-ba6c-b2d17c2101c8"
      },
      "source": [
        "model = LogisticRegression(max_iter=1000)\n",
        "model.fit(X_train_scaled, y_train)"
      ],
      "execution_count": 71,
      "outputs": [
        {
          "output_type": "execute_result",
          "data": {
            "text/plain": [
              "LogisticRegression(C=1.0, class_weight=None, dual=False, fit_intercept=True,\n",
              "                   intercept_scaling=1, l1_ratio=None, max_iter=1000,\n",
              "                   multi_class='auto', n_jobs=None, penalty='l2',\n",
              "                   random_state=None, solver='lbfgs', tol=0.0001, verbose=0,\n",
              "                   warm_start=False)"
            ]
          },
          "metadata": {
            "tags": []
          },
          "execution_count": 71
        }
      ]
    },
    {
      "cell_type": "code",
      "metadata": {
        "id": "BRUP9lx__bUE",
        "colab": {
          "base_uri": "https://localhost:8080/"
        },
        "outputId": "4cb395fb-9a88-4256-b60f-9e0e6ff36eac"
      },
      "source": [
        "print(f\"Training Data Score: {model.score(X_train_scaled, y_train)}\")\n",
        "print(f\"Testing Data Score: {model.score(X_test_scaled, y_test)}\")"
      ],
      "execution_count": 72,
      "outputs": [
        {
          "output_type": "stream",
          "text": [
            "Training Data Score: 0.7736824209452567\n",
            "Testing Data Score: 0.7738292425839483\n"
          ],
          "name": "stdout"
        }
      ]
    },
    {
      "cell_type": "code",
      "metadata": {
        "colab": {
          "base_uri": "https://localhost:8080/"
        },
        "id": "-xmdh5QihA9p",
        "outputId": "61275a3f-77da-446f-d9e9-194042224fbe"
      },
      "source": [
        "filename = 'logistic_regression_incomplete_offense.sav'\n",
        "joblib.dump(model, filename)"
      ],
      "execution_count": 73,
      "outputs": [
        {
          "output_type": "execute_result",
          "data": {
            "text/plain": [
              "['logistic_regression_incomplete_offense.sav']"
            ]
          },
          "metadata": {
            "tags": []
          },
          "execution_count": 73
        }
      ]
    },
    {
      "cell_type": "code",
      "metadata": {
        "colab": {
          "base_uri": "https://localhost:8080/"
        },
        "id": "2hmnEw8ChBBg",
        "outputId": "3deaaf83-25ca-4793-a1a9-4251cdfd6dcf"
      },
      "source": [
        "logistic_regression_incomplete_offense = joblib.load(filename)\n",
        "logistic_regression_incomplete_offense"
      ],
      "execution_count": 74,
      "outputs": [
        {
          "output_type": "execute_result",
          "data": {
            "text/plain": [
              "LogisticRegression(C=1.0, class_weight=None, dual=False, fit_intercept=True,\n",
              "                   intercept_scaling=1, l1_ratio=None, max_iter=1000,\n",
              "                   multi_class='auto', n_jobs=None, penalty='l2',\n",
              "                   random_state=None, solver='lbfgs', tol=0.0001, verbose=0,\n",
              "                   warm_start=False)"
            ]
          },
          "metadata": {
            "tags": []
          },
          "execution_count": 74
        }
      ]
    },
    {
      "cell_type": "markdown",
      "metadata": {
        "id": "nNQQpsMGhvoD"
      },
      "source": [
        "Random Forest Classifier"
      ]
    },
    {
      "cell_type": "code",
      "metadata": {
        "id": "9b8ysba6hu1h",
        "colab": {
          "base_uri": "https://localhost:8080/"
        },
        "outputId": "b67e00c2-96c6-4624-c73e-84f77a5ece26"
      },
      "source": [
        "#random forest incomplete passes vs offense formations\n",
        "rf = RandomForestClassifier(n_estimators=100)\n",
        "rf = rf.fit(X_train, y_train)\n",
        "rf.score(X_test, y_test)"
      ],
      "execution_count": 75,
      "outputs": [
        {
          "output_type": "execute_result",
          "data": {
            "text/plain": [
              "0.7765931092771687"
            ]
          },
          "metadata": {
            "tags": []
          },
          "execution_count": 75
        }
      ]
    },
    {
      "cell_type": "code",
      "metadata": {
        "id": "dniIxKvehu6J",
        "colab": {
          "base_uri": "https://localhost:8080/"
        },
        "outputId": "043a1435-b1ba-40b4-ed96-93b8f4dce88f"
      },
      "source": [
        "sorted(zip(rf.feature_importances_, offensive_features), reverse=True)"
      ],
      "execution_count": 76,
      "outputs": [
        {
          "output_type": "execute_result",
          "data": {
            "text/plain": [
              "[(0.1402448337507129, 'offenseFormation_SINGLEBACK'),\n",
              " (0.11196974065847118, 'offenseFormation_SHOTGUN'),\n",
              " (0.1008119498246258, 'personnelO_1 RB, 1 TE, 3 WR'),\n",
              " (0.09817224340191293, 'personnelO_1 RB, 0 TE, 4 WR'),\n",
              " (0.09188933881527359, 'offenseFormation_EMPTY'),\n",
              " (0.08264580997964728, 'personnelO_2 RB, 0 TE, 3 WR'),\n",
              " (0.07157198027147832, 'personnelO_0 RB, 1 TE, 4 WR'),\n",
              " (0.04749336761878835, 'offenseFormation_PISTOL'),\n",
              " (0.04544833859329457, 'personnelO_2 RB, 1 TE, 2 WR'),\n",
              " (0.04331536691767728, 'personnelO_1 RB, 2 TE, 2 WR'),\n",
              " (0.038573532436418874, 'offenseFormation_I_FORM'),\n",
              " (0.031120124646091443, 'personnelO_1 RB, 3 TE, 1 WR'),\n",
              " (0.02925591735931512, 'personnelO_6 OL, 2 RB, 2 TE, 0 WR'),\n",
              " (0.01814485547870588, 'personnelO_2 QB, 1 RB, 1 TE, 2 WR'),\n",
              " (0.010679473055164946, 'personnelO_3 RB, 1 TE, 1 WR'),\n",
              " (0.010678143443680087, 'personnelO_2 RB, 2 TE, 1 WR'),\n",
              " (0.0064978035504976925, 'offenseFormation_JUMBO'),\n",
              " (0.005763179323655934, 'personnelO_6 OL, 2 RB, 1 TE, 0 WR,1 DL'),\n",
              " (0.005014261833812949, 'personnelO_6 OL, 1 RB, 1 TE, 2 WR'),\n",
              " (0.005004909732994309, 'offenseFormation_WILDCAT'),\n",
              " (0.004072166410938502, 'personnelO_0 RB, 0 TE, 5 WR'),\n",
              " (0.0016326628968420496, 'personnelO_6 OL, 1 RB, 2 TE, 1 WR')]"
            ]
          },
          "metadata": {
            "tags": []
          },
          "execution_count": 76
        }
      ]
    },
    {
      "cell_type": "code",
      "metadata": {
        "colab": {
          "base_uri": "https://localhost:8080/"
        },
        "id": "B8jTcXXxhB4d",
        "outputId": "e4e9d333-9273-4df7-c2f2-be668b06249e"
      },
      "source": [
        "filename = 'random_forest_incomplete_offense.sav'\n",
        "joblib.dump(rf, filename)"
      ],
      "execution_count": 77,
      "outputs": [
        {
          "output_type": "execute_result",
          "data": {
            "text/plain": [
              "['random_forest_incomplete_offense.sav']"
            ]
          },
          "metadata": {
            "tags": []
          },
          "execution_count": 77
        }
      ]
    },
    {
      "cell_type": "code",
      "metadata": {
        "colab": {
          "base_uri": "https://localhost:8080/"
        },
        "id": "-5q2vE_chB6l",
        "outputId": "bdeaef91-7771-40e2-917b-e8d6a148101e"
      },
      "source": [
        "random_forest_incomplete_offense = joblib.load(filename)\n",
        "random_forest_incomplete_offense"
      ],
      "execution_count": 78,
      "outputs": [
        {
          "output_type": "execute_result",
          "data": {
            "text/plain": [
              "RandomForestClassifier(bootstrap=True, ccp_alpha=0.0, class_weight=None,\n",
              "                       criterion='gini', max_depth=None, max_features='auto',\n",
              "                       max_leaf_nodes=None, max_samples=None,\n",
              "                       min_impurity_decrease=0.0, min_impurity_split=None,\n",
              "                       min_samples_leaf=1, min_samples_split=2,\n",
              "                       min_weight_fraction_leaf=0.0, n_estimators=100,\n",
              "                       n_jobs=None, oob_score=False, random_state=None,\n",
              "                       verbose=0, warm_start=False)"
            ]
          },
          "metadata": {
            "tags": []
          },
          "execution_count": 78
        }
      ]
    },
    {
      "cell_type": "markdown",
      "metadata": {
        "id": "IEYyhRYONUAL"
      },
      "source": [
        "**Exta DB's and Incomplete Catches**"
      ]
    },
    {
      "cell_type": "markdown",
      "metadata": {
        "id": "AajG7aMniMvO"
      },
      "source": [
        "Logistic Regression"
      ]
    },
    {
      "cell_type": "code",
      "metadata": {
        "id": "7LV2ZmxVNase"
      },
      "source": [
        "moreDB_features = df[['personnelD_0 DL, 4 LB, 7 DB',\t'personnelD_0 DL, 5 LB, 6 DB',\t'personnelD_0 DL, 6 LB, 5 DB',\t'personnelD_1 DL, 3 LB, 7 DB',\t\n",
        "                      'personnelD_1 DL, 4 LB, 6 DB', 'personnelD_1 DL, 5 LB, 5 DB',\t'personnelD_2 DL, 2 LB, 7 DB', 'personnelD_2 DL, 4 LB, 5 DB',\t\n",
        "                      'personnelD_3 DL, 1 LB, 7 DB', 'personnelD_3 DL, 2 LB, 6 DB', 'personnelD_4 DL, 1 LB, 6 DB']]"
      ],
      "execution_count": 79,
      "outputs": []
    },
    {
      "cell_type": "code",
      "metadata": {
        "id": "zMR06WsHNcnU"
      },
      "source": [
        "#logistic regression extra db's vs incomplete passes\n",
        "y = df[\"passResult_I\"]\n",
        "X = moreDB_features\n",
        "\n",
        "X_train, X_test, y_train, y_test = train_test_split(X, y, random_state=1, stratify=y)"
      ],
      "execution_count": 80,
      "outputs": []
    },
    {
      "cell_type": "code",
      "metadata": {
        "id": "Dqb9QcRaOJHy"
      },
      "source": [
        "X_scaler = MinMaxScaler().fit(X_train)\n",
        "\n",
        "X_train_scaled = X_scaler.transform(X_train)\n",
        "X_test_scaled = X_scaler.transform(X_test)"
      ],
      "execution_count": 81,
      "outputs": []
    },
    {
      "cell_type": "code",
      "metadata": {
        "id": "egJwqzh0OKtk",
        "colab": {
          "base_uri": "https://localhost:8080/"
        },
        "outputId": "ec620fef-b1f8-4d14-de40-3251a743205f"
      },
      "source": [
        "model = LogisticRegression(max_iter=1000)\n",
        "model.fit(X_train_scaled, y_train)"
      ],
      "execution_count": 82,
      "outputs": [
        {
          "output_type": "execute_result",
          "data": {
            "text/plain": [
              "LogisticRegression(C=1.0, class_weight=None, dual=False, fit_intercept=True,\n",
              "                   intercept_scaling=1, l1_ratio=None, max_iter=1000,\n",
              "                   multi_class='auto', n_jobs=None, penalty='l2',\n",
              "                   random_state=None, solver='lbfgs', tol=0.0001, verbose=0,\n",
              "                   warm_start=False)"
            ]
          },
          "metadata": {
            "tags": []
          },
          "execution_count": 82
        }
      ]
    },
    {
      "cell_type": "code",
      "metadata": {
        "id": "x27eA-AcOMIC",
        "colab": {
          "base_uri": "https://localhost:8080/"
        },
        "outputId": "97cd91d2-3675-4217-b65c-2872a80dddd7"
      },
      "source": [
        "print(f\"Training Data Score: {model.score(X_train_scaled, y_train)}\")\n",
        "print(f\"Testing Data Score: {model.score(X_test_scaled, y_test)}\")"
      ],
      "execution_count": 83,
      "outputs": [
        {
          "output_type": "stream",
          "text": [
            "Training Data Score: 0.7872427583750263\n",
            "Testing Data Score: 0.7872891276576108\n"
          ],
          "name": "stdout"
        }
      ]
    },
    {
      "cell_type": "code",
      "metadata": {
        "colab": {
          "base_uri": "https://localhost:8080/"
        },
        "id": "HQKcdtNghEAH",
        "outputId": "50a1851a-39af-41c8-f244-23b3fe2d015c"
      },
      "source": [
        "filename = 'logistic_regression_extra_incomplete.sav'\n",
        "joblib.dump(model, filename)"
      ],
      "execution_count": 84,
      "outputs": [
        {
          "output_type": "execute_result",
          "data": {
            "text/plain": [
              "['logistic_regression_extra_incomplete.sav']"
            ]
          },
          "metadata": {
            "tags": []
          },
          "execution_count": 84
        }
      ]
    },
    {
      "cell_type": "code",
      "metadata": {
        "colab": {
          "base_uri": "https://localhost:8080/"
        },
        "id": "TLgmNtKIhECU",
        "outputId": "a74e24b8-a656-4587-a0fb-00711a47b113"
      },
      "source": [
        "logistic_regression_extra_incomplete = joblib.load(filename)\n",
        "logistic_regression_extra_incomplete"
      ],
      "execution_count": 85,
      "outputs": [
        {
          "output_type": "execute_result",
          "data": {
            "text/plain": [
              "LogisticRegression(C=1.0, class_weight=None, dual=False, fit_intercept=True,\n",
              "                   intercept_scaling=1, l1_ratio=None, max_iter=1000,\n",
              "                   multi_class='auto', n_jobs=None, penalty='l2',\n",
              "                   random_state=None, solver='lbfgs', tol=0.0001, verbose=0,\n",
              "                   warm_start=False)"
            ]
          },
          "metadata": {
            "tags": []
          },
          "execution_count": 85
        }
      ]
    },
    {
      "cell_type": "markdown",
      "metadata": {
        "id": "HMEO338ViSfW"
      },
      "source": [
        "Random Forest Classifier"
      ]
    },
    {
      "cell_type": "code",
      "metadata": {
        "id": "RBKsCXXviQ1W",
        "colab": {
          "base_uri": "https://localhost:8080/"
        },
        "outputId": "1a0ac088-2136-4aa6-a7a2-53473156e678"
      },
      "source": [
        "#random forest extra db's vs incomplete passes\n",
        "rf = RandomForestClassifier(n_estimators=100)\n",
        "rf = rf.fit(X_train, y_train)\n",
        "rf.score(X_test, y_test)"
      ],
      "execution_count": 86,
      "outputs": [
        {
          "output_type": "execute_result",
          "data": {
            "text/plain": [
              "0.7872891276576108"
            ]
          },
          "metadata": {
            "tags": []
          },
          "execution_count": 86
        }
      ]
    },
    {
      "cell_type": "code",
      "metadata": {
        "id": "_GKk_zaGiQ3_",
        "colab": {
          "base_uri": "https://localhost:8080/"
        },
        "outputId": "64deec87-dca8-4e22-eaf1-4f0eeb4a638e"
      },
      "source": [
        "sorted(zip(rf.feature_importances_, moreDB_features), reverse=True)"
      ],
      "execution_count": 87,
      "outputs": [
        {
          "output_type": "execute_result",
          "data": {
            "text/plain": [
              "[(0.30831525060928855, 'personnelD_1 DL, 3 LB, 7 DB'),\n",
              " (0.2781381263993078, 'personnelD_2 DL, 2 LB, 7 DB'),\n",
              " (0.24695905831514048, 'personnelD_4 DL, 1 LB, 6 DB'),\n",
              " (0.09983969312041979, 'personnelD_0 DL, 5 LB, 6 DB'),\n",
              " (0.03885855488213396, 'personnelD_2 DL, 4 LB, 5 DB'),\n",
              " (0.008286542420264465, 'personnelD_1 DL, 4 LB, 6 DB'),\n",
              " (0.007268731981565456, 'personnelD_0 DL, 6 LB, 5 DB'),\n",
              " (0.006516186867247729, 'personnelD_3 DL, 1 LB, 7 DB'),\n",
              " (0.0053870796454815375, 'personnelD_0 DL, 4 LB, 7 DB'),\n",
              " (0.0003173383131327562, 'personnelD_3 DL, 2 LB, 6 DB'),\n",
              " (0.00011343744601744187, 'personnelD_1 DL, 5 LB, 5 DB')]"
            ]
          },
          "metadata": {
            "tags": []
          },
          "execution_count": 87
        }
      ]
    },
    {
      "cell_type": "code",
      "metadata": {
        "colab": {
          "base_uri": "https://localhost:8080/"
        },
        "id": "zDWvhXWzhGCK",
        "outputId": "1522a16f-c172-4d11-c8d2-3a9dd7ca131d"
      },
      "source": [
        "filename = 'random_forest_extra_incomplete.sav'\n",
        "joblib.dump(rf, filename)"
      ],
      "execution_count": 88,
      "outputs": [
        {
          "output_type": "execute_result",
          "data": {
            "text/plain": [
              "['random_forest_extra_incomplete.sav']"
            ]
          },
          "metadata": {
            "tags": []
          },
          "execution_count": 88
        }
      ]
    },
    {
      "cell_type": "code",
      "metadata": {
        "colab": {
          "base_uri": "https://localhost:8080/"
        },
        "id": "GRMDdJ9ehGEZ",
        "outputId": "e265dead-0af2-4c02-e7ac-a9d39b7df71f"
      },
      "source": [
        "logistic_regression_extra_incomplete = joblib.load(filename)\n",
        "logistic_regression_extra_incomplete"
      ],
      "execution_count": 89,
      "outputs": [
        {
          "output_type": "execute_result",
          "data": {
            "text/plain": [
              "RandomForestClassifier(bootstrap=True, ccp_alpha=0.0, class_weight=None,\n",
              "                       criterion='gini', max_depth=None, max_features='auto',\n",
              "                       max_leaf_nodes=None, max_samples=None,\n",
              "                       min_impurity_decrease=0.0, min_impurity_split=None,\n",
              "                       min_samples_leaf=1, min_samples_split=2,\n",
              "                       min_weight_fraction_leaf=0.0, n_estimators=100,\n",
              "                       n_jobs=None, oob_score=False, random_state=None,\n",
              "                       verbose=0, warm_start=False)"
            ]
          },
          "metadata": {
            "tags": []
          },
          "execution_count": 89
        }
      ]
    },
    {
      "cell_type": "markdown",
      "metadata": {
        "id": "31Y86enYOUED"
      },
      "source": [
        "**Extra DB and Interceptions**"
      ]
    },
    {
      "cell_type": "markdown",
      "metadata": {
        "id": "6xjxy4gpifcq"
      },
      "source": [
        "Logistic Regression"
      ]
    },
    {
      "cell_type": "code",
      "metadata": {
        "id": "tu9VzoGKON0_"
      },
      "source": [
        "#logistic regression extra db's vs interceptions\n",
        "y = df[\"passResult_IN\"]\n",
        "X = moreDB_features\n",
        "\n",
        "X_train, X_test, y_train, y_test = train_test_split(X, y, random_state=1, stratify=y)"
      ],
      "execution_count": 90,
      "outputs": []
    },
    {
      "cell_type": "code",
      "metadata": {
        "id": "NSN8BvQROar6"
      },
      "source": [
        "X_scaler = MinMaxScaler().fit(X_train)\n",
        "\n",
        "X_train_scaled = X_scaler.transform(X_train)\n",
        "X_test_scaled = X_scaler.transform(X_test)"
      ],
      "execution_count": 91,
      "outputs": []
    },
    {
      "cell_type": "code",
      "metadata": {
        "id": "x-BpenwjOcU6",
        "colab": {
          "base_uri": "https://localhost:8080/"
        },
        "outputId": "ae58e512-b76b-4aad-d39f-53b288a29b6e"
      },
      "source": [
        "model = LogisticRegression(max_iter=1000)\n",
        "model.fit(X_train_scaled, y_train)"
      ],
      "execution_count": 92,
      "outputs": [
        {
          "output_type": "execute_result",
          "data": {
            "text/plain": [
              "LogisticRegression(C=1.0, class_weight=None, dual=False, fit_intercept=True,\n",
              "                   intercept_scaling=1, l1_ratio=None, max_iter=1000,\n",
              "                   multi_class='auto', n_jobs=None, penalty='l2',\n",
              "                   random_state=None, solver='lbfgs', tol=0.0001, verbose=0,\n",
              "                   warm_start=False)"
            ]
          },
          "metadata": {
            "tags": []
          },
          "execution_count": 92
        }
      ]
    },
    {
      "cell_type": "code",
      "metadata": {
        "id": "reyot3v-Odif",
        "colab": {
          "base_uri": "https://localhost:8080/"
        },
        "outputId": "2e893d69-d69f-4fde-9302-3970141aa09d"
      },
      "source": [
        "print(f\"Training Data Score: {model.score(X_train_scaled, y_train)}\")\n",
        "print(f\"Testing Data Score: {model.score(X_test_scaled, y_test)}\")"
      ],
      "execution_count": 93,
      "outputs": [
        {
          "output_type": "stream",
          "text": [
            "Training Data Score: 0.9621136315797996\n",
            "Testing Data Score: 0.9620539075440445\n"
          ],
          "name": "stdout"
        }
      ]
    },
    {
      "cell_type": "code",
      "metadata": {
        "colab": {
          "base_uri": "https://localhost:8080/"
        },
        "id": "lPboFMCSHzGB",
        "outputId": "db3bf779-5ea4-4bd8-fdf6-43c4b62d6852"
      },
      "source": [
        "filename = 'logistic_regression_extra_interceptions.sav'\n",
        "joblib.dump(model, filename) "
      ],
      "execution_count": 94,
      "outputs": [
        {
          "output_type": "execute_result",
          "data": {
            "text/plain": [
              "['logistic_regression_extra_interceptions.sav']"
            ]
          },
          "metadata": {
            "tags": []
          },
          "execution_count": 94
        }
      ]
    },
    {
      "cell_type": "code",
      "metadata": {
        "colab": {
          "base_uri": "https://localhost:8080/"
        },
        "id": "5ec7oFRrnkc4",
        "outputId": "8540f54c-9e21-4911-da9e-766b43a7f7bf"
      },
      "source": [
        "logistic_regression_extra_interceptions = joblib.load(filename)\n",
        "logistic_regression_extra_interceptions"
      ],
      "execution_count": 95,
      "outputs": [
        {
          "output_type": "execute_result",
          "data": {
            "text/plain": [
              "LogisticRegression(C=1.0, class_weight=None, dual=False, fit_intercept=True,\n",
              "                   intercept_scaling=1, l1_ratio=None, max_iter=1000,\n",
              "                   multi_class='auto', n_jobs=None, penalty='l2',\n",
              "                   random_state=None, solver='lbfgs', tol=0.0001, verbose=0,\n",
              "                   warm_start=False)"
            ]
          },
          "metadata": {
            "tags": []
          },
          "execution_count": 95
        }
      ]
    },
    {
      "cell_type": "markdown",
      "metadata": {
        "id": "c3URIh7FijLP"
      },
      "source": [
        "Random Forest Classifier"
      ]
    },
    {
      "cell_type": "code",
      "metadata": {
        "id": "YsTR6IHIiiZN",
        "colab": {
          "base_uri": "https://localhost:8080/"
        },
        "outputId": "5f69beee-90ac-4033-b1f0-be4555d446d6"
      },
      "source": [
        "#random forest extra db's vs interceptions\n",
        "rf = RandomForestClassifier(n_estimators=100)\n",
        "rf = rf.fit(X_train, y_train)\n",
        "rf.score(X_test, y_test)"
      ],
      "execution_count": 96,
      "outputs": [
        {
          "output_type": "execute_result",
          "data": {
            "text/plain": [
              "0.9620539075440445"
            ]
          },
          "metadata": {
            "tags": []
          },
          "execution_count": 96
        }
      ]
    },
    {
      "cell_type": "code",
      "metadata": {
        "id": "BKT5MyIziidi",
        "colab": {
          "base_uri": "https://localhost:8080/"
        },
        "outputId": "e770be87-1b88-447e-f637-9408ed90239a"
      },
      "source": [
        "sorted(zip(rf.feature_importances_, moreDB_features), reverse=True)"
      ],
      "execution_count": 97,
      "outputs": [
        {
          "output_type": "execute_result",
          "data": {
            "text/plain": [
              "[(0.9110774571729607, 'personnelD_0 DL, 6 LB, 5 DB'),\n",
              " (0.027966051199638034, 'personnelD_1 DL, 4 LB, 6 DB'),\n",
              " (0.01505741287583008, 'personnelD_1 DL, 5 LB, 5 DB'),\n",
              " (0.013100820065924008, 'personnelD_3 DL, 2 LB, 6 DB'),\n",
              " (0.013065721207087972, 'personnelD_4 DL, 1 LB, 6 DB'),\n",
              " (0.008122256039301928, 'personnelD_2 DL, 4 LB, 5 DB'),\n",
              " (0.0038093908494472375, 'personnelD_1 DL, 3 LB, 7 DB'),\n",
              " (0.003252752867005136, 'personnelD_2 DL, 2 LB, 7 DB'),\n",
              " (0.0026391661623257506, 'personnelD_3 DL, 1 LB, 7 DB'),\n",
              " (0.0010976047122883592, 'personnelD_0 DL, 5 LB, 6 DB'),\n",
              " (0.000811366848190776, 'personnelD_0 DL, 4 LB, 7 DB')]"
            ]
          },
          "metadata": {
            "tags": []
          },
          "execution_count": 97
        }
      ]
    },
    {
      "cell_type": "code",
      "metadata": {
        "colab": {
          "base_uri": "https://localhost:8080/"
        },
        "id": "OghroyOnnrGM",
        "outputId": "f0157dd7-63fb-470a-89e3-2476baf9039f"
      },
      "source": [
        "filename = 'random_forest_extra_interceptions.sav'\n",
        "joblib.dump(rf, filename) "
      ],
      "execution_count": 98,
      "outputs": [
        {
          "output_type": "execute_result",
          "data": {
            "text/plain": [
              "['random_forest_extra_interceptions.sav']"
            ]
          },
          "metadata": {
            "tags": []
          },
          "execution_count": 98
        }
      ]
    },
    {
      "cell_type": "code",
      "metadata": {
        "colab": {
          "base_uri": "https://localhost:8080/"
        },
        "id": "GKrtdI4KnrIO",
        "outputId": "73c7efdd-11bd-4606-cb61-ebca54787959"
      },
      "source": [
        "random_forest_extra_interceptions = joblib.load(filename)\n",
        "random_forest_extra_interceptions"
      ],
      "execution_count": 99,
      "outputs": [
        {
          "output_type": "execute_result",
          "data": {
            "text/plain": [
              "RandomForestClassifier(bootstrap=True, ccp_alpha=0.0, class_weight=None,\n",
              "                       criterion='gini', max_depth=None, max_features='auto',\n",
              "                       max_leaf_nodes=None, max_samples=None,\n",
              "                       min_impurity_decrease=0.0, min_impurity_split=None,\n",
              "                       min_samples_leaf=1, min_samples_split=2,\n",
              "                       min_weight_fraction_leaf=0.0, n_estimators=100,\n",
              "                       n_jobs=None, oob_score=False, random_state=None,\n",
              "                       verbose=0, warm_start=False)"
            ]
          },
          "metadata": {
            "tags": []
          },
          "execution_count": 99
        }
      ]
    },
    {
      "cell_type": "markdown",
      "metadata": {
        "id": "Ft_glq_6OgSf"
      },
      "source": [
        "**Extra DB and Sacks**"
      ]
    },
    {
      "cell_type": "markdown",
      "metadata": {
        "id": "bJCEIJfzixv7"
      },
      "source": [
        "Logistic Regression"
      ]
    },
    {
      "cell_type": "code",
      "metadata": {
        "id": "FwmEhpekOlTl"
      },
      "source": [
        "#logistic regression extra db's vs sacks\n",
        "y = df[\"passResult_S\"]\n",
        "X = moreDB_features\n",
        "\n",
        "X_train, X_test, y_train, y_test = train_test_split(X, y, random_state=1, stratify=y)"
      ],
      "execution_count": 100,
      "outputs": []
    },
    {
      "cell_type": "code",
      "metadata": {
        "id": "l8-zTEtyOmtX"
      },
      "source": [
        "X_scaler = MinMaxScaler().fit(X_train)\n",
        "\n",
        "X_train_scaled = X_scaler.transform(X_train)\n",
        "X_test_scaled = X_scaler.transform(X_test)"
      ],
      "execution_count": 101,
      "outputs": []
    },
    {
      "cell_type": "code",
      "metadata": {
        "id": "K0KTAiGiOn8k",
        "colab": {
          "base_uri": "https://localhost:8080/"
        },
        "outputId": "f2c88211-e13e-4c11-f3a7-9efc36f58fe5"
      },
      "source": [
        "model = LogisticRegression(max_iter=1000)\n",
        "model.fit(X_train_scaled, y_train)"
      ],
      "execution_count": 102,
      "outputs": [
        {
          "output_type": "execute_result",
          "data": {
            "text/plain": [
              "LogisticRegression(C=1.0, class_weight=None, dual=False, fit_intercept=True,\n",
              "                   intercept_scaling=1, l1_ratio=None, max_iter=1000,\n",
              "                   multi_class='auto', n_jobs=None, penalty='l2',\n",
              "                   random_state=None, solver='lbfgs', tol=0.0001, verbose=0,\n",
              "                   warm_start=False)"
            ]
          },
          "metadata": {
            "tags": []
          },
          "execution_count": 102
        }
      ]
    },
    {
      "cell_type": "code",
      "metadata": {
        "id": "KXkPf8cvOpYN",
        "colab": {
          "base_uri": "https://localhost:8080/"
        },
        "outputId": "0d1e275b-fb96-406a-dad6-685faf6520d9"
      },
      "source": [
        "print(f\"Training Data Score: {model.score(X_train_scaled, y_train)}\")\n",
        "print(f\"Testing Data Score: {model.score(X_test_scaled, y_test)}\")"
      ],
      "execution_count": 103,
      "outputs": [
        {
          "output_type": "stream",
          "text": [
            "Training Data Score: 0.9290425996988391\n",
            "Testing Data Score: 0.9290429443680751\n"
          ],
          "name": "stdout"
        }
      ]
    },
    {
      "cell_type": "code",
      "metadata": {
        "colab": {
          "base_uri": "https://localhost:8080/"
        },
        "id": "AXdRBuHon4sQ",
        "outputId": "70f7a2b6-746a-4f7e-9598-2ed3617ee9ec"
      },
      "source": [
        "filename = 'logistic_regression_extra_sacks.sav'\n",
        "joblib.dump(model, filename) "
      ],
      "execution_count": 104,
      "outputs": [
        {
          "output_type": "execute_result",
          "data": {
            "text/plain": [
              "['logistic_regression_extra_sacks.sav']"
            ]
          },
          "metadata": {
            "tags": []
          },
          "execution_count": 104
        }
      ]
    },
    {
      "cell_type": "code",
      "metadata": {
        "colab": {
          "base_uri": "https://localhost:8080/"
        },
        "id": "RjwMN8G_n4uc",
        "outputId": "a97a9eca-17cf-4752-ccfb-e6c5371fc534"
      },
      "source": [
        "logistic_regression_extra_sacks = joblib.load(filename)\n",
        "logistic_regression_extra_sacks"
      ],
      "execution_count": 105,
      "outputs": [
        {
          "output_type": "execute_result",
          "data": {
            "text/plain": [
              "LogisticRegression(C=1.0, class_weight=None, dual=False, fit_intercept=True,\n",
              "                   intercept_scaling=1, l1_ratio=None, max_iter=1000,\n",
              "                   multi_class='auto', n_jobs=None, penalty='l2',\n",
              "                   random_state=None, solver='lbfgs', tol=0.0001, verbose=0,\n",
              "                   warm_start=False)"
            ]
          },
          "metadata": {
            "tags": []
          },
          "execution_count": 105
        }
      ]
    },
    {
      "cell_type": "markdown",
      "metadata": {
        "id": "mr1yP_Uri2dx"
      },
      "source": [
        "Random Forest"
      ]
    },
    {
      "cell_type": "code",
      "metadata": {
        "id": "obrqnAJKi0z8",
        "colab": {
          "base_uri": "https://localhost:8080/"
        },
        "outputId": "1c532e09-8aed-45b3-9e4e-c09d5187f0a8"
      },
      "source": [
        "#random forest extra db's vs sacks\n",
        "rf = RandomForestClassifier(n_estimators=100)\n",
        "rf = rf.fit(X_train, y_train)\n",
        "rf.score(X_test, y_test)"
      ],
      "execution_count": 106,
      "outputs": [
        {
          "output_type": "execute_result",
          "data": {
            "text/plain": [
              "0.9290429443680751"
            ]
          },
          "metadata": {
            "tags": []
          },
          "execution_count": 106
        }
      ]
    },
    {
      "cell_type": "code",
      "metadata": {
        "id": "bpS-Z672i02s",
        "colab": {
          "base_uri": "https://localhost:8080/"
        },
        "outputId": "fa0bb1aa-29a1-4c11-ef31-050b804bbdc8"
      },
      "source": [
        "sorted(zip(rf.feature_importances_, moreDB_features), reverse=True)"
      ],
      "execution_count": 107,
      "outputs": [
        {
          "output_type": "execute_result",
          "data": {
            "text/plain": [
              "[(0.37416992023734397, 'personnelD_1 DL, 4 LB, 6 DB'),\n",
              " (0.23953967577065177, 'personnelD_1 DL, 5 LB, 5 DB'),\n",
              " (0.17714449024238574, 'personnelD_3 DL, 2 LB, 6 DB'),\n",
              " (0.10812240673054659, 'personnelD_2 DL, 4 LB, 5 DB'),\n",
              " (0.028233437839711117, 'personnelD_1 DL, 3 LB, 7 DB'),\n",
              " (0.02473292282035846, 'personnelD_2 DL, 2 LB, 7 DB'),\n",
              " (0.02034625932414251, 'personnelD_3 DL, 1 LB, 7 DB'),\n",
              " (0.00897981941645065, 'personnelD_0 DL, 6 LB, 5 DB'),\n",
              " (0.008550999974695531, 'personnelD_0 DL, 5 LB, 6 DB'),\n",
              " (0.006866425481918299, 'personnelD_0 DL, 4 LB, 7 DB'),\n",
              " (0.0033136421617953214, 'personnelD_4 DL, 1 LB, 6 DB')]"
            ]
          },
          "metadata": {
            "tags": []
          },
          "execution_count": 107
        }
      ]
    },
    {
      "cell_type": "code",
      "metadata": {
        "colab": {
          "base_uri": "https://localhost:8080/"
        },
        "id": "NTmB8oJCoBfz",
        "outputId": "549ecdeb-acd0-4fda-e2ad-fcda3200a3ee"
      },
      "source": [
        "filename = 'random_forest_extra_sacks.sav'\n",
        "joblib.dump(rf, filename) "
      ],
      "execution_count": 108,
      "outputs": [
        {
          "output_type": "execute_result",
          "data": {
            "text/plain": [
              "['random_forest_extra_sacks.sav']"
            ]
          },
          "metadata": {
            "tags": []
          },
          "execution_count": 108
        }
      ]
    },
    {
      "cell_type": "code",
      "metadata": {
        "colab": {
          "base_uri": "https://localhost:8080/"
        },
        "id": "FC25GyhgoCCP",
        "outputId": "99ab12e5-ca12-49da-aab9-5de68aa86578"
      },
      "source": [
        "random_forest_extra_sacks = joblib.load(filename)\n",
        "random_forest_extra_sacks"
      ],
      "execution_count": 109,
      "outputs": [
        {
          "output_type": "execute_result",
          "data": {
            "text/plain": [
              "RandomForestClassifier(bootstrap=True, ccp_alpha=0.0, class_weight=None,\n",
              "                       criterion='gini', max_depth=None, max_features='auto',\n",
              "                       max_leaf_nodes=None, max_samples=None,\n",
              "                       min_impurity_decrease=0.0, min_impurity_split=None,\n",
              "                       min_samples_leaf=1, min_samples_split=2,\n",
              "                       min_weight_fraction_leaf=0.0, n_estimators=100,\n",
              "                       n_jobs=None, oob_score=False, random_state=None,\n",
              "                       verbose=0, warm_start=False)"
            ]
          },
          "metadata": {
            "tags": []
          },
          "execution_count": 109
        }
      ]
    },
    {
      "cell_type": "markdown",
      "metadata": {
        "id": "XNcv8llHO1sx"
      },
      "source": [
        "**Extra DB's and Catches**"
      ]
    },
    {
      "cell_type": "markdown",
      "metadata": {
        "id": "fvqISIDQjB0I"
      },
      "source": [
        "Logistic Regression"
      ]
    },
    {
      "cell_type": "code",
      "metadata": {
        "id": "mcybvzx3O6eQ"
      },
      "source": [
        "#logistic regression extra db's vs completions\n",
        "y = df[\"passResult_C\"]\n",
        "X = moreDB_features\n",
        "\n",
        "X_train, X_test, y_train, y_test = train_test_split(X, y, random_state=1, stratify=y)"
      ],
      "execution_count": 110,
      "outputs": []
    },
    {
      "cell_type": "code",
      "metadata": {
        "id": "tV9lkiYvO9Og"
      },
      "source": [
        "X_scaler = MinMaxScaler().fit(X_train)\n",
        "\n",
        "X_train_scaled = X_scaler.transform(X_train)\n",
        "X_test_scaled = X_scaler.transform(X_test)"
      ],
      "execution_count": 111,
      "outputs": []
    },
    {
      "cell_type": "code",
      "metadata": {
        "id": "mwV37X-1O-wA",
        "colab": {
          "base_uri": "https://localhost:8080/"
        },
        "outputId": "6ebdd2ed-694d-40b6-a317-1b90995fd03f"
      },
      "source": [
        "model = LogisticRegression(max_iter=1000)\n",
        "model.fit(X_train_scaled, y_train)"
      ],
      "execution_count": 112,
      "outputs": [
        {
          "output_type": "execute_result",
          "data": {
            "text/plain": [
              "LogisticRegression(C=1.0, class_weight=None, dual=False, fit_intercept=True,\n",
              "                   intercept_scaling=1, l1_ratio=None, max_iter=1000,\n",
              "                   multi_class='auto', n_jobs=None, penalty='l2',\n",
              "                   random_state=None, solver='lbfgs', tol=0.0001, verbose=0,\n",
              "                   warm_start=False)"
            ]
          },
          "metadata": {
            "tags": []
          },
          "execution_count": 112
        }
      ]
    },
    {
      "cell_type": "code",
      "metadata": {
        "id": "Hvh8H8XvPAIm",
        "colab": {
          "base_uri": "https://localhost:8080/"
        },
        "outputId": "db254b44-8f7c-4564-fdd5-d2f471f5e3ad"
      },
      "source": [
        "print(f\"Training Data Score: {model.score(X_train_scaled, y_train)}\")\n",
        "print(f\"Testing Data Score: {model.score(X_test_scaled, y_test)}\")"
      ],
      "execution_count": 113,
      "outputs": [
        {
          "output_type": "stream",
          "text": [
            "Training Data Score: 0.6844157316105633\n",
            "Testing Data Score: 0.6834814034031019\n"
          ],
          "name": "stdout"
        }
      ]
    },
    {
      "cell_type": "code",
      "metadata": {
        "colab": {
          "base_uri": "https://localhost:8080/"
        },
        "id": "OGcUcgghodcS",
        "outputId": "f591b1a6-ceca-4738-fa51-8a53a052b840"
      },
      "source": [
        "filename = 'logistic_regression_extra_complete.sav'\n",
        "joblib.dump(model, filename) "
      ],
      "execution_count": 114,
      "outputs": [
        {
          "output_type": "execute_result",
          "data": {
            "text/plain": [
              "['logistic_regression_extra_complete.sav']"
            ]
          },
          "metadata": {
            "tags": []
          },
          "execution_count": 114
        }
      ]
    },
    {
      "cell_type": "code",
      "metadata": {
        "colab": {
          "base_uri": "https://localhost:8080/"
        },
        "id": "1FFWCtFtodeB",
        "outputId": "510d58fd-0443-4357-af96-74ded1e82c78"
      },
      "source": [
        "logistic_regression_extra_complete = joblib.load(filename)\n",
        "logistic_regression_extra_complete"
      ],
      "execution_count": 115,
      "outputs": [
        {
          "output_type": "execute_result",
          "data": {
            "text/plain": [
              "LogisticRegression(C=1.0, class_weight=None, dual=False, fit_intercept=True,\n",
              "                   intercept_scaling=1, l1_ratio=None, max_iter=1000,\n",
              "                   multi_class='auto', n_jobs=None, penalty='l2',\n",
              "                   random_state=None, solver='lbfgs', tol=0.0001, verbose=0,\n",
              "                   warm_start=False)"
            ]
          },
          "metadata": {
            "tags": []
          },
          "execution_count": 115
        }
      ]
    },
    {
      "cell_type": "markdown",
      "metadata": {
        "id": "bAihzaMRjHSm"
      },
      "source": [
        "Random Forest Classifier"
      ]
    },
    {
      "cell_type": "code",
      "metadata": {
        "id": "deSkW5zYjFvz",
        "colab": {
          "base_uri": "https://localhost:8080/"
        },
        "outputId": "47275523-2e88-4cb5-b964-9df9628d7df6"
      },
      "source": [
        "#random forest extra db's vs completions\n",
        "rf = RandomForestClassifier(n_estimators=100)\n",
        "rf = rf.fit(X_train, y_train)\n",
        "rf.score(X_test, y_test)"
      ],
      "execution_count": 116,
      "outputs": [
        {
          "output_type": "execute_result",
          "data": {
            "text/plain": [
              "0.6834814034031019"
            ]
          },
          "metadata": {
            "tags": []
          },
          "execution_count": 116
        }
      ]
    },
    {
      "cell_type": "code",
      "metadata": {
        "id": "fj4jpyaljFyq",
        "colab": {
          "base_uri": "https://localhost:8080/"
        },
        "outputId": "e8203fa4-60f8-4d56-ea36-3a996ffa7bd9"
      },
      "source": [
        "sorted(zip(rf.feature_importances_, moreDB_features), reverse=True)"
      ],
      "execution_count": 117,
      "outputs": [
        {
          "output_type": "execute_result",
          "data": {
            "text/plain": [
              "[(0.28004531531410065, 'personnelD_4 DL, 1 LB, 6 DB'),\n",
              " (0.2430217543762155, 'personnelD_1 DL, 3 LB, 7 DB'),\n",
              " (0.2215138594418018, 'personnelD_2 DL, 2 LB, 7 DB'),\n",
              " (0.08039145476756257, 'personnelD_0 DL, 6 LB, 5 DB'),\n",
              " (0.07857982323364493, 'personnelD_0 DL, 5 LB, 6 DB'),\n",
              " (0.04265555722583594, 'personnelD_1 DL, 5 LB, 5 DB'),\n",
              " (0.025206841221830274, 'personnelD_1 DL, 4 LB, 6 DB'),\n",
              " (0.012932585048679258, 'personnelD_0 DL, 4 LB, 7 DB'),\n",
              " (0.007639503899539843, 'personnelD_3 DL, 2 LB, 6 DB'),\n",
              " (0.007463622622950172, 'personnelD_2 DL, 4 LB, 5 DB'),\n",
              " (0.0005496828478391294, 'personnelD_3 DL, 1 LB, 7 DB')]"
            ]
          },
          "metadata": {
            "tags": []
          },
          "execution_count": 117
        }
      ]
    },
    {
      "cell_type": "code",
      "metadata": {
        "colab": {
          "base_uri": "https://localhost:8080/"
        },
        "id": "Sk_vMmO-oc64",
        "outputId": "39e1b627-c5db-4027-cf9d-3400c64a4777"
      },
      "source": [
        "filename = 'random_forest_extra_complete.sav'\n",
        "joblib.dump(rf, filename) "
      ],
      "execution_count": 118,
      "outputs": [
        {
          "output_type": "execute_result",
          "data": {
            "text/plain": [
              "['random_forest_extra_complete.sav']"
            ]
          },
          "metadata": {
            "tags": []
          },
          "execution_count": 118
        }
      ]
    },
    {
      "cell_type": "code",
      "metadata": {
        "colab": {
          "base_uri": "https://localhost:8080/"
        },
        "id": "zEvw3zyioc9A",
        "outputId": "3d2c345d-66ce-4124-d624-e34cb70bf3b9"
      },
      "source": [
        "random_forest_extra_complete = joblib.load(filename)\n",
        "random_forest_extra_complete"
      ],
      "execution_count": 119,
      "outputs": [
        {
          "output_type": "execute_result",
          "data": {
            "text/plain": [
              "RandomForestClassifier(bootstrap=True, ccp_alpha=0.0, class_weight=None,\n",
              "                       criterion='gini', max_depth=None, max_features='auto',\n",
              "                       max_leaf_nodes=None, max_samples=None,\n",
              "                       min_impurity_decrease=0.0, min_impurity_split=None,\n",
              "                       min_samples_leaf=1, min_samples_split=2,\n",
              "                       min_weight_fraction_leaf=0.0, n_estimators=100,\n",
              "                       n_jobs=None, oob_score=False, random_state=None,\n",
              "                       verbose=0, warm_start=False)"
            ]
          },
          "metadata": {
            "tags": []
          },
          "execution_count": 119
        }
      ]
    },
    {
      "cell_type": "markdown",
      "metadata": {
        "id": "iBu1QXhNPUlx"
      },
      "source": [
        "**Offensive Formation agaisnt Extra DB's**"
      ]
    },
    {
      "cell_type": "markdown",
      "metadata": {
        "id": "8AFCNaCbjQvS"
      },
      "source": [
        "Logistic Regression"
      ]
    },
    {
      "cell_type": "code",
      "metadata": {
        "id": "783ljA8EPdwV"
      },
      "source": [
        "#logistic regression offense formation vs extra dbs\n",
        "y = df[\"offenseFormation_I_FORM\"]\n",
        "X = moreDB_features\n",
        "\n",
        "X_train, X_test, y_train, y_test = train_test_split(X, y, random_state=1, stratify=y)"
      ],
      "execution_count": 120,
      "outputs": []
    },
    {
      "cell_type": "code",
      "metadata": {
        "id": "DyXnmnV-Pj2A"
      },
      "source": [
        "X_scaler = MinMaxScaler().fit(X_train)\n",
        "\n",
        "X_train_scaled = X_scaler.transform(X_train)\n",
        "X_test_scaled = X_scaler.transform(X_test)"
      ],
      "execution_count": 121,
      "outputs": []
    },
    {
      "cell_type": "code",
      "metadata": {
        "id": "NuWYjsw6PlmQ",
        "colab": {
          "base_uri": "https://localhost:8080/"
        },
        "outputId": "be469787-3475-45d7-a2d7-ff2e7778fe0d"
      },
      "source": [
        "model = LogisticRegression(max_iter=1000)\n",
        "model.fit(X_train_scaled, y_train)"
      ],
      "execution_count": 122,
      "outputs": [
        {
          "output_type": "execute_result",
          "data": {
            "text/plain": [
              "LogisticRegression(C=1.0, class_weight=None, dual=False, fit_intercept=True,\n",
              "                   intercept_scaling=1, l1_ratio=None, max_iter=1000,\n",
              "                   multi_class='auto', n_jobs=None, penalty='l2',\n",
              "                   random_state=None, solver='lbfgs', tol=0.0001, verbose=0,\n",
              "                   warm_start=False)"
            ]
          },
          "metadata": {
            "tags": []
          },
          "execution_count": 122
        }
      ]
    },
    {
      "cell_type": "code",
      "metadata": {
        "id": "YDqL-hVNPnY4",
        "colab": {
          "base_uri": "https://localhost:8080/"
        },
        "outputId": "ceb6f301-3f21-45cd-9793-60eb8509d78f"
      },
      "source": [
        "print(f\"Training Data Score: {model.score(X_train_scaled, y_train)}\")\n",
        "print(f\"Testing Data Score: {model.score(X_test_scaled, y_test)}\")"
      ],
      "execution_count": 123,
      "outputs": [
        {
          "output_type": "stream",
          "text": [
            "Training Data Score: 0.9533475818072894\n",
            "Testing Data Score: 0.953349427554148\n"
          ],
          "name": "stdout"
        }
      ]
    },
    {
      "cell_type": "code",
      "metadata": {
        "id": "WllqiT5jDueR",
        "colab": {
          "base_uri": "https://localhost:8080/"
        },
        "outputId": "5c089b0b-57e0-47ff-d07a-9b73ac43ed92"
      },
      "source": [
        "filename = 'logistic_regression_offense_extra.sav'\n",
        "joblib.dump(model, filename) "
      ],
      "execution_count": 124,
      "outputs": [
        {
          "output_type": "execute_result",
          "data": {
            "text/plain": [
              "['logistic_regression_offense_extra.sav']"
            ]
          },
          "metadata": {
            "tags": []
          },
          "execution_count": 124
        }
      ]
    },
    {
      "cell_type": "code",
      "metadata": {
        "colab": {
          "base_uri": "https://localhost:8080/"
        },
        "id": "4udQgFrFocIU",
        "outputId": "cea8afa5-c1ae-403b-d6d4-26aaf5725f9b"
      },
      "source": [
        "logistic_regression_offense_extra = joblib.load(filename)\n",
        "logistic_regression_offense_extra"
      ],
      "execution_count": 125,
      "outputs": [
        {
          "output_type": "execute_result",
          "data": {
            "text/plain": [
              "LogisticRegression(C=1.0, class_weight=None, dual=False, fit_intercept=True,\n",
              "                   intercept_scaling=1, l1_ratio=None, max_iter=1000,\n",
              "                   multi_class='auto', n_jobs=None, penalty='l2',\n",
              "                   random_state=None, solver='lbfgs', tol=0.0001, verbose=0,\n",
              "                   warm_start=False)"
            ]
          },
          "metadata": {
            "tags": []
          },
          "execution_count": 125
        }
      ]
    },
    {
      "cell_type": "markdown",
      "metadata": {
        "id": "5zd6xftFjT22"
      },
      "source": [
        "Random Forest"
      ]
    },
    {
      "cell_type": "code",
      "metadata": {
        "id": "TNUSUn3-jU5N",
        "colab": {
          "base_uri": "https://localhost:8080/"
        },
        "outputId": "1a3373fe-8cda-475d-a0d4-8d89483a4692"
      },
      "source": [
        "#random forest offense formation vs extra dbs\n",
        "rf = RandomForestClassifier(n_estimators=100)\n",
        "rf = rf.fit(X_train, y_train)\n",
        "rf.score(X_test, y_test)"
      ],
      "execution_count": 126,
      "outputs": [
        {
          "output_type": "execute_result",
          "data": {
            "text/plain": [
              "0.953349427554148"
            ]
          },
          "metadata": {
            "tags": []
          },
          "execution_count": 126
        }
      ]
    },
    {
      "cell_type": "code",
      "metadata": {
        "id": "bMMkZ_tfjWLP",
        "colab": {
          "base_uri": "https://localhost:8080/"
        },
        "outputId": "d94fb972-f31a-47dc-d8e1-a04a4c385513"
      },
      "source": [
        "sorted(zip(rf.feature_importances_, moreDB_features), reverse=True)"
      ],
      "execution_count": 127,
      "outputs": [
        {
          "output_type": "execute_result",
          "data": {
            "text/plain": [
              "[(0.285191645568188, 'personnelD_3 DL, 2 LB, 6 DB'),\n",
              " (0.27878953604967854, 'personnelD_4 DL, 1 LB, 6 DB'),\n",
              " (0.21801699659143037, 'personnelD_2 DL, 4 LB, 5 DB'),\n",
              " (0.0900305295088272, 'personnelD_1 DL, 4 LB, 6 DB'),\n",
              " (0.027780794296605328, 'personnelD_1 DL, 5 LB, 5 DB'),\n",
              " (0.027485105338947297, 'personnelD_1 DL, 3 LB, 7 DB'),\n",
              " (0.024529459433560732, 'personnelD_2 DL, 2 LB, 7 DB'),\n",
              " (0.02131793324332357, 'personnelD_3 DL, 1 LB, 7 DB'),\n",
              " (0.009609362899696964, 'personnelD_0 DL, 6 LB, 5 DB'),\n",
              " (0.009546488831946049, 'personnelD_0 DL, 5 LB, 6 DB'),\n",
              " (0.007702148237795934, 'personnelD_0 DL, 4 LB, 7 DB')]"
            ]
          },
          "metadata": {
            "tags": []
          },
          "execution_count": 127
        }
      ]
    },
    {
      "cell_type": "code",
      "metadata": {
        "colab": {
          "base_uri": "https://localhost:8080/"
        },
        "id": "DAO8ms5Iobqz",
        "outputId": "29580dc1-e845-460f-c4d8-3d4de1f7b6ea"
      },
      "source": [
        "filename = 'random_forest_offense_extra.sav'\n",
        "joblib.dump(rf, filename) "
      ],
      "execution_count": 128,
      "outputs": [
        {
          "output_type": "execute_result",
          "data": {
            "text/plain": [
              "['random_forest_offense_extra.sav']"
            ]
          },
          "metadata": {
            "tags": []
          },
          "execution_count": 128
        }
      ]
    },
    {
      "cell_type": "code",
      "metadata": {
        "colab": {
          "base_uri": "https://localhost:8080/"
        },
        "id": "_H2i9TnKobsw",
        "outputId": "613c824e-dd2d-402b-a70a-acec096dcb48"
      },
      "source": [
        "random_forest_offense_extra = joblib.load(filename)\n",
        "random_forest_offense_extra"
      ],
      "execution_count": 129,
      "outputs": [
        {
          "output_type": "execute_result",
          "data": {
            "text/plain": [
              "RandomForestClassifier(bootstrap=True, ccp_alpha=0.0, class_weight=None,\n",
              "                       criterion='gini', max_depth=None, max_features='auto',\n",
              "                       max_leaf_nodes=None, max_samples=None,\n",
              "                       min_impurity_decrease=0.0, min_impurity_split=None,\n",
              "                       min_samples_leaf=1, min_samples_split=2,\n",
              "                       min_weight_fraction_leaf=0.0, n_estimators=100,\n",
              "                       n_jobs=None, oob_score=False, random_state=None,\n",
              "                       verbose=0, warm_start=False)"
            ]
          },
          "metadata": {
            "tags": []
          },
          "execution_count": 129
        }
      ]
    }
  ]
}