{
  "nbformat": 4,
  "nbformat_minor": 0,
  "metadata": {
    "kernelspec": {
      "display_name": "Python 3",
      "language": "python",
      "name": "python3"
    },
    "language_info": {
      "codemirror_mode": {
        "name": "ipython",
        "version": 3
      },
      "file_extension": ".py",
      "mimetype": "text/x-python",
      "name": "python",
      "nbconvert_exporter": "python",
      "pygments_lexer": "ipython3",
      "version": "3.7.6"
    },
    "colab": {
      "name": "passResult_regression.ipynb",
      "provenance": [],
      "collapsed_sections": [],
      "include_colab_link": true
    },
    "accelerator": "GPU"
  },
  "cells": [
    {
      "cell_type": "markdown",
      "metadata": {
        "id": "view-in-github",
        "colab_type": "text"
      },
      "source": [
        "<a href=\"https://colab.research.google.com/github/Ntorres95/nfl_big_data_bowl_2021/blob/main/passResult_regression.ipynb\" target=\"_parent\"><img src=\"https://colab.research.google.com/assets/colab-badge.svg\" alt=\"Open In Colab\"/></a>"
      ]
    },
    {
      "cell_type": "code",
      "metadata": {
        "colab": {
          "base_uri": "https://localhost:8080/"
        },
        "id": "Q1xBiYtPCu7p",
        "outputId": "ca936b6b-b45d-42f8-98a7-d42b50ae5f34"
      },
      "source": [
        "!pip install boto3\n",
        "!pip install fsspec\n",
        "!pip install s3fs"
      ],
      "execution_count": null,
      "outputs": [
        {
          "output_type": "stream",
          "text": [
            "Collecting boto3\n",
            "\u001b[?25l  Downloading https://files.pythonhosted.org/packages/81/a1/d8b9be4f3996265cb4e42dcd0ba72d61d68062ed6d8ce7e26b37cc399455/boto3-1.16.24-py2.py3-none-any.whl (129kB)\n",
            "\u001b[K     |████████████████████████████████| 133kB 8.7MB/s \n",
            "\u001b[?25hCollecting s3transfer<0.4.0,>=0.3.0\n",
            "\u001b[?25l  Downloading https://files.pythonhosted.org/packages/69/79/e6afb3d8b0b4e96cefbdc690f741d7dd24547ff1f94240c997a26fa908d3/s3transfer-0.3.3-py2.py3-none-any.whl (69kB)\n",
            "\u001b[K     |████████████████████████████████| 71kB 7.1MB/s \n",
            "\u001b[?25hCollecting botocore<1.20.0,>=1.19.24\n",
            "\u001b[?25l  Downloading https://files.pythonhosted.org/packages/08/16/8afd6474045f41bd51002e65862e2066ea2c5de34d0a942e1c4e86098d9a/botocore-1.19.24-py2.py3-none-any.whl (6.9MB)\n",
            "\u001b[K     |████████████████████████████████| 6.9MB 9.6MB/s \n",
            "\u001b[?25hCollecting jmespath<1.0.0,>=0.7.1\n",
            "  Downloading https://files.pythonhosted.org/packages/07/cb/5f001272b6faeb23c1c9e0acc04d48eaaf5c862c17709d20e3469c6e0139/jmespath-0.10.0-py2.py3-none-any.whl\n",
            "Collecting urllib3<1.27,>=1.25.4; python_version != \"3.4\"\n",
            "\u001b[?25l  Downloading https://files.pythonhosted.org/packages/f5/71/45d36a8df68f3ebb098d6861b2c017f3d094538c0fb98fa61d4dc43e69b9/urllib3-1.26.2-py2.py3-none-any.whl (136kB)\n",
            "\u001b[K     |████████████████████████████████| 143kB 48.4MB/s \n",
            "\u001b[?25hRequirement already satisfied: python-dateutil<3.0.0,>=2.1 in /usr/local/lib/python3.6/dist-packages (from botocore<1.20.0,>=1.19.24->boto3) (2.8.1)\n",
            "Requirement already satisfied: six>=1.5 in /usr/local/lib/python3.6/dist-packages (from python-dateutil<3.0.0,>=2.1->botocore<1.20.0,>=1.19.24->boto3) (1.15.0)\n",
            "\u001b[31mERROR: requests 2.23.0 has requirement urllib3!=1.25.0,!=1.25.1,<1.26,>=1.21.1, but you'll have urllib3 1.26.2 which is incompatible.\u001b[0m\n",
            "\u001b[31mERROR: datascience 0.10.6 has requirement folium==0.2.1, but you'll have folium 0.8.3 which is incompatible.\u001b[0m\n",
            "Installing collected packages: urllib3, jmespath, botocore, s3transfer, boto3\n",
            "  Found existing installation: urllib3 1.24.3\n",
            "    Uninstalling urllib3-1.24.3:\n",
            "      Successfully uninstalled urllib3-1.24.3\n",
            "Successfully installed boto3-1.16.24 botocore-1.19.24 jmespath-0.10.0 s3transfer-0.3.3 urllib3-1.26.2\n",
            "Collecting fsspec\n",
            "\u001b[?25l  Downloading https://files.pythonhosted.org/packages/a5/8b/1df260f860f17cb08698170153ef7db672c497c1840dcc8613ce26a8a005/fsspec-0.8.4-py3-none-any.whl (91kB)\n",
            "\u001b[K     |████████████████████████████████| 92kB 5.7MB/s \n",
            "\u001b[?25hInstalling collected packages: fsspec\n",
            "Successfully installed fsspec-0.8.4\n",
            "Collecting s3fs\n",
            "  Downloading https://files.pythonhosted.org/packages/a7/58/732ea1c735d725b1cc4cf365ae6326c22569a5e88c8502d13844e91f08ef/s3fs-0.5.1-py3-none-any.whl\n",
            "Collecting aiobotocore>=1.0.1\n",
            "\u001b[?25l  Downloading https://files.pythonhosted.org/packages/73/25/a81b015035012131056a6b7a339eec052f86f33e35fd91f160e961ea2a5e/aiobotocore-1.1.2-py3-none-any.whl (45kB)\n",
            "\u001b[K     |████████████████████████████████| 51kB 6.9MB/s \n",
            "\u001b[?25hRequirement already satisfied: fsspec>=0.8.0 in /usr/local/lib/python3.6/dist-packages (from s3fs) (0.8.4)\n",
            "Requirement already satisfied: wrapt>=1.10.10 in /usr/local/lib/python3.6/dist-packages (from aiobotocore>=1.0.1->s3fs) (1.12.1)\n",
            "Collecting botocore<1.17.45,>=1.17.44\n",
            "\u001b[?25l  Downloading https://files.pythonhosted.org/packages/1e/6a/b6490235c01c941a24a86235e2a641e9505cf0ce4b4968d4987573d92bec/botocore-1.17.44-py2.py3-none-any.whl (6.5MB)\n",
            "\u001b[K     |████████████████████████████████| 6.5MB 16.2MB/s \n",
            "\u001b[?25hCollecting aiohttp>=3.3.1\n",
            "\u001b[?25l  Downloading https://files.pythonhosted.org/packages/ad/e6/d4b6235d776c9b33f853e603efede5aac5a34f71ca9d3877adb30492eb4e/aiohttp-3.7.3-cp36-cp36m-manylinux2014_x86_64.whl (1.3MB)\n",
            "\u001b[K     |████████████████████████████████| 1.3MB 42.5MB/s \n",
            "\u001b[?25hCollecting aioitertools>=0.5.1\n",
            "  Downloading https://files.pythonhosted.org/packages/32/0b/3260ac050de07bf6e91871944583bb8598091da19155c34f7ef02244709c/aioitertools-0.7.1-py3-none-any.whl\n",
            "Requirement already satisfied: python-dateutil<3.0.0,>=2.1 in /usr/local/lib/python3.6/dist-packages (from botocore<1.17.45,>=1.17.44->aiobotocore>=1.0.1->s3fs) (2.8.1)\n",
            "Collecting urllib3<1.26,>=1.20; python_version != \"3.4\"\n",
            "\u001b[?25l  Downloading https://files.pythonhosted.org/packages/56/aa/4ef5aa67a9a62505db124a5cb5262332d1d4153462eb8fd89c9fa41e5d92/urllib3-1.25.11-py2.py3-none-any.whl (127kB)\n",
            "\u001b[K     |████████████████████████████████| 133kB 54.3MB/s \n",
            "\u001b[?25hRequirement already satisfied: jmespath<1.0.0,>=0.7.1 in /usr/local/lib/python3.6/dist-packages (from botocore<1.17.45,>=1.17.44->aiobotocore>=1.0.1->s3fs) (0.10.0)\n",
            "Collecting docutils<0.16,>=0.10\n",
            "\u001b[?25l  Downloading https://files.pythonhosted.org/packages/22/cd/a6aa959dca619918ccb55023b4cb151949c64d4d5d55b3f4ffd7eee0c6e8/docutils-0.15.2-py3-none-any.whl (547kB)\n",
            "\u001b[K     |████████████████████████████████| 552kB 55.4MB/s \n",
            "\u001b[?25hRequirement already satisfied: typing-extensions>=3.6.5 in /usr/local/lib/python3.6/dist-packages (from aiohttp>=3.3.1->aiobotocore>=1.0.1->s3fs) (3.7.4.3)\n",
            "Requirement already satisfied: chardet<4.0,>=2.0 in /usr/local/lib/python3.6/dist-packages (from aiohttp>=3.3.1->aiobotocore>=1.0.1->s3fs) (3.0.4)\n",
            "Collecting yarl<2.0,>=1.0\n",
            "\u001b[?25l  Downloading https://files.pythonhosted.org/packages/da/08/52b26b44bce7b818b410aee37c5e424c9ea420c557bca97dc2adac29b151/yarl-1.6.3-cp36-cp36m-manylinux2014_x86_64.whl (293kB)\n",
            "\u001b[K     |████████████████████████████████| 296kB 43.8MB/s \n",
            "\u001b[?25hRequirement already satisfied: attrs>=17.3.0 in /usr/local/lib/python3.6/dist-packages (from aiohttp>=3.3.1->aiobotocore>=1.0.1->s3fs) (20.3.0)\n",
            "Collecting async-timeout<4.0,>=3.0\n",
            "  Downloading https://files.pythonhosted.org/packages/e1/1e/5a4441be21b0726c4464f3f23c8b19628372f606755a9d2e46c187e65ec4/async_timeout-3.0.1-py3-none-any.whl\n",
            "Collecting multidict<7.0,>=4.5\n",
            "\u001b[?25l  Downloading https://files.pythonhosted.org/packages/a5/95/f89c97db4d27b24fce7c6fb6ef05228f347e43bbf67e4737a0660c8753fd/multidict-5.0.2-cp36-cp36m-manylinux2014_x86_64.whl (141kB)\n",
            "\u001b[K     |████████████████████████████████| 143kB 53.6MB/s \n",
            "\u001b[?25hCollecting idna-ssl>=1.0; python_version < \"3.7\"\n",
            "  Downloading https://files.pythonhosted.org/packages/46/03/07c4894aae38b0de52b52586b24bf189bb83e4ddabfe2e2c8f2419eec6f4/idna-ssl-1.1.0.tar.gz\n",
            "Requirement already satisfied: six>=1.5 in /usr/local/lib/python3.6/dist-packages (from python-dateutil<3.0.0,>=2.1->botocore<1.17.45,>=1.17.44->aiobotocore>=1.0.1->s3fs) (1.15.0)\n",
            "Requirement already satisfied: idna>=2.0 in /usr/local/lib/python3.6/dist-packages (from yarl<2.0,>=1.0->aiohttp>=3.3.1->aiobotocore>=1.0.1->s3fs) (2.10)\n",
            "Building wheels for collected packages: idna-ssl\n",
            "  Building wheel for idna-ssl (setup.py) ... \u001b[?25l\u001b[?25hdone\n",
            "  Created wheel for idna-ssl: filename=idna_ssl-1.1.0-cp36-none-any.whl size=3161 sha256=dbe47cc44ab69afcd38eca75cfcaa6955962cf5da8b9d0ec9b7265120276c5d8\n",
            "  Stored in directory: /root/.cache/pip/wheels/d3/00/b3/32d613e19e08a739751dd6bf998cfed277728f8b2127ad4eb7\n",
            "Successfully built idna-ssl\n",
            "\u001b[31mERROR: datascience 0.10.6 has requirement folium==0.2.1, but you'll have folium 0.8.3 which is incompatible.\u001b[0m\n",
            "\u001b[31mERROR: boto3 1.16.24 has requirement botocore<1.20.0,>=1.19.24, but you'll have botocore 1.17.44 which is incompatible.\u001b[0m\n",
            "Installing collected packages: urllib3, docutils, botocore, multidict, yarl, async-timeout, idna-ssl, aiohttp, aioitertools, aiobotocore, s3fs\n",
            "  Found existing installation: urllib3 1.26.2\n",
            "    Uninstalling urllib3-1.26.2:\n",
            "      Successfully uninstalled urllib3-1.26.2\n",
            "  Found existing installation: docutils 0.16\n",
            "    Uninstalling docutils-0.16:\n",
            "      Successfully uninstalled docutils-0.16\n",
            "  Found existing installation: botocore 1.19.24\n",
            "    Uninstalling botocore-1.19.24:\n",
            "      Successfully uninstalled botocore-1.19.24\n",
            "Successfully installed aiobotocore-1.1.2 aiohttp-3.7.3 aioitertools-0.7.1 async-timeout-3.0.1 botocore-1.17.44 docutils-0.15.2 idna-ssl-1.1.0 multidict-5.0.2 s3fs-0.5.1 urllib3-1.25.11 yarl-1.6.3\n"
          ],
          "name": "stdout"
        }
      ]
    },
    {
      "cell_type": "code",
      "metadata": {
        "id": "SR8SjTv11ta8"
      },
      "source": [
        "import matplotlib.pyplot as plt\n",
        "from sklearn.neighbors import KNeighborsClassifier\n",
        "import pandas as pd\n",
        "import numpy as np\n",
        "import boto3\n",
        "import botocore\n",
        "import os"
      ],
      "execution_count": null,
      "outputs": []
    },
    {
      "cell_type": "code",
      "metadata": {
        "id": "0tsFUJpKCD7r"
      },
      "source": [
        "from boto3.session import Session\n",
        "from botocore.client import Config\n",
        "from botocore.handlers import set_list_objects_encoding_type_url"
      ],
      "execution_count": null,
      "outputs": []
    },
    {
      "cell_type": "code",
      "metadata": {
        "id": "1twmNf27CMxn"
      },
      "source": [
        "weeks_df = pd.read_csv(\"https://mybigbowlbucket.s3-us-west-1.amazonaws.com/weeksNFL.csv\")\n",
        "games_df = pd.read_csv(\"https://mybigbowlbucket.s3-us-west-1.amazonaws.com/games.csv\")\n",
        "players_df = pd.read_csv(\"https://mybigbowlbucket.s3-us-west-1.amazonaws.com/players.csv\")\n",
        "plays_df = pd.read_csv(\"https://mybigbowlbucket.s3-us-west-1.amazonaws.com/plays.csv\")"
      ],
      "execution_count": null,
      "outputs": []
    },
    {
      "cell_type": "code",
      "metadata": {
        "colab": {
          "base_uri": "https://localhost:8080/"
        },
        "id": "a7nGUNpJLem2",
        "outputId": "a7dd83e1-75c3-45cf-97fc-f2c286c54da8"
      },
      "source": [
        "weeks_df.shape"
      ],
      "execution_count": null,
      "outputs": [
        {
          "output_type": "execute_result",
          "data": {
            "text/plain": [
              "(18309388, 19)"
            ]
          },
          "metadata": {
            "tags": []
          },
          "execution_count": 5
        }
      ]
    },
    {
      "cell_type": "code",
      "metadata": {
        "id": "unCEUmIZKg8y"
      },
      "source": [
        "weeks_df = weeks_df.dropna()\n",
        "games_df = games_df.dropna()\n",
        "players_df = players_df.dropna()\n",
        "plays_df = plays_df.dropna()"
      ],
      "execution_count": null,
      "outputs": []
    },
    {
      "cell_type": "code",
      "metadata": {
        "colab": {
          "base_uri": "https://localhost:8080/"
        },
        "id": "Qcg6liZdLhx1",
        "outputId": "cd59c92d-e3f2-4a62-dee9-54d99380f5e3"
      },
      "source": [
        "weeks_df.shape"
      ],
      "execution_count": null,
      "outputs": [
        {
          "output_type": "execute_result",
          "data": {
            "text/plain": [
              "(5117955, 19)"
            ]
          },
          "metadata": {
            "tags": []
          },
          "execution_count": 6
        }
      ]
    },
    {
      "cell_type": "code",
      "metadata": {
        "colab": {
          "base_uri": "https://localhost:8080/",
          "height": 137
        },
        "id": "VPazd-zFDARI",
        "outputId": "c525a242-7c99-486d-93eb-7cc4936ba5fb"
      },
      "source": [
        "weeks_df.head(3)"
      ],
      "execution_count": null,
      "outputs": [
        {
          "output_type": "execute_result",
          "data": {
            "text/html": [
              "<div>\n",
              "<style scoped>\n",
              "    .dataframe tbody tr th:only-of-type {\n",
              "        vertical-align: middle;\n",
              "    }\n",
              "\n",
              "    .dataframe tbody tr th {\n",
              "        vertical-align: top;\n",
              "    }\n",
              "\n",
              "    .dataframe thead th {\n",
              "        text-align: right;\n",
              "    }\n",
              "</style>\n",
              "<table border=\"1\" class=\"dataframe\">\n",
              "  <thead>\n",
              "    <tr style=\"text-align: right;\">\n",
              "      <th></th>\n",
              "      <th>time</th>\n",
              "      <th>x</th>\n",
              "      <th>y</th>\n",
              "      <th>s</th>\n",
              "      <th>a</th>\n",
              "      <th>dis</th>\n",
              "      <th>o</th>\n",
              "      <th>dir</th>\n",
              "      <th>event</th>\n",
              "      <th>nflId</th>\n",
              "      <th>displayName</th>\n",
              "      <th>jerseyNumber</th>\n",
              "      <th>position</th>\n",
              "      <th>frameId</th>\n",
              "      <th>team</th>\n",
              "      <th>gameId</th>\n",
              "      <th>playId</th>\n",
              "      <th>playDirection</th>\n",
              "      <th>route</th>\n",
              "    </tr>\n",
              "  </thead>\n",
              "  <tbody>\n",
              "    <tr>\n",
              "      <th>2</th>\n",
              "      <td>2018-09-07T01:07:14.599Z</td>\n",
              "      <td>91.35</td>\n",
              "      <td>44.16</td>\n",
              "      <td>0.02</td>\n",
              "      <td>0.03</td>\n",
              "      <td>0.01</td>\n",
              "      <td>290.45</td>\n",
              "      <td>16.86</td>\n",
              "      <td>None</td>\n",
              "      <td>2495454.0</td>\n",
              "      <td>Julio Jones</td>\n",
              "      <td>11.0</td>\n",
              "      <td>WR</td>\n",
              "      <td>1</td>\n",
              "      <td>away</td>\n",
              "      <td>2018090600</td>\n",
              "      <td>75</td>\n",
              "      <td>left</td>\n",
              "      <td>HITCH</td>\n",
              "    </tr>\n",
              "    <tr>\n",
              "      <th>4</th>\n",
              "      <td>2018-09-07T01:07:14.599Z</td>\n",
              "      <td>90.78</td>\n",
              "      <td>36.15</td>\n",
              "      <td>0.00</td>\n",
              "      <td>0.00</td>\n",
              "      <td>0.00</td>\n",
              "      <td>257.61</td>\n",
              "      <td>193.97</td>\n",
              "      <td>None</td>\n",
              "      <td>2533040.0</td>\n",
              "      <td>Mohamed Sanu</td>\n",
              "      <td>12.0</td>\n",
              "      <td>WR</td>\n",
              "      <td>1</td>\n",
              "      <td>away</td>\n",
              "      <td>2018090600</td>\n",
              "      <td>75</td>\n",
              "      <td>left</td>\n",
              "      <td>HITCH</td>\n",
              "    </tr>\n",
              "    <tr>\n",
              "      <th>10</th>\n",
              "      <td>2018-09-07T01:07:14.599Z</td>\n",
              "      <td>91.29</td>\n",
              "      <td>21.83</td>\n",
              "      <td>0.01</td>\n",
              "      <td>0.02</td>\n",
              "      <td>0.01</td>\n",
              "      <td>250.34</td>\n",
              "      <td>151.83</td>\n",
              "      <td>None</td>\n",
              "      <td>2555415.0</td>\n",
              "      <td>Austin Hooper</td>\n",
              "      <td>81.0</td>\n",
              "      <td>TE</td>\n",
              "      <td>1</td>\n",
              "      <td>away</td>\n",
              "      <td>2018090600</td>\n",
              "      <td>75</td>\n",
              "      <td>left</td>\n",
              "      <td>OUT</td>\n",
              "    </tr>\n",
              "  </tbody>\n",
              "</table>\n",
              "</div>"
            ],
            "text/plain": [
              "                        time      x      y  ...  playId  playDirection  route\n",
              "2   2018-09-07T01:07:14.599Z  91.35  44.16  ...      75           left  HITCH\n",
              "4   2018-09-07T01:07:14.599Z  90.78  36.15  ...      75           left  HITCH\n",
              "10  2018-09-07T01:07:14.599Z  91.29  21.83  ...      75           left    OUT\n",
              "\n",
              "[3 rows x 19 columns]"
            ]
          },
          "metadata": {
            "tags": []
          },
          "execution_count": 7
        }
      ]
    },
    {
      "cell_type": "code",
      "metadata": {
        "colab": {
          "base_uri": "https://localhost:8080/",
          "height": 137
        },
        "id": "L6GS9rsiDPQh",
        "outputId": "1cc64e7b-e5dc-4097-9f55-b56c69697119"
      },
      "source": [
        "games_df.head(3)"
      ],
      "execution_count": null,
      "outputs": [
        {
          "output_type": "execute_result",
          "data": {
            "text/html": [
              "<div>\n",
              "<style scoped>\n",
              "    .dataframe tbody tr th:only-of-type {\n",
              "        vertical-align: middle;\n",
              "    }\n",
              "\n",
              "    .dataframe tbody tr th {\n",
              "        vertical-align: top;\n",
              "    }\n",
              "\n",
              "    .dataframe thead th {\n",
              "        text-align: right;\n",
              "    }\n",
              "</style>\n",
              "<table border=\"1\" class=\"dataframe\">\n",
              "  <thead>\n",
              "    <tr style=\"text-align: right;\">\n",
              "      <th></th>\n",
              "      <th>gameId</th>\n",
              "      <th>gameDate</th>\n",
              "      <th>gameTimeEastern</th>\n",
              "      <th>homeTeamAbbr</th>\n",
              "      <th>visitorTeamAbbr</th>\n",
              "      <th>week</th>\n",
              "    </tr>\n",
              "  </thead>\n",
              "  <tbody>\n",
              "    <tr>\n",
              "      <th>0</th>\n",
              "      <td>2018090600</td>\n",
              "      <td>09/06/2018</td>\n",
              "      <td>20:20:00</td>\n",
              "      <td>PHI</td>\n",
              "      <td>ATL</td>\n",
              "      <td>1</td>\n",
              "    </tr>\n",
              "    <tr>\n",
              "      <th>1</th>\n",
              "      <td>2018090901</td>\n",
              "      <td>09/09/2018</td>\n",
              "      <td>13:00:00</td>\n",
              "      <td>CLE</td>\n",
              "      <td>PIT</td>\n",
              "      <td>1</td>\n",
              "    </tr>\n",
              "    <tr>\n",
              "      <th>2</th>\n",
              "      <td>2018090902</td>\n",
              "      <td>09/09/2018</td>\n",
              "      <td>13:00:00</td>\n",
              "      <td>IND</td>\n",
              "      <td>CIN</td>\n",
              "      <td>1</td>\n",
              "    </tr>\n",
              "  </tbody>\n",
              "</table>\n",
              "</div>"
            ],
            "text/plain": [
              "       gameId    gameDate gameTimeEastern homeTeamAbbr visitorTeamAbbr  week\n",
              "0  2018090600  09/06/2018        20:20:00          PHI             ATL     1\n",
              "1  2018090901  09/09/2018        13:00:00          CLE             PIT     1\n",
              "2  2018090902  09/09/2018        13:00:00          IND             CIN     1"
            ]
          },
          "metadata": {
            "tags": []
          },
          "execution_count": 8
        }
      ]
    },
    {
      "cell_type": "code",
      "metadata": {
        "colab": {
          "base_uri": "https://localhost:8080/",
          "height": 137
        },
        "id": "21qE6EThDPXz",
        "outputId": "b89b7a65-07ba-4fff-f358-eb35f284ae30"
      },
      "source": [
        "players_df.head(3)"
      ],
      "execution_count": null,
      "outputs": [
        {
          "output_type": "execute_result",
          "data": {
            "text/html": [
              "<div>\n",
              "<style scoped>\n",
              "    .dataframe tbody tr th:only-of-type {\n",
              "        vertical-align: middle;\n",
              "    }\n",
              "\n",
              "    .dataframe tbody tr th {\n",
              "        vertical-align: top;\n",
              "    }\n",
              "\n",
              "    .dataframe thead th {\n",
              "        text-align: right;\n",
              "    }\n",
              "</style>\n",
              "<table border=\"1\" class=\"dataframe\">\n",
              "  <thead>\n",
              "    <tr style=\"text-align: right;\">\n",
              "      <th></th>\n",
              "      <th>nflId</th>\n",
              "      <th>height</th>\n",
              "      <th>weight</th>\n",
              "      <th>birthDate</th>\n",
              "      <th>collegeName</th>\n",
              "      <th>position</th>\n",
              "      <th>displayName</th>\n",
              "    </tr>\n",
              "  </thead>\n",
              "  <tbody>\n",
              "    <tr>\n",
              "      <th>0</th>\n",
              "      <td>2539334</td>\n",
              "      <td>72</td>\n",
              "      <td>190</td>\n",
              "      <td>1990-09-10</td>\n",
              "      <td>Washington</td>\n",
              "      <td>CB</td>\n",
              "      <td>Desmond Trufant</td>\n",
              "    </tr>\n",
              "    <tr>\n",
              "      <th>1</th>\n",
              "      <td>2539653</td>\n",
              "      <td>70</td>\n",
              "      <td>186</td>\n",
              "      <td>1988-11-01</td>\n",
              "      <td>Southeastern Louisiana</td>\n",
              "      <td>CB</td>\n",
              "      <td>Robert Alford</td>\n",
              "    </tr>\n",
              "    <tr>\n",
              "      <th>2</th>\n",
              "      <td>2543850</td>\n",
              "      <td>69</td>\n",
              "      <td>186</td>\n",
              "      <td>1991-12-18</td>\n",
              "      <td>Purdue</td>\n",
              "      <td>SS</td>\n",
              "      <td>Ricardo Allen</td>\n",
              "    </tr>\n",
              "  </tbody>\n",
              "</table>\n",
              "</div>"
            ],
            "text/plain": [
              "     nflId height  weight  ...             collegeName position      displayName\n",
              "0  2539334     72     190  ...              Washington       CB  Desmond Trufant\n",
              "1  2539653     70     186  ...  Southeastern Louisiana       CB    Robert Alford\n",
              "2  2543850     69     186  ...                  Purdue       SS    Ricardo Allen\n",
              "\n",
              "[3 rows x 7 columns]"
            ]
          },
          "metadata": {
            "tags": []
          },
          "execution_count": 9
        }
      ]
    },
    {
      "cell_type": "code",
      "metadata": {
        "colab": {
          "base_uri": "https://localhost:8080/",
          "height": 257
        },
        "id": "k-xuqgC7DTOr",
        "outputId": "06cdbc55-bb13-4e26-a149-2b6c3425f5b0"
      },
      "source": [
        "plays_df.head(3)"
      ],
      "execution_count": null,
      "outputs": [
        {
          "output_type": "execute_result",
          "data": {
            "text/html": [
              "<div>\n",
              "<style scoped>\n",
              "    .dataframe tbody tr th:only-of-type {\n",
              "        vertical-align: middle;\n",
              "    }\n",
              "\n",
              "    .dataframe tbody tr th {\n",
              "        vertical-align: top;\n",
              "    }\n",
              "\n",
              "    .dataframe thead th {\n",
              "        text-align: right;\n",
              "    }\n",
              "</style>\n",
              "<table border=\"1\" class=\"dataframe\">\n",
              "  <thead>\n",
              "    <tr style=\"text-align: right;\">\n",
              "      <th></th>\n",
              "      <th>gameId</th>\n",
              "      <th>playId</th>\n",
              "      <th>playDescription</th>\n",
              "      <th>quarter</th>\n",
              "      <th>down</th>\n",
              "      <th>yardsToGo</th>\n",
              "      <th>possessionTeam</th>\n",
              "      <th>playType</th>\n",
              "      <th>yardlineSide</th>\n",
              "      <th>yardlineNumber</th>\n",
              "      <th>offenseFormation</th>\n",
              "      <th>personnelO</th>\n",
              "      <th>defendersInTheBox</th>\n",
              "      <th>numberOfPassRushers</th>\n",
              "      <th>personnelD</th>\n",
              "      <th>typeDropback</th>\n",
              "      <th>preSnapVisitorScore</th>\n",
              "      <th>preSnapHomeScore</th>\n",
              "      <th>gameClock</th>\n",
              "      <th>absoluteYardlineNumber</th>\n",
              "      <th>penaltyCodes</th>\n",
              "      <th>penaltyJerseyNumbers</th>\n",
              "      <th>passResult</th>\n",
              "      <th>offensePlayResult</th>\n",
              "      <th>playResult</th>\n",
              "      <th>epa</th>\n",
              "      <th>isDefensivePI</th>\n",
              "    </tr>\n",
              "  </thead>\n",
              "  <tbody>\n",
              "    <tr>\n",
              "      <th>29</th>\n",
              "      <td>2018090600</td>\n",
              "      <td>1680</td>\n",
              "      <td>(1:57) (Shotgun) N.Foles pass short right to N...</td>\n",
              "      <td>2</td>\n",
              "      <td>2</td>\n",
              "      <td>10</td>\n",
              "      <td>PHI</td>\n",
              "      <td>play_type_pass</td>\n",
              "      <td>PHI</td>\n",
              "      <td>5</td>\n",
              "      <td>SHOTGUN</td>\n",
              "      <td>1 RB, 1 TE, 3 WR</td>\n",
              "      <td>6.0</td>\n",
              "      <td>4.0</td>\n",
              "      <td>3 DL, 3 LB, 5 DB</td>\n",
              "      <td>TRADITIONAL</td>\n",
              "      <td>6.0</td>\n",
              "      <td>3.0</td>\n",
              "      <td>01:57:00</td>\n",
              "      <td>105.0</td>\n",
              "      <td>RPS</td>\n",
              "      <td>ATL 97</td>\n",
              "      <td>C</td>\n",
              "      <td>4</td>\n",
              "      <td>19</td>\n",
              "      <td>1.299050</td>\n",
              "      <td>False</td>\n",
              "    </tr>\n",
              "    <tr>\n",
              "      <th>45</th>\n",
              "      <td>2018090600</td>\n",
              "      <td>2503</td>\n",
              "      <td>(11:04) (Shotgun) M.Ryan pass incomplete short...</td>\n",
              "      <td>3</td>\n",
              "      <td>2</td>\n",
              "      <td>10</td>\n",
              "      <td>ATL</td>\n",
              "      <td>play_type_pass</td>\n",
              "      <td>ATL</td>\n",
              "      <td>32</td>\n",
              "      <td>EMPTY</td>\n",
              "      <td>1 RB, 1 TE, 3 WR</td>\n",
              "      <td>5.0</td>\n",
              "      <td>4.0</td>\n",
              "      <td>4 DL, 1 LB, 6 DB</td>\n",
              "      <td>TRADITIONAL</td>\n",
              "      <td>6.0</td>\n",
              "      <td>3.0</td>\n",
              "      <td>11:04:00</td>\n",
              "      <td>42.0</td>\n",
              "      <td>ING</td>\n",
              "      <td>ATL 2</td>\n",
              "      <td>I</td>\n",
              "      <td>0</td>\n",
              "      <td>-12</td>\n",
              "      <td>-1.868122</td>\n",
              "      <td>False</td>\n",
              "    </tr>\n",
              "    <tr>\n",
              "      <th>91</th>\n",
              "      <td>2018090901</td>\n",
              "      <td>439</td>\n",
              "      <td>(8:05) (Shotgun) B.Roethlisberger pass short r...</td>\n",
              "      <td>1</td>\n",
              "      <td>3</td>\n",
              "      <td>9</td>\n",
              "      <td>PIT</td>\n",
              "      <td>play_type_pass</td>\n",
              "      <td>PIT</td>\n",
              "      <td>43</td>\n",
              "      <td>EMPTY</td>\n",
              "      <td>1 RB, 1 TE, 3 WR</td>\n",
              "      <td>6.0</td>\n",
              "      <td>4.0</td>\n",
              "      <td>2 DL, 4 LB, 5 DB</td>\n",
              "      <td>TRADITIONAL</td>\n",
              "      <td>0.0</td>\n",
              "      <td>0.0</td>\n",
              "      <td>08:05:00</td>\n",
              "      <td>53.0</td>\n",
              "      <td>IBW</td>\n",
              "      <td>PIT 11</td>\n",
              "      <td>C</td>\n",
              "      <td>0</td>\n",
              "      <td>0</td>\n",
              "      <td>-1.770704</td>\n",
              "      <td>False</td>\n",
              "    </tr>\n",
              "  </tbody>\n",
              "</table>\n",
              "</div>"
            ],
            "text/plain": [
              "        gameId  playId  ...       epa  isDefensivePI\n",
              "29  2018090600    1680  ...  1.299050          False\n",
              "45  2018090600    2503  ... -1.868122          False\n",
              "91  2018090901     439  ... -1.770704          False\n",
              "\n",
              "[3 rows x 27 columns]"
            ]
          },
          "metadata": {
            "tags": []
          },
          "execution_count": 10
        }
      ]
    },
    {
      "cell_type": "code",
      "metadata": {
        "id": "r_LKu1t9GCM-",
        "colab": {
          "base_uri": "https://localhost:8080/",
          "height": 384
        },
        "outputId": "d77c5ccc-e195-4aec-dba4-787b5405ff28"
      },
      "source": [
        "df = weeks_df.merge(plays_df, how='right', on='playId')\n",
        "df.head()"
      ],
      "execution_count": null,
      "outputs": [
        {
          "output_type": "execute_result",
          "data": {
            "text/html": [
              "<div>\n",
              "<style scoped>\n",
              "    .dataframe tbody tr th:only-of-type {\n",
              "        vertical-align: middle;\n",
              "    }\n",
              "\n",
              "    .dataframe tbody tr th {\n",
              "        vertical-align: top;\n",
              "    }\n",
              "\n",
              "    .dataframe thead th {\n",
              "        text-align: right;\n",
              "    }\n",
              "</style>\n",
              "<table border=\"1\" class=\"dataframe\">\n",
              "  <thead>\n",
              "    <tr style=\"text-align: right;\">\n",
              "      <th></th>\n",
              "      <th>time</th>\n",
              "      <th>x</th>\n",
              "      <th>y</th>\n",
              "      <th>s</th>\n",
              "      <th>a</th>\n",
              "      <th>dis</th>\n",
              "      <th>o</th>\n",
              "      <th>dir</th>\n",
              "      <th>event</th>\n",
              "      <th>nflId</th>\n",
              "      <th>displayName</th>\n",
              "      <th>jerseyNumber</th>\n",
              "      <th>position</th>\n",
              "      <th>frameId</th>\n",
              "      <th>team</th>\n",
              "      <th>gameId_x</th>\n",
              "      <th>playId</th>\n",
              "      <th>playDirection</th>\n",
              "      <th>route</th>\n",
              "      <th>gameId_y</th>\n",
              "      <th>playDescription</th>\n",
              "      <th>quarter</th>\n",
              "      <th>down</th>\n",
              "      <th>yardsToGo</th>\n",
              "      <th>possessionTeam</th>\n",
              "      <th>playType</th>\n",
              "      <th>yardlineSide</th>\n",
              "      <th>yardlineNumber</th>\n",
              "      <th>offenseFormation</th>\n",
              "      <th>personnelO</th>\n",
              "      <th>defendersInTheBox</th>\n",
              "      <th>numberOfPassRushers</th>\n",
              "      <th>personnelD</th>\n",
              "      <th>typeDropback</th>\n",
              "      <th>preSnapVisitorScore</th>\n",
              "      <th>preSnapHomeScore</th>\n",
              "      <th>gameClock</th>\n",
              "      <th>absoluteYardlineNumber</th>\n",
              "      <th>penaltyCodes</th>\n",
              "      <th>penaltyJerseyNumbers</th>\n",
              "      <th>passResult</th>\n",
              "      <th>offensePlayResult</th>\n",
              "      <th>playResult</th>\n",
              "      <th>epa</th>\n",
              "      <th>isDefensivePI</th>\n",
              "    </tr>\n",
              "  </thead>\n",
              "  <tbody>\n",
              "    <tr>\n",
              "      <th>0</th>\n",
              "      <td>2018-09-07T02:17:33.400Z</td>\n",
              "      <td>110.35</td>\n",
              "      <td>32.48</td>\n",
              "      <td>0.00</td>\n",
              "      <td>0.00</td>\n",
              "      <td>0.00</td>\n",
              "      <td>44.48</td>\n",
              "      <td>307.08</td>\n",
              "      <td>None</td>\n",
              "      <td>2506467.0</td>\n",
              "      <td>Darren Sproles</td>\n",
              "      <td>43.0</td>\n",
              "      <td>RB</td>\n",
              "      <td>1.0</td>\n",
              "      <td>home</td>\n",
              "      <td>2.018091e+09</td>\n",
              "      <td>1680</td>\n",
              "      <td>left</td>\n",
              "      <td>WHEEL</td>\n",
              "      <td>2018090600</td>\n",
              "      <td>(1:57) (Shotgun) N.Foles pass short right to N...</td>\n",
              "      <td>2</td>\n",
              "      <td>2</td>\n",
              "      <td>10</td>\n",
              "      <td>PHI</td>\n",
              "      <td>play_type_pass</td>\n",
              "      <td>PHI</td>\n",
              "      <td>5</td>\n",
              "      <td>SHOTGUN</td>\n",
              "      <td>1 RB, 1 TE, 3 WR</td>\n",
              "      <td>6.0</td>\n",
              "      <td>4.0</td>\n",
              "      <td>3 DL, 3 LB, 5 DB</td>\n",
              "      <td>TRADITIONAL</td>\n",
              "      <td>6.0</td>\n",
              "      <td>3.0</td>\n",
              "      <td>01:57:00</td>\n",
              "      <td>105.0</td>\n",
              "      <td>RPS</td>\n",
              "      <td>ATL 97</td>\n",
              "      <td>C</td>\n",
              "      <td>4</td>\n",
              "      <td>19</td>\n",
              "      <td>1.29905</td>\n",
              "      <td>False</td>\n",
              "    </tr>\n",
              "    <tr>\n",
              "      <th>1</th>\n",
              "      <td>2018-09-07T02:17:33.400Z</td>\n",
              "      <td>106.49</td>\n",
              "      <td>42.95</td>\n",
              "      <td>0.00</td>\n",
              "      <td>0.00</td>\n",
              "      <td>0.00</td>\n",
              "      <td>247.94</td>\n",
              "      <td>189.89</td>\n",
              "      <td>None</td>\n",
              "      <td>2507763.0</td>\n",
              "      <td>Mike Wallace</td>\n",
              "      <td>14.0</td>\n",
              "      <td>WR</td>\n",
              "      <td>1.0</td>\n",
              "      <td>home</td>\n",
              "      <td>2.018091e+09</td>\n",
              "      <td>1680</td>\n",
              "      <td>left</td>\n",
              "      <td>POST</td>\n",
              "      <td>2018090600</td>\n",
              "      <td>(1:57) (Shotgun) N.Foles pass short right to N...</td>\n",
              "      <td>2</td>\n",
              "      <td>2</td>\n",
              "      <td>10</td>\n",
              "      <td>PHI</td>\n",
              "      <td>play_type_pass</td>\n",
              "      <td>PHI</td>\n",
              "      <td>5</td>\n",
              "      <td>SHOTGUN</td>\n",
              "      <td>1 RB, 1 TE, 3 WR</td>\n",
              "      <td>6.0</td>\n",
              "      <td>4.0</td>\n",
              "      <td>3 DL, 3 LB, 5 DB</td>\n",
              "      <td>TRADITIONAL</td>\n",
              "      <td>6.0</td>\n",
              "      <td>3.0</td>\n",
              "      <td>01:57:00</td>\n",
              "      <td>105.0</td>\n",
              "      <td>RPS</td>\n",
              "      <td>ATL 97</td>\n",
              "      <td>C</td>\n",
              "      <td>4</td>\n",
              "      <td>19</td>\n",
              "      <td>1.29905</td>\n",
              "      <td>False</td>\n",
              "    </tr>\n",
              "    <tr>\n",
              "      <th>2</th>\n",
              "      <td>2018-09-07T02:17:33.400Z</td>\n",
              "      <td>105.99</td>\n",
              "      <td>22.35</td>\n",
              "      <td>0.00</td>\n",
              "      <td>0.00</td>\n",
              "      <td>0.00</td>\n",
              "      <td>255.39</td>\n",
              "      <td>246.65</td>\n",
              "      <td>None</td>\n",
              "      <td>2540158.0</td>\n",
              "      <td>Zach Ertz</td>\n",
              "      <td>86.0</td>\n",
              "      <td>TE</td>\n",
              "      <td>1.0</td>\n",
              "      <td>home</td>\n",
              "      <td>2.018091e+09</td>\n",
              "      <td>1680</td>\n",
              "      <td>left</td>\n",
              "      <td>POST</td>\n",
              "      <td>2018090600</td>\n",
              "      <td>(1:57) (Shotgun) N.Foles pass short right to N...</td>\n",
              "      <td>2</td>\n",
              "      <td>2</td>\n",
              "      <td>10</td>\n",
              "      <td>PHI</td>\n",
              "      <td>play_type_pass</td>\n",
              "      <td>PHI</td>\n",
              "      <td>5</td>\n",
              "      <td>SHOTGUN</td>\n",
              "      <td>1 RB, 1 TE, 3 WR</td>\n",
              "      <td>6.0</td>\n",
              "      <td>4.0</td>\n",
              "      <td>3 DL, 3 LB, 5 DB</td>\n",
              "      <td>TRADITIONAL</td>\n",
              "      <td>6.0</td>\n",
              "      <td>3.0</td>\n",
              "      <td>01:57:00</td>\n",
              "      <td>105.0</td>\n",
              "      <td>RPS</td>\n",
              "      <td>ATL 97</td>\n",
              "      <td>C</td>\n",
              "      <td>4</td>\n",
              "      <td>19</td>\n",
              "      <td>1.29905</td>\n",
              "      <td>False</td>\n",
              "    </tr>\n",
              "    <tr>\n",
              "      <th>3</th>\n",
              "      <td>2018-09-07T02:17:33.400Z</td>\n",
              "      <td>107.67</td>\n",
              "      <td>16.05</td>\n",
              "      <td>5.83</td>\n",
              "      <td>2.36</td>\n",
              "      <td>0.59</td>\n",
              "      <td>327.16</td>\n",
              "      <td>2.02</td>\n",
              "      <td>None</td>\n",
              "      <td>2552600.0</td>\n",
              "      <td>Nelson Agholor</td>\n",
              "      <td>13.0</td>\n",
              "      <td>WR</td>\n",
              "      <td>1.0</td>\n",
              "      <td>home</td>\n",
              "      <td>2.018091e+09</td>\n",
              "      <td>1680</td>\n",
              "      <td>left</td>\n",
              "      <td>CROSS</td>\n",
              "      <td>2018090600</td>\n",
              "      <td>(1:57) (Shotgun) N.Foles pass short right to N...</td>\n",
              "      <td>2</td>\n",
              "      <td>2</td>\n",
              "      <td>10</td>\n",
              "      <td>PHI</td>\n",
              "      <td>play_type_pass</td>\n",
              "      <td>PHI</td>\n",
              "      <td>5</td>\n",
              "      <td>SHOTGUN</td>\n",
              "      <td>1 RB, 1 TE, 3 WR</td>\n",
              "      <td>6.0</td>\n",
              "      <td>4.0</td>\n",
              "      <td>3 DL, 3 LB, 5 DB</td>\n",
              "      <td>TRADITIONAL</td>\n",
              "      <td>6.0</td>\n",
              "      <td>3.0</td>\n",
              "      <td>01:57:00</td>\n",
              "      <td>105.0</td>\n",
              "      <td>RPS</td>\n",
              "      <td>ATL 97</td>\n",
              "      <td>C</td>\n",
              "      <td>4</td>\n",
              "      <td>19</td>\n",
              "      <td>1.29905</td>\n",
              "      <td>False</td>\n",
              "    </tr>\n",
              "    <tr>\n",
              "      <th>4</th>\n",
              "      <td>2018-09-07T02:17:33.400Z</td>\n",
              "      <td>106.75</td>\n",
              "      <td>15.20</td>\n",
              "      <td>0.00</td>\n",
              "      <td>0.00</td>\n",
              "      <td>0.00</td>\n",
              "      <td>253.47</td>\n",
              "      <td>288.27</td>\n",
              "      <td>None</td>\n",
              "      <td>2553502.0</td>\n",
              "      <td>DeAndre Carter</td>\n",
              "      <td>16.0</td>\n",
              "      <td>WR</td>\n",
              "      <td>1.0</td>\n",
              "      <td>home</td>\n",
              "      <td>2.018091e+09</td>\n",
              "      <td>1680</td>\n",
              "      <td>left</td>\n",
              "      <td>POST</td>\n",
              "      <td>2018090600</td>\n",
              "      <td>(1:57) (Shotgun) N.Foles pass short right to N...</td>\n",
              "      <td>2</td>\n",
              "      <td>2</td>\n",
              "      <td>10</td>\n",
              "      <td>PHI</td>\n",
              "      <td>play_type_pass</td>\n",
              "      <td>PHI</td>\n",
              "      <td>5</td>\n",
              "      <td>SHOTGUN</td>\n",
              "      <td>1 RB, 1 TE, 3 WR</td>\n",
              "      <td>6.0</td>\n",
              "      <td>4.0</td>\n",
              "      <td>3 DL, 3 LB, 5 DB</td>\n",
              "      <td>TRADITIONAL</td>\n",
              "      <td>6.0</td>\n",
              "      <td>3.0</td>\n",
              "      <td>01:57:00</td>\n",
              "      <td>105.0</td>\n",
              "      <td>RPS</td>\n",
              "      <td>ATL 97</td>\n",
              "      <td>C</td>\n",
              "      <td>4</td>\n",
              "      <td>19</td>\n",
              "      <td>1.29905</td>\n",
              "      <td>False</td>\n",
              "    </tr>\n",
              "  </tbody>\n",
              "</table>\n",
              "</div>"
            ],
            "text/plain": [
              "                       time       x      y  ...  playResult      epa  isDefensivePI\n",
              "0  2018-09-07T02:17:33.400Z  110.35  32.48  ...          19  1.29905          False\n",
              "1  2018-09-07T02:17:33.400Z  106.49  42.95  ...          19  1.29905          False\n",
              "2  2018-09-07T02:17:33.400Z  105.99  22.35  ...          19  1.29905          False\n",
              "3  2018-09-07T02:17:33.400Z  107.67  16.05  ...          19  1.29905          False\n",
              "4  2018-09-07T02:17:33.400Z  106.75  15.20  ...          19  1.29905          False\n",
              "\n",
              "[5 rows x 45 columns]"
            ]
          },
          "metadata": {
            "tags": []
          },
          "execution_count": 11
        }
      ]
    },
    {
      "cell_type": "code",
      "metadata": {
        "id": "P43tUB5C1ta-"
      },
      "source": [
        "df = df.drop(columns=['time', 'x', 'y', 's', 'a', 'o', 'dir', 'event', 'nflId', 'displayName', 'jerseyNumber', 'frameId', 'gameId_x', 'gameId_y', 'playDescription','possessionTeam', 'playType', 'yardlineSide', 'gameClock', 'penaltyCodes', 'penaltyJerseyNumbers','typeDropback'])"
      ],
      "execution_count": null,
      "outputs": []
    },
    {
      "cell_type": "code",
      "metadata": {
        "id": "OghGX19b1ta-",
        "colab": {
          "base_uri": "https://localhost:8080/",
          "height": 296
        },
        "outputId": "887e2b40-6f56-4e6b-f570-0960f260403c"
      },
      "source": [
        "# Drop the null columns where all values are null\n",
        "df = df.dropna(axis='columns', how='all')\n",
        "\n",
        "df = pd.get_dummies(df)\n",
        "\n",
        "df.head()"
      ],
      "execution_count": null,
      "outputs": [
        {
          "output_type": "execute_result",
          "data": {
            "text/html": [
              "<div>\n",
              "<style scoped>\n",
              "    .dataframe tbody tr th:only-of-type {\n",
              "        vertical-align: middle;\n",
              "    }\n",
              "\n",
              "    .dataframe tbody tr th {\n",
              "        vertical-align: top;\n",
              "    }\n",
              "\n",
              "    .dataframe thead th {\n",
              "        text-align: right;\n",
              "    }\n",
              "</style>\n",
              "<table border=\"1\" class=\"dataframe\">\n",
              "  <thead>\n",
              "    <tr style=\"text-align: right;\">\n",
              "      <th></th>\n",
              "      <th>dis</th>\n",
              "      <th>playId</th>\n",
              "      <th>quarter</th>\n",
              "      <th>down</th>\n",
              "      <th>yardsToGo</th>\n",
              "      <th>yardlineNumber</th>\n",
              "      <th>defendersInTheBox</th>\n",
              "      <th>numberOfPassRushers</th>\n",
              "      <th>preSnapVisitorScore</th>\n",
              "      <th>preSnapHomeScore</th>\n",
              "      <th>absoluteYardlineNumber</th>\n",
              "      <th>offensePlayResult</th>\n",
              "      <th>playResult</th>\n",
              "      <th>epa</th>\n",
              "      <th>isDefensivePI</th>\n",
              "      <th>position_FB</th>\n",
              "      <th>position_HB</th>\n",
              "      <th>position_QB</th>\n",
              "      <th>position_RB</th>\n",
              "      <th>position_TE</th>\n",
              "      <th>position_WR</th>\n",
              "      <th>team_away</th>\n",
              "      <th>team_home</th>\n",
              "      <th>playDirection_left</th>\n",
              "      <th>playDirection_right</th>\n",
              "      <th>route_ANGLE</th>\n",
              "      <th>route_CORNER</th>\n",
              "      <th>route_CROSS</th>\n",
              "      <th>route_FLAT</th>\n",
              "      <th>route_GO</th>\n",
              "      <th>route_HITCH</th>\n",
              "      <th>route_IN</th>\n",
              "      <th>route_OUT</th>\n",
              "      <th>route_POST</th>\n",
              "      <th>route_SCREEN</th>\n",
              "      <th>route_SLANT</th>\n",
              "      <th>route_WHEEL</th>\n",
              "      <th>route_undefined</th>\n",
              "      <th>offenseFormation_EMPTY</th>\n",
              "      <th>offenseFormation_I_FORM</th>\n",
              "      <th>...</th>\n",
              "      <th>offenseFormation_WILDCAT</th>\n",
              "      <th>personnelO_0 RB, 0 TE, 5 WR</th>\n",
              "      <th>personnelO_0 RB, 1 TE, 4 WR</th>\n",
              "      <th>personnelO_1 RB, 0 TE, 4 WR</th>\n",
              "      <th>personnelO_1 RB, 1 TE, 3 WR</th>\n",
              "      <th>personnelO_1 RB, 2 TE, 2 WR</th>\n",
              "      <th>personnelO_1 RB, 3 TE, 1 WR</th>\n",
              "      <th>personnelO_2 QB, 1 RB, 1 TE, 2 WR</th>\n",
              "      <th>personnelO_2 RB, 0 TE, 3 WR</th>\n",
              "      <th>personnelO_2 RB, 1 TE, 2 WR</th>\n",
              "      <th>personnelO_2 RB, 2 TE, 1 WR</th>\n",
              "      <th>personnelO_3 RB, 1 TE, 1 WR</th>\n",
              "      <th>personnelO_6 OL, 1 RB, 1 TE, 2 WR</th>\n",
              "      <th>personnelO_6 OL, 1 RB, 2 TE, 1 WR</th>\n",
              "      <th>personnelO_6 OL, 2 RB, 1 TE, 0 WR,1 DL</th>\n",
              "      <th>personnelO_6 OL, 2 RB, 2 TE, 0 WR</th>\n",
              "      <th>personnelD_0 DL, 4 LB, 7 DB</th>\n",
              "      <th>personnelD_0 DL, 5 LB, 6 DB</th>\n",
              "      <th>personnelD_0 DL, 6 LB, 5 DB</th>\n",
              "      <th>personnelD_1 DL, 3 LB, 7 DB</th>\n",
              "      <th>personnelD_1 DL, 4 LB, 6 DB</th>\n",
              "      <th>personnelD_1 DL, 5 LB, 5 DB</th>\n",
              "      <th>personnelD_2 DL, 2 LB, 7 DB</th>\n",
              "      <th>personnelD_2 DL, 3 LB, 6 DB</th>\n",
              "      <th>personnelD_2 DL, 4 LB, 5 DB</th>\n",
              "      <th>personnelD_3 DL, 1 LB, 7 DB</th>\n",
              "      <th>personnelD_3 DL, 2 LB, 6 DB</th>\n",
              "      <th>personnelD_3 DL, 3 LB, 5 DB</th>\n",
              "      <th>personnelD_3 DL, 4 LB, 4 DB</th>\n",
              "      <th>personnelD_3 DL, 5 LB, 3 DB</th>\n",
              "      <th>personnelD_4 DL, 1 LB, 6 DB</th>\n",
              "      <th>personnelD_4 DL, 2 LB, 5 DB</th>\n",
              "      <th>personnelD_4 DL, 3 LB, 4 DB</th>\n",
              "      <th>personnelD_4 DL, 4 LB, 3 DB</th>\n",
              "      <th>personnelD_4 DL, 5 LB, 2 DB</th>\n",
              "      <th>personnelD_5 DL, 2 LB, 4 DB</th>\n",
              "      <th>passResult_C</th>\n",
              "      <th>passResult_I</th>\n",
              "      <th>passResult_IN</th>\n",
              "      <th>passResult_S</th>\n",
              "    </tr>\n",
              "  </thead>\n",
              "  <tbody>\n",
              "    <tr>\n",
              "      <th>0</th>\n",
              "      <td>0.00</td>\n",
              "      <td>1680</td>\n",
              "      <td>2</td>\n",
              "      <td>2</td>\n",
              "      <td>10</td>\n",
              "      <td>5</td>\n",
              "      <td>6.0</td>\n",
              "      <td>4.0</td>\n",
              "      <td>6.0</td>\n",
              "      <td>3.0</td>\n",
              "      <td>105.0</td>\n",
              "      <td>4</td>\n",
              "      <td>19</td>\n",
              "      <td>1.29905</td>\n",
              "      <td>False</td>\n",
              "      <td>0</td>\n",
              "      <td>0</td>\n",
              "      <td>0</td>\n",
              "      <td>1</td>\n",
              "      <td>0</td>\n",
              "      <td>0</td>\n",
              "      <td>0</td>\n",
              "      <td>1</td>\n",
              "      <td>1</td>\n",
              "      <td>0</td>\n",
              "      <td>0</td>\n",
              "      <td>0</td>\n",
              "      <td>0</td>\n",
              "      <td>0</td>\n",
              "      <td>0</td>\n",
              "      <td>0</td>\n",
              "      <td>0</td>\n",
              "      <td>0</td>\n",
              "      <td>0</td>\n",
              "      <td>0</td>\n",
              "      <td>0</td>\n",
              "      <td>1</td>\n",
              "      <td>0</td>\n",
              "      <td>0</td>\n",
              "      <td>0</td>\n",
              "      <td>...</td>\n",
              "      <td>0</td>\n",
              "      <td>0</td>\n",
              "      <td>0</td>\n",
              "      <td>0</td>\n",
              "      <td>1</td>\n",
              "      <td>0</td>\n",
              "      <td>0</td>\n",
              "      <td>0</td>\n",
              "      <td>0</td>\n",
              "      <td>0</td>\n",
              "      <td>0</td>\n",
              "      <td>0</td>\n",
              "      <td>0</td>\n",
              "      <td>0</td>\n",
              "      <td>0</td>\n",
              "      <td>0</td>\n",
              "      <td>0</td>\n",
              "      <td>0</td>\n",
              "      <td>0</td>\n",
              "      <td>0</td>\n",
              "      <td>0</td>\n",
              "      <td>0</td>\n",
              "      <td>0</td>\n",
              "      <td>0</td>\n",
              "      <td>0</td>\n",
              "      <td>0</td>\n",
              "      <td>0</td>\n",
              "      <td>1</td>\n",
              "      <td>0</td>\n",
              "      <td>0</td>\n",
              "      <td>0</td>\n",
              "      <td>0</td>\n",
              "      <td>0</td>\n",
              "      <td>0</td>\n",
              "      <td>0</td>\n",
              "      <td>0</td>\n",
              "      <td>1</td>\n",
              "      <td>0</td>\n",
              "      <td>0</td>\n",
              "      <td>0</td>\n",
              "    </tr>\n",
              "    <tr>\n",
              "      <th>1</th>\n",
              "      <td>0.00</td>\n",
              "      <td>1680</td>\n",
              "      <td>2</td>\n",
              "      <td>2</td>\n",
              "      <td>10</td>\n",
              "      <td>5</td>\n",
              "      <td>6.0</td>\n",
              "      <td>4.0</td>\n",
              "      <td>6.0</td>\n",
              "      <td>3.0</td>\n",
              "      <td>105.0</td>\n",
              "      <td>4</td>\n",
              "      <td>19</td>\n",
              "      <td>1.29905</td>\n",
              "      <td>False</td>\n",
              "      <td>0</td>\n",
              "      <td>0</td>\n",
              "      <td>0</td>\n",
              "      <td>0</td>\n",
              "      <td>0</td>\n",
              "      <td>1</td>\n",
              "      <td>0</td>\n",
              "      <td>1</td>\n",
              "      <td>1</td>\n",
              "      <td>0</td>\n",
              "      <td>0</td>\n",
              "      <td>0</td>\n",
              "      <td>0</td>\n",
              "      <td>0</td>\n",
              "      <td>0</td>\n",
              "      <td>0</td>\n",
              "      <td>0</td>\n",
              "      <td>0</td>\n",
              "      <td>1</td>\n",
              "      <td>0</td>\n",
              "      <td>0</td>\n",
              "      <td>0</td>\n",
              "      <td>0</td>\n",
              "      <td>0</td>\n",
              "      <td>0</td>\n",
              "      <td>...</td>\n",
              "      <td>0</td>\n",
              "      <td>0</td>\n",
              "      <td>0</td>\n",
              "      <td>0</td>\n",
              "      <td>1</td>\n",
              "      <td>0</td>\n",
              "      <td>0</td>\n",
              "      <td>0</td>\n",
              "      <td>0</td>\n",
              "      <td>0</td>\n",
              "      <td>0</td>\n",
              "      <td>0</td>\n",
              "      <td>0</td>\n",
              "      <td>0</td>\n",
              "      <td>0</td>\n",
              "      <td>0</td>\n",
              "      <td>0</td>\n",
              "      <td>0</td>\n",
              "      <td>0</td>\n",
              "      <td>0</td>\n",
              "      <td>0</td>\n",
              "      <td>0</td>\n",
              "      <td>0</td>\n",
              "      <td>0</td>\n",
              "      <td>0</td>\n",
              "      <td>0</td>\n",
              "      <td>0</td>\n",
              "      <td>1</td>\n",
              "      <td>0</td>\n",
              "      <td>0</td>\n",
              "      <td>0</td>\n",
              "      <td>0</td>\n",
              "      <td>0</td>\n",
              "      <td>0</td>\n",
              "      <td>0</td>\n",
              "      <td>0</td>\n",
              "      <td>1</td>\n",
              "      <td>0</td>\n",
              "      <td>0</td>\n",
              "      <td>0</td>\n",
              "    </tr>\n",
              "    <tr>\n",
              "      <th>2</th>\n",
              "      <td>0.00</td>\n",
              "      <td>1680</td>\n",
              "      <td>2</td>\n",
              "      <td>2</td>\n",
              "      <td>10</td>\n",
              "      <td>5</td>\n",
              "      <td>6.0</td>\n",
              "      <td>4.0</td>\n",
              "      <td>6.0</td>\n",
              "      <td>3.0</td>\n",
              "      <td>105.0</td>\n",
              "      <td>4</td>\n",
              "      <td>19</td>\n",
              "      <td>1.29905</td>\n",
              "      <td>False</td>\n",
              "      <td>0</td>\n",
              "      <td>0</td>\n",
              "      <td>0</td>\n",
              "      <td>0</td>\n",
              "      <td>1</td>\n",
              "      <td>0</td>\n",
              "      <td>0</td>\n",
              "      <td>1</td>\n",
              "      <td>1</td>\n",
              "      <td>0</td>\n",
              "      <td>0</td>\n",
              "      <td>0</td>\n",
              "      <td>0</td>\n",
              "      <td>0</td>\n",
              "      <td>0</td>\n",
              "      <td>0</td>\n",
              "      <td>0</td>\n",
              "      <td>0</td>\n",
              "      <td>1</td>\n",
              "      <td>0</td>\n",
              "      <td>0</td>\n",
              "      <td>0</td>\n",
              "      <td>0</td>\n",
              "      <td>0</td>\n",
              "      <td>0</td>\n",
              "      <td>...</td>\n",
              "      <td>0</td>\n",
              "      <td>0</td>\n",
              "      <td>0</td>\n",
              "      <td>0</td>\n",
              "      <td>1</td>\n",
              "      <td>0</td>\n",
              "      <td>0</td>\n",
              "      <td>0</td>\n",
              "      <td>0</td>\n",
              "      <td>0</td>\n",
              "      <td>0</td>\n",
              "      <td>0</td>\n",
              "      <td>0</td>\n",
              "      <td>0</td>\n",
              "      <td>0</td>\n",
              "      <td>0</td>\n",
              "      <td>0</td>\n",
              "      <td>0</td>\n",
              "      <td>0</td>\n",
              "      <td>0</td>\n",
              "      <td>0</td>\n",
              "      <td>0</td>\n",
              "      <td>0</td>\n",
              "      <td>0</td>\n",
              "      <td>0</td>\n",
              "      <td>0</td>\n",
              "      <td>0</td>\n",
              "      <td>1</td>\n",
              "      <td>0</td>\n",
              "      <td>0</td>\n",
              "      <td>0</td>\n",
              "      <td>0</td>\n",
              "      <td>0</td>\n",
              "      <td>0</td>\n",
              "      <td>0</td>\n",
              "      <td>0</td>\n",
              "      <td>1</td>\n",
              "      <td>0</td>\n",
              "      <td>0</td>\n",
              "      <td>0</td>\n",
              "    </tr>\n",
              "    <tr>\n",
              "      <th>3</th>\n",
              "      <td>0.59</td>\n",
              "      <td>1680</td>\n",
              "      <td>2</td>\n",
              "      <td>2</td>\n",
              "      <td>10</td>\n",
              "      <td>5</td>\n",
              "      <td>6.0</td>\n",
              "      <td>4.0</td>\n",
              "      <td>6.0</td>\n",
              "      <td>3.0</td>\n",
              "      <td>105.0</td>\n",
              "      <td>4</td>\n",
              "      <td>19</td>\n",
              "      <td>1.29905</td>\n",
              "      <td>False</td>\n",
              "      <td>0</td>\n",
              "      <td>0</td>\n",
              "      <td>0</td>\n",
              "      <td>0</td>\n",
              "      <td>0</td>\n",
              "      <td>1</td>\n",
              "      <td>0</td>\n",
              "      <td>1</td>\n",
              "      <td>1</td>\n",
              "      <td>0</td>\n",
              "      <td>0</td>\n",
              "      <td>0</td>\n",
              "      <td>1</td>\n",
              "      <td>0</td>\n",
              "      <td>0</td>\n",
              "      <td>0</td>\n",
              "      <td>0</td>\n",
              "      <td>0</td>\n",
              "      <td>0</td>\n",
              "      <td>0</td>\n",
              "      <td>0</td>\n",
              "      <td>0</td>\n",
              "      <td>0</td>\n",
              "      <td>0</td>\n",
              "      <td>0</td>\n",
              "      <td>...</td>\n",
              "      <td>0</td>\n",
              "      <td>0</td>\n",
              "      <td>0</td>\n",
              "      <td>0</td>\n",
              "      <td>1</td>\n",
              "      <td>0</td>\n",
              "      <td>0</td>\n",
              "      <td>0</td>\n",
              "      <td>0</td>\n",
              "      <td>0</td>\n",
              "      <td>0</td>\n",
              "      <td>0</td>\n",
              "      <td>0</td>\n",
              "      <td>0</td>\n",
              "      <td>0</td>\n",
              "      <td>0</td>\n",
              "      <td>0</td>\n",
              "      <td>0</td>\n",
              "      <td>0</td>\n",
              "      <td>0</td>\n",
              "      <td>0</td>\n",
              "      <td>0</td>\n",
              "      <td>0</td>\n",
              "      <td>0</td>\n",
              "      <td>0</td>\n",
              "      <td>0</td>\n",
              "      <td>0</td>\n",
              "      <td>1</td>\n",
              "      <td>0</td>\n",
              "      <td>0</td>\n",
              "      <td>0</td>\n",
              "      <td>0</td>\n",
              "      <td>0</td>\n",
              "      <td>0</td>\n",
              "      <td>0</td>\n",
              "      <td>0</td>\n",
              "      <td>1</td>\n",
              "      <td>0</td>\n",
              "      <td>0</td>\n",
              "      <td>0</td>\n",
              "    </tr>\n",
              "    <tr>\n",
              "      <th>4</th>\n",
              "      <td>0.00</td>\n",
              "      <td>1680</td>\n",
              "      <td>2</td>\n",
              "      <td>2</td>\n",
              "      <td>10</td>\n",
              "      <td>5</td>\n",
              "      <td>6.0</td>\n",
              "      <td>4.0</td>\n",
              "      <td>6.0</td>\n",
              "      <td>3.0</td>\n",
              "      <td>105.0</td>\n",
              "      <td>4</td>\n",
              "      <td>19</td>\n",
              "      <td>1.29905</td>\n",
              "      <td>False</td>\n",
              "      <td>0</td>\n",
              "      <td>0</td>\n",
              "      <td>0</td>\n",
              "      <td>0</td>\n",
              "      <td>0</td>\n",
              "      <td>1</td>\n",
              "      <td>0</td>\n",
              "      <td>1</td>\n",
              "      <td>1</td>\n",
              "      <td>0</td>\n",
              "      <td>0</td>\n",
              "      <td>0</td>\n",
              "      <td>0</td>\n",
              "      <td>0</td>\n",
              "      <td>0</td>\n",
              "      <td>0</td>\n",
              "      <td>0</td>\n",
              "      <td>0</td>\n",
              "      <td>1</td>\n",
              "      <td>0</td>\n",
              "      <td>0</td>\n",
              "      <td>0</td>\n",
              "      <td>0</td>\n",
              "      <td>0</td>\n",
              "      <td>0</td>\n",
              "      <td>...</td>\n",
              "      <td>0</td>\n",
              "      <td>0</td>\n",
              "      <td>0</td>\n",
              "      <td>0</td>\n",
              "      <td>1</td>\n",
              "      <td>0</td>\n",
              "      <td>0</td>\n",
              "      <td>0</td>\n",
              "      <td>0</td>\n",
              "      <td>0</td>\n",
              "      <td>0</td>\n",
              "      <td>0</td>\n",
              "      <td>0</td>\n",
              "      <td>0</td>\n",
              "      <td>0</td>\n",
              "      <td>0</td>\n",
              "      <td>0</td>\n",
              "      <td>0</td>\n",
              "      <td>0</td>\n",
              "      <td>0</td>\n",
              "      <td>0</td>\n",
              "      <td>0</td>\n",
              "      <td>0</td>\n",
              "      <td>0</td>\n",
              "      <td>0</td>\n",
              "      <td>0</td>\n",
              "      <td>0</td>\n",
              "      <td>1</td>\n",
              "      <td>0</td>\n",
              "      <td>0</td>\n",
              "      <td>0</td>\n",
              "      <td>0</td>\n",
              "      <td>0</td>\n",
              "      <td>0</td>\n",
              "      <td>0</td>\n",
              "      <td>0</td>\n",
              "      <td>1</td>\n",
              "      <td>0</td>\n",
              "      <td>0</td>\n",
              "      <td>0</td>\n",
              "    </tr>\n",
              "  </tbody>\n",
              "</table>\n",
              "<p>5 rows × 84 columns</p>\n",
              "</div>"
            ],
            "text/plain": [
              "    dis  playId  quarter  ...  passResult_I  passResult_IN  passResult_S\n",
              "0  0.00    1680        2  ...             0              0             0\n",
              "1  0.00    1680        2  ...             0              0             0\n",
              "2  0.00    1680        2  ...             0              0             0\n",
              "3  0.59    1680        2  ...             0              0             0\n",
              "4  0.00    1680        2  ...             0              0             0\n",
              "\n",
              "[5 rows x 84 columns]"
            ]
          },
          "metadata": {
            "tags": []
          },
          "execution_count": 13
        }
      ]
    },
    {
      "cell_type": "code",
      "metadata": {
        "id": "Szg8nKYz1ta-"
      },
      "source": [
        "# Set features. This will also be used as your x values.\n",
        "selected_features = df[['quarter', 'down', 'yardsToGo', 'defendersInTheBox', 'numberOfPassRushers', 'isDefensivePI',\n",
        "                        'offenseFormation_EMPTY',\t'offenseFormation_I_FORM',\t'offenseFormation_JUMBO',\t'offenseFormation_PISTOL',\t'offenseFormation_SHOTGUN',\t'offenseFormation_SINGLEBACK',\n",
        "                        'offenseFormation_WILDCAT',\t'personnelO_0 RB, 0 TE, 5 WR',\t'personnelO_0 RB, 1 TE, 4 WR',\t'personnelO_1 RB, 0 TE, 4 WR',\t'personnelO_1 RB, 1 TE, 3 WR',\t'personnelO_1 RB, 2 TE, 2 WR',\t\n",
        "                        'personnelO_1 RB, 3 TE, 1 WR',\t'personnelO_2 QB, 1 RB, 1 TE, 2 WR',\t'personnelO_2 RB, 0 TE, 3 WR',\t'personnelO_2 RB, 1 TE, 2 WR',\t'personnelO_2 RB, 2 TE, 1 WR',\n",
        "                        'personnelO_3 RB, 1 TE, 1 WR',\t'personnelO_6 OL, 1 RB, 1 TE, 2 WR',\t'personnelO_6 OL, 1 RB, 2 TE, 1 WR',\t'personnelO_6 OL, 2 RB, 1 TE, 0 WR,1 DL',\t'personnelO_6 OL, 2 RB, 2 TE, 0 WR',\n",
        "                        'personnelD_0 DL, 4 LB, 7 DB',\t'personnelD_0 DL, 5 LB, 6 DB',\t'personnelD_0 DL, 6 LB, 5 DB',\t'personnelD_1 DL, 3 LB, 7 DB',\t'personnelD_1 DL, 4 LB, 6 DB',\n",
        "                        'personnelD_1 DL, 5 LB, 5 DB',\t'personnelD_2 DL, 2 LB, 7 DB',\t'personnelD_2 DL, 3 LB, 6 DB',\t'personnelD_2 DL, 4 LB, 5 DB',\t'personnelD_3 DL, 1 LB, 7 DB',\n",
        "                        'personnelD_3 DL, 2 LB, 6 DB',\t'personnelD_3 DL, 3 LB, 5 DB',\t'personnelD_3 DL, 4 LB, 4 DB',\t'personnelD_3 DL, 5 LB, 3 DB',\t'personnelD_4 DL, 1 LB, 6 DB',\n",
        "                        'personnelD_4 DL, 2 LB, 5 DB',\t'personnelD_4 DL, 3 LB, 4 DB',\t'personnelD_4 DL, 4 LB, 3 DB',\t'personnelD_4 DL, 5 LB, 2 DB',\t'personnelD_5 DL, 2 LB, 4 DB'\t]]"
      ],
      "execution_count": null,
      "outputs": []
    },
    {
      "cell_type": "code",
      "metadata": {
        "id": "lnncRLUq73WA"
      },
      "source": [
        "defensive_features = df[['personnelD_0 DL, 4 LB, 7 DB',\t'personnelD_0 DL, 5 LB, 6 DB',\t'personnelD_0 DL, 6 LB, 5 DB',\t'personnelD_1 DL, 3 LB, 7 DB',\t'personnelD_1 DL, 4 LB, 6 DB',\n",
        "                        'personnelD_1 DL, 5 LB, 5 DB',\t'personnelD_2 DL, 2 LB, 7 DB',\t'personnelD_2 DL, 3 LB, 6 DB',\t'personnelD_2 DL, 4 LB, 5 DB',\t'personnelD_3 DL, 1 LB, 7 DB',\n",
        "                        'personnelD_3 DL, 2 LB, 6 DB',\t'personnelD_3 DL, 3 LB, 5 DB',\t'personnelD_3 DL, 4 LB, 4 DB',\t'personnelD_3 DL, 5 LB, 3 DB',\t'personnelD_4 DL, 1 LB, 6 DB',\n",
        "                        'personnelD_4 DL, 2 LB, 5 DB',\t'personnelD_4 DL, 3 LB, 4 DB',\t'personnelD_4 DL, 4 LB, 3 DB',\t'personnelD_4 DL, 5 LB, 2 DB',\t'personnelD_5 DL, 2 LB, 4 DB']]"
      ],
      "execution_count": null,
      "outputs": []
    },
    {
      "cell_type": "code",
      "metadata": {
        "id": "a9mb-RHF-LX4"
      },
      "source": [
        "offensive_features = df[['offenseFormation_EMPTY',\t'offenseFormation_I_FORM',\t'offenseFormation_JUMBO',\t'offenseFormation_PISTOL',\t'offenseFormation_SHOTGUN',\t'offenseFormation_SINGLEBACK',\n",
        "                        'offenseFormation_WILDCAT',\t'personnelO_0 RB, 0 TE, 5 WR',\t'personnelO_0 RB, 1 TE, 4 WR',\t'personnelO_1 RB, 0 TE, 4 WR',\t'personnelO_1 RB, 1 TE, 3 WR',\t'personnelO_1 RB, 2 TE, 2 WR',\t\n",
        "                        'personnelO_1 RB, 3 TE, 1 WR',\t'personnelO_2 QB, 1 RB, 1 TE, 2 WR',\t'personnelO_2 RB, 0 TE, 3 WR',\t'personnelO_2 RB, 1 TE, 2 WR',\t'personnelO_2 RB, 2 TE, 1 WR',\n",
        "                        'personnelO_3 RB, 1 TE, 1 WR',\t'personnelO_6 OL, 1 RB, 1 TE, 2 WR',\t'personnelO_6 OL, 1 RB, 2 TE, 1 WR',\t'personnelO_6 OL, 2 RB, 1 TE, 0 WR,1 DL',\t'personnelO_6 OL, 2 RB, 2 TE, 0 WR',]]"
      ],
      "execution_count": null,
      "outputs": []
    },
    {
      "cell_type": "markdown",
      "metadata": {
        "id": "n80d9nvM74Pw"
      },
      "source": [
        "**Catch Predictions**"
      ]
    },
    {
      "cell_type": "markdown",
      "metadata": {
        "id": "_FLBax8KfHb-"
      },
      "source": [
        "Logistic Regression-----"
      ]
    },
    {
      "cell_type": "code",
      "metadata": {
        "id": "NGhjXWM91ta-"
      },
      "source": [
        "from sklearn.model_selection import train_test_split\n",
        "y = df[\"passResult_C\"]\n",
        "X = selected_features\n",
        "\n",
        "X_train, X_test, y_train, y_test = train_test_split(X, y, random_state=1, stratify=y)"
      ],
      "execution_count": null,
      "outputs": []
    },
    {
      "cell_type": "code",
      "metadata": {
        "id": "mdKbdJpe1ta-"
      },
      "source": [
        "from sklearn.preprocessing import MinMaxScaler\n",
        "X_scaler = MinMaxScaler().fit(X_train)\n",
        "\n",
        "X_train_scaled = X_scaler.transform(X_train)\n",
        "X_test_scaled = X_scaler.transform(X_test)"
      ],
      "execution_count": null,
      "outputs": []
    },
    {
      "cell_type": "code",
      "metadata": {
        "id": "gH5e1W4S1ta-",
        "colab": {
          "base_uri": "https://localhost:8080/"
        },
        "outputId": "937979f7-c083-41df-d7b9-267f68baf8bf"
      },
      "source": [
        "from sklearn.linear_model import LogisticRegression\n",
        "model = LogisticRegression(max_iter=1000)\n",
        "model.fit(X_train_scaled, y_train)"
      ],
      "execution_count": null,
      "outputs": [
        {
          "output_type": "execute_result",
          "data": {
            "text/plain": [
              "LogisticRegression(C=1.0, class_weight=None, dual=False, fit_intercept=True,\n",
              "                   intercept_scaling=1, l1_ratio=None, max_iter=1000,\n",
              "                   multi_class='auto', n_jobs=None, penalty='l2',\n",
              "                   random_state=None, solver='lbfgs', tol=0.0001, verbose=0,\n",
              "                   warm_start=False)"
            ]
          },
          "metadata": {
            "tags": []
          },
          "execution_count": 19
        }
      ]
    },
    {
      "cell_type": "code",
      "metadata": {
        "id": "9FY0qMFj1ta-",
        "colab": {
          "base_uri": "https://localhost:8080/"
        },
        "outputId": "a130639a-6c8c-4f6f-986e-dfdc53403402"
      },
      "source": [
        "print(f\"Training Data Score: {model.score(X_train_scaled, y_train)}\")\n",
        "print(f\"Testing Data Score: {model.score(X_test_scaled, y_test)}\")"
      ],
      "execution_count": null,
      "outputs": [
        {
          "output_type": "stream",
          "text": [
            "Training Data Score: 0.7214973850812001\n",
            "Testing Data Score: 0.7213546346984276\n"
          ],
          "name": "stdout"
        }
      ]
    },
    {
      "cell_type": "markdown",
      "metadata": {
        "id": "hE7_Cu9hfSUx"
      },
      "source": [
        "Random Forest Classifier"
      ]
    },
    {
      "cell_type": "code",
      "metadata": {
        "id": "aaFLUe-11ta-",
        "colab": {
          "base_uri": "https://localhost:8080/"
        },
        "outputId": "526e4e12-fc72-4f32-8ae7-8ee5652adbdb"
      },
      "source": [
        "from sklearn.ensemble import RandomForestClassifier\n",
        "rf = RandomForestClassifier(n_estimators=100)\n",
        "rf = rf.fit(X_train, y_train)\n",
        "rf.score(X_test, y_test)"
      ],
      "execution_count": null,
      "outputs": [
        {
          "output_type": "execute_result",
          "data": {
            "text/plain": [
              "0.9779619276148657"
            ]
          },
          "metadata": {
            "tags": []
          },
          "execution_count": 21
        }
      ]
    },
    {
      "cell_type": "code",
      "metadata": {
        "id": "Pco2SaJOfCKn",
        "colab": {
          "base_uri": "https://localhost:8080/"
        },
        "outputId": "064530c0-9e2e-4bb5-db98-c302177bce16"
      },
      "source": [
        "sorted(zip(rf.feature_importances_, selected_features), reverse=True)"
      ],
      "execution_count": null,
      "outputs": [
        {
          "output_type": "execute_result",
          "data": {
            "text/plain": [
              "[(0.22386823155737623, 'yardsToGo'),\n",
              " (0.13015459438402258, 'quarter'),\n",
              " (0.11573350923600438, 'defendersInTheBox'),\n",
              " (0.10372927948071403, 'numberOfPassRushers'),\n",
              " (0.08682015401164887, 'down'),\n",
              " (0.02765323164731775, 'personnelD_4 DL, 2 LB, 5 DB'),\n",
              " (0.02723720447568033, 'personnelD_3 DL, 3 LB, 5 DB'),\n",
              " (0.02231384081852296, 'personnelD_2 DL, 4 LB, 5 DB'),\n",
              " (0.021172215019413698, 'personnelD_4 DL, 1 LB, 6 DB'),\n",
              " (0.01981851446055935, 'offenseFormation_SHOTGUN'),\n",
              " (0.019152281816902678, 'isDefensivePI'),\n",
              " (0.01814854525007358, 'personnelO_1 RB, 1 TE, 3 WR'),\n",
              " (0.017157836270612598, 'personnelD_3 DL, 2 LB, 6 DB'),\n",
              " (0.015396007412204456, 'offenseFormation_SINGLEBACK'),\n",
              " (0.014855904597899306, 'offenseFormation_EMPTY'),\n",
              " (0.014786055407414145, 'personnelO_1 RB, 2 TE, 2 WR'),\n",
              " (0.0141295276736151, 'personnelD_2 DL, 3 LB, 6 DB'),\n",
              " (0.012351297811768119, 'personnelD_4 DL, 3 LB, 4 DB'),\n",
              " (0.010286610617093439, 'personnelO_1 RB, 0 TE, 4 WR'),\n",
              " (0.008340407134745504, 'personnelO_2 RB, 1 TE, 2 WR'),\n",
              " (0.008243844064091092, 'personnelD_1 DL, 3 LB, 7 DB'),\n",
              " (0.0074973400853016745, 'offenseFormation_I_FORM'),\n",
              " (0.007195084647480842, 'personnelD_1 DL, 4 LB, 6 DB'),\n",
              " (0.006006460087297518, 'personnelD_5 DL, 2 LB, 4 DB'),\n",
              " (0.005996226031892811, 'personnelD_3 DL, 4 LB, 4 DB'),\n",
              " (0.0058154263884670175, 'personnelO_0 RB, 1 TE, 4 WR'),\n",
              " (0.005324220458501216, 'personnelD_2 DL, 2 LB, 7 DB'),\n",
              " (0.004831889154072583, 'offenseFormation_PISTOL'),\n",
              " (0.003838808852124476, 'personnelO_2 RB, 0 TE, 3 WR'),\n",
              " (0.003510122536775075, 'personnelD_1 DL, 5 LB, 5 DB'),\n",
              " (0.002570815221655173, 'personnelD_0 DL, 6 LB, 5 DB'),\n",
              " (0.002191971652900373, 'personnelO_1 RB, 3 TE, 1 WR'),\n",
              " (0.0020821845441095334, 'offenseFormation_WILDCAT'),\n",
              " (0.002061096468641884, 'personnelD_0 DL, 5 LB, 6 DB'),\n",
              " (0.0018028913403977773, 'personnelO_2 QB, 1 RB, 1 TE, 2 WR'),\n",
              " (0.0017061509177208711, 'personnelO_2 RB, 2 TE, 1 WR'),\n",
              " (0.0012052371609446453, 'personnelD_4 DL, 5 LB, 2 DB'),\n",
              " (0.0008915394728462384, 'personnelO_6 OL, 1 RB, 1 TE, 2 WR'),\n",
              " (0.0008814290782783689, 'offenseFormation_JUMBO'),\n",
              " (0.0006995710367382604, 'personnelD_4 DL, 4 LB, 3 DB'),\n",
              " (0.0005125148909610113, 'personnelO_3 RB, 1 TE, 1 WR'),\n",
              " (0.000506371054865386, 'personnelD_3 DL, 1 LB, 7 DB'),\n",
              " (0.0003787362274276895, 'personnelD_0 DL, 4 LB, 7 DB'),\n",
              " (0.0003577974196326454, 'personnelO_6 OL, 2 RB, 2 TE, 0 WR'),\n",
              " (0.00034182532244544136, 'personnelO_6 OL, 2 RB, 1 TE, 0 WR,1 DL'),\n",
              " (0.00021868893342493788, 'personnelO_0 RB, 0 TE, 5 WR'),\n",
              " (0.00014153658452632103, 'personnelD_3 DL, 5 LB, 3 DB'),\n",
              " (8.497128288995404e-05, 'personnelO_6 OL, 1 RB, 2 TE, 1 WR')]"
            ]
          },
          "metadata": {
            "tags": []
          },
          "execution_count": 22
        }
      ]
    },
    {
      "cell_type": "markdown",
      "metadata": {
        "id": "rLzb6gewfeeh"
      },
      "source": [
        "Grid Search"
      ]
    },
    {
      "cell_type": "code",
      "metadata": {
        "id": "sF5O36h2fCVd"
      },
      "source": [
        "# Create the GridSearchCV model\n",
        "from sklearn.model_selection import GridSearchCV\n",
        "param_grid = {'C': [.001, .01, .1, 1, 5, 10],\n",
        "              'max_iter': [10, 100,1000],\n",
        "              'class_weight': [None, 'balanced'],\n",
        "              'penalty': [\"l1\",\"none\", \"l2\"]}\n",
        "model = LogisticRegression(solver='liblinear')\n",
        "grid = GridSearchCV(model, param_grid, verbose=3)"
      ],
      "execution_count": null,
      "outputs": []
    },
    {
      "cell_type": "code",
      "metadata": {
        "id": "WB6sRrLefjdg",
        "colab": {
          "base_uri": "https://localhost:8080/"
        },
        "outputId": "d9cfa215-74d1-4389-f2be-266fd9046e52"
      },
      "source": [
        "# Train the model with GridSearch\n",
        "grid.fit(X_train_scaled, y_train)"
      ],
      "execution_count": null,
      "outputs": [
        {
          "output_type": "stream",
          "text": [
            "Fitting 5 folds for each of 108 candidates, totalling 540 fits\n",
            "[CV] C=0.001, class_weight=None, max_iter=10, penalty=l1 .............\n"
          ],
          "name": "stdout"
        },
        {
          "output_type": "stream",
          "text": [
            "[Parallel(n_jobs=1)]: Using backend SequentialBackend with 1 concurrent workers.\n",
            "/usr/local/lib/python3.6/dist-packages/sklearn/svm/_base.py:947: ConvergenceWarning: Liblinear failed to converge, increase the number of iterations.\n",
            "  \"the number of iterations.\", ConvergenceWarning)\n",
            "[Parallel(n_jobs=1)]: Done   1 out of   1 | elapsed:    1.7s remaining:    0.0s\n"
          ],
          "name": "stderr"
        },
        {
          "output_type": "stream",
          "text": [
            "[CV]  C=0.001, class_weight=None, max_iter=10, penalty=l1, score=0.703, total=   1.7s\n",
            "[CV] C=0.001, class_weight=None, max_iter=10, penalty=l1 .............\n"
          ],
          "name": "stdout"
        },
        {
          "output_type": "stream",
          "text": [
            "/usr/local/lib/python3.6/dist-packages/sklearn/svm/_base.py:947: ConvergenceWarning: Liblinear failed to converge, increase the number of iterations.\n",
            "  \"the number of iterations.\", ConvergenceWarning)\n",
            "[Parallel(n_jobs=1)]: Done   2 out of   2 | elapsed:    5.0s remaining:    0.0s\n"
          ],
          "name": "stderr"
        },
        {
          "output_type": "stream",
          "text": [
            "[CV]  C=0.001, class_weight=None, max_iter=10, penalty=l1, score=0.690, total=   3.3s\n",
            "[CV] C=0.001, class_weight=None, max_iter=10, penalty=l1 .............\n"
          ],
          "name": "stdout"
        },
        {
          "output_type": "stream",
          "text": [
            "/usr/local/lib/python3.6/dist-packages/sklearn/svm/_base.py:947: ConvergenceWarning: Liblinear failed to converge, increase the number of iterations.\n",
            "  \"the number of iterations.\", ConvergenceWarning)\n"
          ],
          "name": "stderr"
        },
        {
          "output_type": "stream",
          "text": [
            "[CV]  C=0.001, class_weight=None, max_iter=10, penalty=l1, score=0.703, total=   1.7s\n",
            "[CV] C=0.001, class_weight=None, max_iter=10, penalty=l1 .............\n"
          ],
          "name": "stdout"
        },
        {
          "output_type": "stream",
          "text": [
            "/usr/local/lib/python3.6/dist-packages/sklearn/svm/_base.py:947: ConvergenceWarning: Liblinear failed to converge, increase the number of iterations.\n",
            "  \"the number of iterations.\", ConvergenceWarning)\n"
          ],
          "name": "stderr"
        },
        {
          "output_type": "stream",
          "text": [
            "[CV]  C=0.001, class_weight=None, max_iter=10, penalty=l1, score=0.692, total=   3.3s\n",
            "[CV] C=0.001, class_weight=None, max_iter=10, penalty=l1 .............\n"
          ],
          "name": "stdout"
        },
        {
          "output_type": "stream",
          "text": [
            "/usr/local/lib/python3.6/dist-packages/sklearn/svm/_base.py:947: ConvergenceWarning: Liblinear failed to converge, increase the number of iterations.\n",
            "  \"the number of iterations.\", ConvergenceWarning)\n",
            "/usr/local/lib/python3.6/dist-packages/sklearn/model_selection/_validation.py:536: FitFailedWarning: Estimator fit failed. The score on this train-test partition for these parameters will be set to nan. Details: \n",
            "ValueError: penalty='none' is not supported for the liblinear solver\n",
            "\n",
            "  FitFailedWarning)\n"
          ],
          "name": "stderr"
        },
        {
          "output_type": "stream",
          "text": [
            "[CV]  C=0.001, class_weight=None, max_iter=10, penalty=l1, score=0.693, total=   3.2s\n",
            "[CV] C=0.001, class_weight=None, max_iter=10, penalty=none ...........\n",
            "[CV]  C=0.001, class_weight=None, max_iter=10, penalty=none, score=nan, total=   0.1s\n",
            "[CV] C=0.001, class_weight=None, max_iter=10, penalty=none ...........\n",
            "[CV]  C=0.001, class_weight=None, max_iter=10, penalty=none, score=nan, total=   0.1s\n",
            "[CV] C=0.001, class_weight=None, max_iter=10, penalty=none ...........\n",
            "[CV]  C=0.001, class_weight=None, max_iter=10, penalty=none, score=nan, total=   0.1s\n",
            "[CV] C=0.001, class_weight=None, max_iter=10, penalty=none ...........\n",
            "[CV]  C=0.001, class_weight=None, max_iter=10, penalty=none, score=nan, total=   0.1s\n",
            "[CV] C=0.001, class_weight=None, max_iter=10, penalty=none ...........\n",
            "[CV]  C=0.001, class_weight=None, max_iter=10, penalty=none, score=nan, total=   0.1s\n",
            "[CV] C=0.001, class_weight=None, max_iter=10, penalty=l2 .............\n",
            "[CV]  C=0.001, class_weight=None, max_iter=10, penalty=l2, score=0.713, total=   1.8s\n",
            "[CV] C=0.001, class_weight=None, max_iter=10, penalty=l2 .............\n",
            "[CV]  C=0.001, class_weight=None, max_iter=10, penalty=l2, score=0.713, total=   1.9s\n",
            "[CV] C=0.001, class_weight=None, max_iter=10, penalty=l2 .............\n",
            "[CV]  C=0.001, class_weight=None, max_iter=10, penalty=l2, score=0.709, total=   1.9s\n",
            "[CV] C=0.001, class_weight=None, max_iter=10, penalty=l2 .............\n",
            "[CV]  C=0.001, class_weight=None, max_iter=10, penalty=l2, score=0.711, total=   1.6s\n",
            "[CV] C=0.001, class_weight=None, max_iter=10, penalty=l2 .............\n",
            "[CV]  C=0.001, class_weight=None, max_iter=10, penalty=l2, score=0.713, total=   1.9s\n",
            "[CV] C=0.001, class_weight=None, max_iter=100, penalty=l1 ............\n",
            "[CV]  C=0.001, class_weight=None, max_iter=100, penalty=l1, score=0.688, total=   8.8s\n",
            "[CV] C=0.001, class_weight=None, max_iter=100, penalty=l1 ............\n",
            "[CV]  C=0.001, class_weight=None, max_iter=100, penalty=l1, score=0.688, total=   7.9s\n",
            "[CV] C=0.001, class_weight=None, max_iter=100, penalty=l1 ............\n",
            "[CV]  C=0.001, class_weight=None, max_iter=100, penalty=l1, score=0.688, total=   7.6s\n",
            "[CV] C=0.001, class_weight=None, max_iter=100, penalty=l1 ............\n",
            "[CV]  C=0.001, class_weight=None, max_iter=100, penalty=l1, score=0.690, total=   7.7s\n",
            "[CV] C=0.001, class_weight=None, max_iter=100, penalty=l1 ............\n",
            "[CV]  C=0.001, class_weight=None, max_iter=100, penalty=l1, score=0.689, total=   8.0s\n",
            "[CV] C=0.001, class_weight=None, max_iter=100, penalty=none ..........\n",
            "[CV]  C=0.001, class_weight=None, max_iter=100, penalty=none, score=nan, total=   0.1s\n",
            "[CV] C=0.001, class_weight=None, max_iter=100, penalty=none ..........\n"
          ],
          "name": "stdout"
        },
        {
          "output_type": "stream",
          "text": [
            "/usr/local/lib/python3.6/dist-packages/sklearn/model_selection/_validation.py:536: FitFailedWarning: Estimator fit failed. The score on this train-test partition for these parameters will be set to nan. Details: \n",
            "ValueError: penalty='none' is not supported for the liblinear solver\n",
            "\n",
            "  FitFailedWarning)\n"
          ],
          "name": "stderr"
        },
        {
          "output_type": "stream",
          "text": [
            "[CV]  C=0.001, class_weight=None, max_iter=100, penalty=none, score=nan, total=   0.1s\n",
            "[CV] C=0.001, class_weight=None, max_iter=100, penalty=none ..........\n",
            "[CV]  C=0.001, class_weight=None, max_iter=100, penalty=none, score=nan, total=   0.1s\n",
            "[CV] C=0.001, class_weight=None, max_iter=100, penalty=none ..........\n",
            "[CV]  C=0.001, class_weight=None, max_iter=100, penalty=none, score=nan, total=   0.1s\n",
            "[CV] C=0.001, class_weight=None, max_iter=100, penalty=none ..........\n",
            "[CV]  C=0.001, class_weight=None, max_iter=100, penalty=none, score=nan, total=   0.1s\n",
            "[CV] C=0.001, class_weight=None, max_iter=100, penalty=l2 ............\n",
            "[CV]  C=0.001, class_weight=None, max_iter=100, penalty=l2, score=0.713, total=   1.8s\n",
            "[CV] C=0.001, class_weight=None, max_iter=100, penalty=l2 ............\n",
            "[CV]  C=0.001, class_weight=None, max_iter=100, penalty=l2, score=0.713, total=   1.9s\n",
            "[CV] C=0.001, class_weight=None, max_iter=100, penalty=l2 ............\n",
            "[CV]  C=0.001, class_weight=None, max_iter=100, penalty=l2, score=0.709, total=   1.9s\n",
            "[CV] C=0.001, class_weight=None, max_iter=100, penalty=l2 ............\n",
            "[CV]  C=0.001, class_weight=None, max_iter=100, penalty=l2, score=0.711, total=   1.6s\n",
            "[CV] C=0.001, class_weight=None, max_iter=100, penalty=l2 ............\n",
            "[CV]  C=0.001, class_weight=None, max_iter=100, penalty=l2, score=0.713, total=   1.9s\n",
            "[CV] C=0.001, class_weight=None, max_iter=1000, penalty=l1 ...........\n",
            "[CV]  C=0.001, class_weight=None, max_iter=1000, penalty=l1, score=0.688, total=   8.7s\n",
            "[CV] C=0.001, class_weight=None, max_iter=1000, penalty=l1 ...........\n",
            "[CV]  C=0.001, class_weight=None, max_iter=1000, penalty=l1, score=0.688, total=   8.2s\n",
            "[CV] C=0.001, class_weight=None, max_iter=1000, penalty=l1 ...........\n",
            "[CV]  C=0.001, class_weight=None, max_iter=1000, penalty=l1, score=0.688, total=   8.7s\n",
            "[CV] C=0.001, class_weight=None, max_iter=1000, penalty=l1 ...........\n",
            "[CV]  C=0.001, class_weight=None, max_iter=1000, penalty=l1, score=0.690, total=   7.5s\n",
            "[CV] C=0.001, class_weight=None, max_iter=1000, penalty=l1 ...........\n",
            "[CV]  C=0.001, class_weight=None, max_iter=1000, penalty=l1, score=0.689, total=   8.0s\n",
            "[CV] C=0.001, class_weight=None, max_iter=1000, penalty=none .........\n",
            "[CV]  C=0.001, class_weight=None, max_iter=1000, penalty=none, score=nan, total=   0.1s\n",
            "[CV] C=0.001, class_weight=None, max_iter=1000, penalty=none .........\n"
          ],
          "name": "stdout"
        },
        {
          "output_type": "stream",
          "text": [
            "/usr/local/lib/python3.6/dist-packages/sklearn/model_selection/_validation.py:536: FitFailedWarning: Estimator fit failed. The score on this train-test partition for these parameters will be set to nan. Details: \n",
            "ValueError: penalty='none' is not supported for the liblinear solver\n",
            "\n",
            "  FitFailedWarning)\n"
          ],
          "name": "stderr"
        },
        {
          "output_type": "stream",
          "text": [
            "[CV]  C=0.001, class_weight=None, max_iter=1000, penalty=none, score=nan, total=   0.1s\n",
            "[CV] C=0.001, class_weight=None, max_iter=1000, penalty=none .........\n",
            "[CV]  C=0.001, class_weight=None, max_iter=1000, penalty=none, score=nan, total=   0.1s\n",
            "[CV] C=0.001, class_weight=None, max_iter=1000, penalty=none .........\n",
            "[CV]  C=0.001, class_weight=None, max_iter=1000, penalty=none, score=nan, total=   0.1s\n",
            "[CV] C=0.001, class_weight=None, max_iter=1000, penalty=none .........\n",
            "[CV]  C=0.001, class_weight=None, max_iter=1000, penalty=none, score=nan, total=   0.1s\n",
            "[CV] C=0.001, class_weight=None, max_iter=1000, penalty=l2 ...........\n",
            "[CV]  C=0.001, class_weight=None, max_iter=1000, penalty=l2, score=0.713, total=   1.8s\n",
            "[CV] C=0.001, class_weight=None, max_iter=1000, penalty=l2 ...........\n",
            "[CV]  C=0.001, class_weight=None, max_iter=1000, penalty=l2, score=0.713, total=   1.9s\n",
            "[CV] C=0.001, class_weight=None, max_iter=1000, penalty=l2 ...........\n",
            "[CV]  C=0.001, class_weight=None, max_iter=1000, penalty=l2, score=0.709, total=   1.9s\n",
            "[CV] C=0.001, class_weight=None, max_iter=1000, penalty=l2 ...........\n",
            "[CV]  C=0.001, class_weight=None, max_iter=1000, penalty=l2, score=0.711, total=   1.6s\n",
            "[CV] C=0.001, class_weight=None, max_iter=1000, penalty=l2 ...........\n",
            "[CV]  C=0.001, class_weight=None, max_iter=1000, penalty=l2, score=0.713, total=   1.9s\n",
            "[CV] C=0.001, class_weight=balanced, max_iter=10, penalty=l1 .........\n"
          ],
          "name": "stdout"
        },
        {
          "output_type": "stream",
          "text": [
            "/usr/local/lib/python3.6/dist-packages/sklearn/svm/_base.py:947: ConvergenceWarning: Liblinear failed to converge, increase the number of iterations.\n",
            "  \"the number of iterations.\", ConvergenceWarning)\n"
          ],
          "name": "stderr"
        },
        {
          "output_type": "stream",
          "text": [
            "[CV]  C=0.001, class_weight=balanced, max_iter=10, penalty=l1, score=0.653, total=   4.6s\n",
            "[CV] C=0.001, class_weight=balanced, max_iter=10, penalty=l1 .........\n"
          ],
          "name": "stdout"
        },
        {
          "output_type": "stream",
          "text": [
            "/usr/local/lib/python3.6/dist-packages/sklearn/svm/_base.py:947: ConvergenceWarning: Liblinear failed to converge, increase the number of iterations.\n",
            "  \"the number of iterations.\", ConvergenceWarning)\n"
          ],
          "name": "stderr"
        },
        {
          "output_type": "stream",
          "text": [
            "[CV]  C=0.001, class_weight=balanced, max_iter=10, penalty=l1, score=0.653, total=   3.1s\n",
            "[CV] C=0.001, class_weight=balanced, max_iter=10, penalty=l1 .........\n"
          ],
          "name": "stdout"
        },
        {
          "output_type": "stream",
          "text": [
            "/usr/local/lib/python3.6/dist-packages/sklearn/svm/_base.py:947: ConvergenceWarning: Liblinear failed to converge, increase the number of iterations.\n",
            "  \"the number of iterations.\", ConvergenceWarning)\n"
          ],
          "name": "stderr"
        },
        {
          "output_type": "stream",
          "text": [
            "[CV]  C=0.001, class_weight=balanced, max_iter=10, penalty=l1, score=0.652, total=   4.6s\n",
            "[CV] C=0.001, class_weight=balanced, max_iter=10, penalty=l1 .........\n"
          ],
          "name": "stdout"
        },
        {
          "output_type": "stream",
          "text": [
            "/usr/local/lib/python3.6/dist-packages/sklearn/svm/_base.py:947: ConvergenceWarning: Liblinear failed to converge, increase the number of iterations.\n",
            "  \"the number of iterations.\", ConvergenceWarning)\n"
          ],
          "name": "stderr"
        },
        {
          "output_type": "stream",
          "text": [
            "[CV]  C=0.001, class_weight=balanced, max_iter=10, penalty=l1, score=0.656, total=   3.9s\n",
            "[CV] C=0.001, class_weight=balanced, max_iter=10, penalty=l1 .........\n"
          ],
          "name": "stdout"
        },
        {
          "output_type": "stream",
          "text": [
            "/usr/local/lib/python3.6/dist-packages/sklearn/svm/_base.py:947: ConvergenceWarning: Liblinear failed to converge, increase the number of iterations.\n",
            "  \"the number of iterations.\", ConvergenceWarning)\n",
            "/usr/local/lib/python3.6/dist-packages/sklearn/model_selection/_validation.py:536: FitFailedWarning: Estimator fit failed. The score on this train-test partition for these parameters will be set to nan. Details: \n",
            "ValueError: penalty='none' is not supported for the liblinear solver\n",
            "\n",
            "  FitFailedWarning)\n"
          ],
          "name": "stderr"
        },
        {
          "output_type": "stream",
          "text": [
            "[CV]  C=0.001, class_weight=balanced, max_iter=10, penalty=l1, score=0.657, total=   4.1s\n",
            "[CV] C=0.001, class_weight=balanced, max_iter=10, penalty=none .......\n",
            "[CV]  C=0.001, class_weight=balanced, max_iter=10, penalty=none, score=nan, total=   0.1s\n",
            "[CV] C=0.001, class_weight=balanced, max_iter=10, penalty=none .......\n",
            "[CV]  C=0.001, class_weight=balanced, max_iter=10, penalty=none, score=nan, total=   0.1s\n",
            "[CV] C=0.001, class_weight=balanced, max_iter=10, penalty=none .......\n",
            "[CV]  C=0.001, class_weight=balanced, max_iter=10, penalty=none, score=nan, total=   0.1s\n",
            "[CV] C=0.001, class_weight=balanced, max_iter=10, penalty=none .......\n",
            "[CV]  C=0.001, class_weight=balanced, max_iter=10, penalty=none, score=nan, total=   0.1s\n",
            "[CV] C=0.001, class_weight=balanced, max_iter=10, penalty=none .......\n",
            "[CV]  C=0.001, class_weight=balanced, max_iter=10, penalty=none, score=nan, total=   0.1s\n",
            "[CV] C=0.001, class_weight=balanced, max_iter=10, penalty=l2 .........\n",
            "[CV]  C=0.001, class_weight=balanced, max_iter=10, penalty=l2, score=0.664, total=   2.1s\n",
            "[CV] C=0.001, class_weight=balanced, max_iter=10, penalty=l2 .........\n",
            "[CV]  C=0.001, class_weight=balanced, max_iter=10, penalty=l2, score=0.663, total=   2.1s\n",
            "[CV] C=0.001, class_weight=balanced, max_iter=10, penalty=l2 .........\n",
            "[CV]  C=0.001, class_weight=balanced, max_iter=10, penalty=l2, score=0.666, total=   2.1s\n",
            "[CV] C=0.001, class_weight=balanced, max_iter=10, penalty=l2 .........\n",
            "[CV]  C=0.001, class_weight=balanced, max_iter=10, penalty=l2, score=0.668, total=   2.0s\n",
            "[CV] C=0.001, class_weight=balanced, max_iter=10, penalty=l2 .........\n",
            "[CV]  C=0.001, class_weight=balanced, max_iter=10, penalty=l2, score=0.665, total=   2.1s\n",
            "[CV] C=0.001, class_weight=balanced, max_iter=100, penalty=l1 ........\n",
            "[CV]  C=0.001, class_weight=balanced, max_iter=100, penalty=l1, score=0.651, total=  12.1s\n",
            "[CV] C=0.001, class_weight=balanced, max_iter=100, penalty=l1 ........\n",
            "[CV]  C=0.001, class_weight=balanced, max_iter=100, penalty=l1, score=0.646, total=  12.0s\n",
            "[CV] C=0.001, class_weight=balanced, max_iter=100, penalty=l1 ........\n",
            "[CV]  C=0.001, class_weight=balanced, max_iter=100, penalty=l1, score=0.652, total=  12.2s\n",
            "[CV] C=0.001, class_weight=balanced, max_iter=100, penalty=l1 ........\n",
            "[CV]  C=0.001, class_weight=balanced, max_iter=100, penalty=l1, score=0.655, total=  12.8s\n",
            "[CV] C=0.001, class_weight=balanced, max_iter=100, penalty=l1 ........\n",
            "[CV]  C=0.001, class_weight=balanced, max_iter=100, penalty=l1, score=0.651, total=  12.9s\n",
            "[CV] C=0.001, class_weight=balanced, max_iter=100, penalty=none ......\n",
            "[CV]  C=0.001, class_weight=balanced, max_iter=100, penalty=none, score=nan, total=   0.1s\n",
            "[CV] C=0.001, class_weight=balanced, max_iter=100, penalty=none ......\n"
          ],
          "name": "stdout"
        },
        {
          "output_type": "stream",
          "text": [
            "/usr/local/lib/python3.6/dist-packages/sklearn/model_selection/_validation.py:536: FitFailedWarning: Estimator fit failed. The score on this train-test partition for these parameters will be set to nan. Details: \n",
            "ValueError: penalty='none' is not supported for the liblinear solver\n",
            "\n",
            "  FitFailedWarning)\n"
          ],
          "name": "stderr"
        },
        {
          "output_type": "stream",
          "text": [
            "[CV]  C=0.001, class_weight=balanced, max_iter=100, penalty=none, score=nan, total=   0.1s\n",
            "[CV] C=0.001, class_weight=balanced, max_iter=100, penalty=none ......\n",
            "[CV]  C=0.001, class_weight=balanced, max_iter=100, penalty=none, score=nan, total=   0.1s\n",
            "[CV] C=0.001, class_weight=balanced, max_iter=100, penalty=none ......\n",
            "[CV]  C=0.001, class_weight=balanced, max_iter=100, penalty=none, score=nan, total=   0.1s\n",
            "[CV] C=0.001, class_weight=balanced, max_iter=100, penalty=none ......\n",
            "[CV]  C=0.001, class_weight=balanced, max_iter=100, penalty=none, score=nan, total=   0.1s\n",
            "[CV] C=0.001, class_weight=balanced, max_iter=100, penalty=l2 ........\n",
            "[CV]  C=0.001, class_weight=balanced, max_iter=100, penalty=l2, score=0.664, total=   2.0s\n",
            "[CV] C=0.001, class_weight=balanced, max_iter=100, penalty=l2 ........\n",
            "[CV]  C=0.001, class_weight=balanced, max_iter=100, penalty=l2, score=0.663, total=   2.1s\n",
            "[CV] C=0.001, class_weight=balanced, max_iter=100, penalty=l2 ........\n",
            "[CV]  C=0.001, class_weight=balanced, max_iter=100, penalty=l2, score=0.666, total=   2.1s\n",
            "[CV] C=0.001, class_weight=balanced, max_iter=100, penalty=l2 ........\n",
            "[CV]  C=0.001, class_weight=balanced, max_iter=100, penalty=l2, score=0.668, total=   2.1s\n",
            "[CV] C=0.001, class_weight=balanced, max_iter=100, penalty=l2 ........\n",
            "[CV]  C=0.001, class_weight=balanced, max_iter=100, penalty=l2, score=0.665, total=   2.1s\n",
            "[CV] C=0.001, class_weight=balanced, max_iter=1000, penalty=l1 .......\n",
            "[CV]  C=0.001, class_weight=balanced, max_iter=1000, penalty=l1, score=0.651, total=  12.3s\n",
            "[CV] C=0.001, class_weight=balanced, max_iter=1000, penalty=l1 .......\n",
            "[CV]  C=0.001, class_weight=balanced, max_iter=1000, penalty=l1, score=0.646, total=  11.8s\n",
            "[CV] C=0.001, class_weight=balanced, max_iter=1000, penalty=l1 .......\n",
            "[CV]  C=0.001, class_weight=balanced, max_iter=1000, penalty=l1, score=0.652, total=  11.4s\n",
            "[CV] C=0.001, class_weight=balanced, max_iter=1000, penalty=l1 .......\n",
            "[CV]  C=0.001, class_weight=balanced, max_iter=1000, penalty=l1, score=0.655, total=  12.3s\n",
            "[CV] C=0.001, class_weight=balanced, max_iter=1000, penalty=l1 .......\n",
            "[CV]  C=0.001, class_weight=balanced, max_iter=1000, penalty=l1, score=0.651, total=  12.0s\n",
            "[CV] C=0.001, class_weight=balanced, max_iter=1000, penalty=none .....\n",
            "[CV]  C=0.001, class_weight=balanced, max_iter=1000, penalty=none, score=nan, total=   0.1s\n",
            "[CV] C=0.001, class_weight=balanced, max_iter=1000, penalty=none .....\n"
          ],
          "name": "stdout"
        },
        {
          "output_type": "stream",
          "text": [
            "/usr/local/lib/python3.6/dist-packages/sklearn/model_selection/_validation.py:536: FitFailedWarning: Estimator fit failed. The score on this train-test partition for these parameters will be set to nan. Details: \n",
            "ValueError: penalty='none' is not supported for the liblinear solver\n",
            "\n",
            "  FitFailedWarning)\n"
          ],
          "name": "stderr"
        },
        {
          "output_type": "stream",
          "text": [
            "[CV]  C=0.001, class_weight=balanced, max_iter=1000, penalty=none, score=nan, total=   0.1s\n",
            "[CV] C=0.001, class_weight=balanced, max_iter=1000, penalty=none .....\n",
            "[CV]  C=0.001, class_weight=balanced, max_iter=1000, penalty=none, score=nan, total=   0.1s\n",
            "[CV] C=0.001, class_weight=balanced, max_iter=1000, penalty=none .....\n",
            "[CV]  C=0.001, class_weight=balanced, max_iter=1000, penalty=none, score=nan, total=   0.1s\n",
            "[CV] C=0.001, class_weight=balanced, max_iter=1000, penalty=none .....\n",
            "[CV]  C=0.001, class_weight=balanced, max_iter=1000, penalty=none, score=nan, total=   0.1s\n",
            "[CV] C=0.001, class_weight=balanced, max_iter=1000, penalty=l2 .......\n",
            "[CV]  C=0.001, class_weight=balanced, max_iter=1000, penalty=l2, score=0.664, total=   2.0s\n",
            "[CV] C=0.001, class_weight=balanced, max_iter=1000, penalty=l2 .......\n",
            "[CV]  C=0.001, class_weight=balanced, max_iter=1000, penalty=l2, score=0.663, total=   2.0s\n",
            "[CV] C=0.001, class_weight=balanced, max_iter=1000, penalty=l2 .......\n",
            "[CV]  C=0.001, class_weight=balanced, max_iter=1000, penalty=l2, score=0.666, total=   2.0s\n",
            "[CV] C=0.001, class_weight=balanced, max_iter=1000, penalty=l2 .......\n",
            "[CV]  C=0.001, class_weight=balanced, max_iter=1000, penalty=l2, score=0.668, total=   2.0s\n",
            "[CV] C=0.001, class_weight=balanced, max_iter=1000, penalty=l2 .......\n",
            "[CV]  C=0.001, class_weight=balanced, max_iter=1000, penalty=l2, score=0.665, total=   2.0s\n",
            "[CV] C=0.01, class_weight=None, max_iter=10, penalty=l1 ..............\n"
          ],
          "name": "stdout"
        },
        {
          "output_type": "stream",
          "text": [
            "/usr/local/lib/python3.6/dist-packages/sklearn/svm/_base.py:947: ConvergenceWarning: Liblinear failed to converge, increase the number of iterations.\n",
            "  \"the number of iterations.\", ConvergenceWarning)\n"
          ],
          "name": "stderr"
        },
        {
          "output_type": "stream",
          "text": [
            "[CV]  C=0.01, class_weight=None, max_iter=10, penalty=l1, score=0.717, total=   2.6s\n",
            "[CV] C=0.01, class_weight=None, max_iter=10, penalty=l1 ..............\n"
          ],
          "name": "stdout"
        },
        {
          "output_type": "stream",
          "text": [
            "/usr/local/lib/python3.6/dist-packages/sklearn/svm/_base.py:947: ConvergenceWarning: Liblinear failed to converge, increase the number of iterations.\n",
            "  \"the number of iterations.\", ConvergenceWarning)\n"
          ],
          "name": "stderr"
        },
        {
          "output_type": "stream",
          "text": [
            "[CV]  C=0.01, class_weight=None, max_iter=10, penalty=l1, score=0.718, total=   2.4s\n",
            "[CV] C=0.01, class_weight=None, max_iter=10, penalty=l1 ..............\n"
          ],
          "name": "stdout"
        },
        {
          "output_type": "stream",
          "text": [
            "/usr/local/lib/python3.6/dist-packages/sklearn/svm/_base.py:947: ConvergenceWarning: Liblinear failed to converge, increase the number of iterations.\n",
            "  \"the number of iterations.\", ConvergenceWarning)\n"
          ],
          "name": "stderr"
        },
        {
          "output_type": "stream",
          "text": [
            "[CV]  C=0.01, class_weight=None, max_iter=10, penalty=l1, score=0.718, total=   8.8s\n",
            "[CV] C=0.01, class_weight=None, max_iter=10, penalty=l1 ..............\n"
          ],
          "name": "stdout"
        },
        {
          "output_type": "stream",
          "text": [
            "/usr/local/lib/python3.6/dist-packages/sklearn/svm/_base.py:947: ConvergenceWarning: Liblinear failed to converge, increase the number of iterations.\n",
            "  \"the number of iterations.\", ConvergenceWarning)\n"
          ],
          "name": "stderr"
        },
        {
          "output_type": "stream",
          "text": [
            "[CV]  C=0.01, class_weight=None, max_iter=10, penalty=l1, score=0.716, total=   2.5s\n",
            "[CV] C=0.01, class_weight=None, max_iter=10, penalty=l1 ..............\n"
          ],
          "name": "stdout"
        },
        {
          "output_type": "stream",
          "text": [
            "/usr/local/lib/python3.6/dist-packages/sklearn/svm/_base.py:947: ConvergenceWarning: Liblinear failed to converge, increase the number of iterations.\n",
            "  \"the number of iterations.\", ConvergenceWarning)\n",
            "/usr/local/lib/python3.6/dist-packages/sklearn/model_selection/_validation.py:536: FitFailedWarning: Estimator fit failed. The score on this train-test partition for these parameters will be set to nan. Details: \n",
            "ValueError: penalty='none' is not supported for the liblinear solver\n",
            "\n",
            "  FitFailedWarning)\n"
          ],
          "name": "stderr"
        },
        {
          "output_type": "stream",
          "text": [
            "[CV]  C=0.01, class_weight=None, max_iter=10, penalty=l1, score=0.720, total=   2.5s\n",
            "[CV] C=0.01, class_weight=None, max_iter=10, penalty=none ............\n",
            "[CV]  C=0.01, class_weight=None, max_iter=10, penalty=none, score=nan, total=   0.1s\n",
            "[CV] C=0.01, class_weight=None, max_iter=10, penalty=none ............\n",
            "[CV]  C=0.01, class_weight=None, max_iter=10, penalty=none, score=nan, total=   0.1s\n",
            "[CV] C=0.01, class_weight=None, max_iter=10, penalty=none ............\n",
            "[CV]  C=0.01, class_weight=None, max_iter=10, penalty=none, score=nan, total=   0.1s\n",
            "[CV] C=0.01, class_weight=None, max_iter=10, penalty=none ............\n",
            "[CV]  C=0.01, class_weight=None, max_iter=10, penalty=none, score=nan, total=   0.1s\n",
            "[CV] C=0.01, class_weight=None, max_iter=10, penalty=none ............\n",
            "[CV]  C=0.01, class_weight=None, max_iter=10, penalty=none, score=nan, total=   0.1s\n",
            "[CV] C=0.01, class_weight=None, max_iter=10, penalty=l2 ..............\n",
            "[CV]  C=0.01, class_weight=None, max_iter=10, penalty=l2, score=0.720, total=   2.8s\n",
            "[CV] C=0.01, class_weight=None, max_iter=10, penalty=l2 ..............\n",
            "[CV]  C=0.01, class_weight=None, max_iter=10, penalty=l2, score=0.720, total=   2.8s\n",
            "[CV] C=0.01, class_weight=None, max_iter=10, penalty=l2 ..............\n",
            "[CV]  C=0.01, class_weight=None, max_iter=10, penalty=l2, score=0.720, total=   2.8s\n",
            "[CV] C=0.01, class_weight=None, max_iter=10, penalty=l2 ..............\n",
            "[CV]  C=0.01, class_weight=None, max_iter=10, penalty=l2, score=0.722, total=   2.8s\n",
            "[CV] C=0.01, class_weight=None, max_iter=10, penalty=l2 ..............\n",
            "[CV]  C=0.01, class_weight=None, max_iter=10, penalty=l2, score=0.722, total=   2.8s\n",
            "[CV] C=0.01, class_weight=None, max_iter=100, penalty=l1 .............\n",
            "[CV]  C=0.01, class_weight=None, max_iter=100, penalty=l1, score=0.720, total=  36.6s\n",
            "[CV] C=0.01, class_weight=None, max_iter=100, penalty=l1 .............\n",
            "[CV]  C=0.01, class_weight=None, max_iter=100, penalty=l1, score=0.722, total=  36.4s\n",
            "[CV] C=0.01, class_weight=None, max_iter=100, penalty=l1 .............\n",
            "[CV]  C=0.01, class_weight=None, max_iter=100, penalty=l1, score=0.723, total=  35.0s\n",
            "[CV] C=0.01, class_weight=None, max_iter=100, penalty=l1 .............\n",
            "[CV]  C=0.01, class_weight=None, max_iter=100, penalty=l1, score=0.724, total=  34.3s\n",
            "[CV] C=0.01, class_weight=None, max_iter=100, penalty=l1 .............\n",
            "[CV]  C=0.01, class_weight=None, max_iter=100, penalty=l1, score=0.724, total=  35.1s\n",
            "[CV] C=0.01, class_weight=None, max_iter=100, penalty=none ...........\n",
            "[CV]  C=0.01, class_weight=None, max_iter=100, penalty=none, score=nan, total=   0.1s\n",
            "[CV] C=0.01, class_weight=None, max_iter=100, penalty=none ...........\n"
          ],
          "name": "stdout"
        },
        {
          "output_type": "stream",
          "text": [
            "/usr/local/lib/python3.6/dist-packages/sklearn/model_selection/_validation.py:536: FitFailedWarning: Estimator fit failed. The score on this train-test partition for these parameters will be set to nan. Details: \n",
            "ValueError: penalty='none' is not supported for the liblinear solver\n",
            "\n",
            "  FitFailedWarning)\n"
          ],
          "name": "stderr"
        },
        {
          "output_type": "stream",
          "text": [
            "[CV]  C=0.01, class_weight=None, max_iter=100, penalty=none, score=nan, total=   0.1s\n",
            "[CV] C=0.01, class_weight=None, max_iter=100, penalty=none ...........\n",
            "[CV]  C=0.01, class_weight=None, max_iter=100, penalty=none, score=nan, total=   0.1s\n",
            "[CV] C=0.01, class_weight=None, max_iter=100, penalty=none ...........\n",
            "[CV]  C=0.01, class_weight=None, max_iter=100, penalty=none, score=nan, total=   0.1s\n",
            "[CV] C=0.01, class_weight=None, max_iter=100, penalty=none ...........\n",
            "[CV]  C=0.01, class_weight=None, max_iter=100, penalty=none, score=nan, total=   0.1s\n",
            "[CV] C=0.01, class_weight=None, max_iter=100, penalty=l2 .............\n",
            "[CV]  C=0.01, class_weight=None, max_iter=100, penalty=l2, score=0.720, total=   2.8s\n",
            "[CV] C=0.01, class_weight=None, max_iter=100, penalty=l2 .............\n",
            "[CV]  C=0.01, class_weight=None, max_iter=100, penalty=l2, score=0.720, total=   2.7s\n",
            "[CV] C=0.01, class_weight=None, max_iter=100, penalty=l2 .............\n",
            "[CV]  C=0.01, class_weight=None, max_iter=100, penalty=l2, score=0.720, total=   2.7s\n",
            "[CV] C=0.01, class_weight=None, max_iter=100, penalty=l2 .............\n",
            "[CV]  C=0.01, class_weight=None, max_iter=100, penalty=l2, score=0.722, total=   2.7s\n",
            "[CV] C=0.01, class_weight=None, max_iter=100, penalty=l2 .............\n",
            "[CV]  C=0.01, class_weight=None, max_iter=100, penalty=l2, score=0.722, total=   2.7s\n",
            "[CV] C=0.01, class_weight=None, max_iter=1000, penalty=l1 ............\n",
            "[CV]  C=0.01, class_weight=None, max_iter=1000, penalty=l1, score=0.720, total=  36.6s\n",
            "[CV] C=0.01, class_weight=None, max_iter=1000, penalty=l1 ............\n",
            "[CV]  C=0.01, class_weight=None, max_iter=1000, penalty=l1, score=0.722, total=  34.8s\n",
            "[CV] C=0.01, class_weight=None, max_iter=1000, penalty=l1 ............\n",
            "[CV]  C=0.01, class_weight=None, max_iter=1000, penalty=l1, score=0.723, total=  36.7s\n",
            "[CV] C=0.01, class_weight=None, max_iter=1000, penalty=l1 ............\n",
            "[CV]  C=0.01, class_weight=None, max_iter=1000, penalty=l1, score=0.724, total=  34.6s\n",
            "[CV] C=0.01, class_weight=None, max_iter=1000, penalty=l1 ............\n",
            "[CV]  C=0.01, class_weight=None, max_iter=1000, penalty=l1, score=0.724, total=  35.3s\n",
            "[CV] C=0.01, class_weight=None, max_iter=1000, penalty=none ..........\n",
            "[CV]  C=0.01, class_weight=None, max_iter=1000, penalty=none, score=nan, total=   0.1s\n",
            "[CV] C=0.01, class_weight=None, max_iter=1000, penalty=none ..........\n"
          ],
          "name": "stdout"
        },
        {
          "output_type": "stream",
          "text": [
            "/usr/local/lib/python3.6/dist-packages/sklearn/model_selection/_validation.py:536: FitFailedWarning: Estimator fit failed. The score on this train-test partition for these parameters will be set to nan. Details: \n",
            "ValueError: penalty='none' is not supported for the liblinear solver\n",
            "\n",
            "  FitFailedWarning)\n"
          ],
          "name": "stderr"
        },
        {
          "output_type": "stream",
          "text": [
            "[CV]  C=0.01, class_weight=None, max_iter=1000, penalty=none, score=nan, total=   0.1s\n",
            "[CV] C=0.01, class_weight=None, max_iter=1000, penalty=none ..........\n",
            "[CV]  C=0.01, class_weight=None, max_iter=1000, penalty=none, score=nan, total=   0.1s\n",
            "[CV] C=0.01, class_weight=None, max_iter=1000, penalty=none ..........\n",
            "[CV]  C=0.01, class_weight=None, max_iter=1000, penalty=none, score=nan, total=   0.1s\n",
            "[CV] C=0.01, class_weight=None, max_iter=1000, penalty=none ..........\n",
            "[CV]  C=0.01, class_weight=None, max_iter=1000, penalty=none, score=nan, total=   0.1s\n",
            "[CV] C=0.01, class_weight=None, max_iter=1000, penalty=l2 ............\n",
            "[CV]  C=0.01, class_weight=None, max_iter=1000, penalty=l2, score=0.720, total=   2.8s\n",
            "[CV] C=0.01, class_weight=None, max_iter=1000, penalty=l2 ............\n",
            "[CV]  C=0.01, class_weight=None, max_iter=1000, penalty=l2, score=0.720, total=   2.7s\n",
            "[CV] C=0.01, class_weight=None, max_iter=1000, penalty=l2 ............\n",
            "[CV]  C=0.01, class_weight=None, max_iter=1000, penalty=l2, score=0.720, total=   2.8s\n",
            "[CV] C=0.01, class_weight=None, max_iter=1000, penalty=l2 ............\n",
            "[CV]  C=0.01, class_weight=None, max_iter=1000, penalty=l2, score=0.722, total=   2.8s\n",
            "[CV] C=0.01, class_weight=None, max_iter=1000, penalty=l2 ............\n",
            "[CV]  C=0.01, class_weight=None, max_iter=1000, penalty=l2, score=0.722, total=   2.7s\n",
            "[CV] C=0.01, class_weight=balanced, max_iter=10, penalty=l1 ..........\n"
          ],
          "name": "stdout"
        },
        {
          "output_type": "stream",
          "text": [
            "/usr/local/lib/python3.6/dist-packages/sklearn/svm/_base.py:947: ConvergenceWarning: Liblinear failed to converge, increase the number of iterations.\n",
            "  \"the number of iterations.\", ConvergenceWarning)\n"
          ],
          "name": "stderr"
        },
        {
          "output_type": "stream",
          "text": [
            "[CV]  C=0.01, class_weight=balanced, max_iter=10, penalty=l1, score=0.687, total=   7.3s\n",
            "[CV] C=0.01, class_weight=balanced, max_iter=10, penalty=l1 ..........\n"
          ],
          "name": "stdout"
        },
        {
          "output_type": "stream",
          "text": [
            "/usr/local/lib/python3.6/dist-packages/sklearn/svm/_base.py:947: ConvergenceWarning: Liblinear failed to converge, increase the number of iterations.\n",
            "  \"the number of iterations.\", ConvergenceWarning)\n"
          ],
          "name": "stderr"
        },
        {
          "output_type": "stream",
          "text": [
            "[CV]  C=0.01, class_weight=balanced, max_iter=10, penalty=l1, score=0.690, total=   6.0s\n",
            "[CV] C=0.01, class_weight=balanced, max_iter=10, penalty=l1 ..........\n"
          ],
          "name": "stdout"
        },
        {
          "output_type": "stream",
          "text": [
            "/usr/local/lib/python3.6/dist-packages/sklearn/svm/_base.py:947: ConvergenceWarning: Liblinear failed to converge, increase the number of iterations.\n",
            "  \"the number of iterations.\", ConvergenceWarning)\n"
          ],
          "name": "stderr"
        },
        {
          "output_type": "stream",
          "text": [
            "[CV]  C=0.01, class_weight=balanced, max_iter=10, penalty=l1, score=0.691, total=   3.2s\n",
            "[CV] C=0.01, class_weight=balanced, max_iter=10, penalty=l1 ..........\n"
          ],
          "name": "stdout"
        },
        {
          "output_type": "stream",
          "text": [
            "/usr/local/lib/python3.6/dist-packages/sklearn/svm/_base.py:947: ConvergenceWarning: Liblinear failed to converge, increase the number of iterations.\n",
            "  \"the number of iterations.\", ConvergenceWarning)\n"
          ],
          "name": "stderr"
        },
        {
          "output_type": "stream",
          "text": [
            "[CV]  C=0.01, class_weight=balanced, max_iter=10, penalty=l1, score=0.689, total=   6.6s\n",
            "[CV] C=0.01, class_weight=balanced, max_iter=10, penalty=l1 ..........\n"
          ],
          "name": "stdout"
        },
        {
          "output_type": "stream",
          "text": [
            "/usr/local/lib/python3.6/dist-packages/sklearn/svm/_base.py:947: ConvergenceWarning: Liblinear failed to converge, increase the number of iterations.\n",
            "  \"the number of iterations.\", ConvergenceWarning)\n",
            "/usr/local/lib/python3.6/dist-packages/sklearn/model_selection/_validation.py:536: FitFailedWarning: Estimator fit failed. The score on this train-test partition for these parameters will be set to nan. Details: \n",
            "ValueError: penalty='none' is not supported for the liblinear solver\n",
            "\n",
            "  FitFailedWarning)\n"
          ],
          "name": "stderr"
        },
        {
          "output_type": "stream",
          "text": [
            "[CV]  C=0.01, class_weight=balanced, max_iter=10, penalty=l1, score=0.693, total=   6.4s\n",
            "[CV] C=0.01, class_weight=balanced, max_iter=10, penalty=none ........\n",
            "[CV]  C=0.01, class_weight=balanced, max_iter=10, penalty=none, score=nan, total=   0.1s\n",
            "[CV] C=0.01, class_weight=balanced, max_iter=10, penalty=none ........\n",
            "[CV]  C=0.01, class_weight=balanced, max_iter=10, penalty=none, score=nan, total=   0.1s\n",
            "[CV] C=0.01, class_weight=balanced, max_iter=10, penalty=none ........\n",
            "[CV]  C=0.01, class_weight=balanced, max_iter=10, penalty=none, score=nan, total=   0.1s\n",
            "[CV] C=0.01, class_weight=balanced, max_iter=10, penalty=none ........\n",
            "[CV]  C=0.01, class_weight=balanced, max_iter=10, penalty=none, score=nan, total=   0.1s\n",
            "[CV] C=0.01, class_weight=balanced, max_iter=10, penalty=none ........\n",
            "[CV]  C=0.01, class_weight=balanced, max_iter=10, penalty=none, score=nan, total=   0.1s\n",
            "[CV] C=0.01, class_weight=balanced, max_iter=10, penalty=l2 ..........\n",
            "[CV]  C=0.01, class_weight=balanced, max_iter=10, penalty=l2, score=0.687, total=   3.3s\n",
            "[CV] C=0.01, class_weight=balanced, max_iter=10, penalty=l2 ..........\n",
            "[CV]  C=0.01, class_weight=balanced, max_iter=10, penalty=l2, score=0.691, total=   3.4s\n",
            "[CV] C=0.01, class_weight=balanced, max_iter=10, penalty=l2 ..........\n",
            "[CV]  C=0.01, class_weight=balanced, max_iter=10, penalty=l2, score=0.690, total=   3.4s\n",
            "[CV] C=0.01, class_weight=balanced, max_iter=10, penalty=l2 ..........\n",
            "[CV]  C=0.01, class_weight=balanced, max_iter=10, penalty=l2, score=0.689, total=   3.3s\n",
            "[CV] C=0.01, class_weight=balanced, max_iter=10, penalty=l2 ..........\n",
            "[CV]  C=0.01, class_weight=balanced, max_iter=10, penalty=l2, score=0.690, total=   3.3s\n",
            "[CV] C=0.01, class_weight=balanced, max_iter=100, penalty=l1 .........\n",
            "[CV]  C=0.01, class_weight=balanced, max_iter=100, penalty=l1, score=0.683, total= 2.1min\n",
            "[CV] C=0.01, class_weight=balanced, max_iter=100, penalty=l1 .........\n",
            "[CV]  C=0.01, class_weight=balanced, max_iter=100, penalty=l1, score=0.688, total= 2.2min\n",
            "[CV] C=0.01, class_weight=balanced, max_iter=100, penalty=l1 .........\n",
            "[CV]  C=0.01, class_weight=balanced, max_iter=100, penalty=l1, score=0.690, total= 2.2min\n",
            "[CV] C=0.01, class_weight=balanced, max_iter=100, penalty=l1 .........\n"
          ],
          "name": "stdout"
        }
      ]
    },
    {
      "cell_type": "code",
      "metadata": {
        "id": "Me9qqkCmfl3l"
      },
      "source": [
        "print(grid.best_params_)\n",
        "print(grid.best_score_)"
      ],
      "execution_count": null,
      "outputs": []
    },
    {
      "cell_type": "markdown",
      "metadata": {
        "id": "KO1B81d4f2Nq"
      },
      "source": [
        "Random Forest Classifier"
      ]
    },
    {
      "cell_type": "code",
      "metadata": {
        "id": "Qce27IxIfqaN"
      },
      "source": [
        "from sklearn.ensemble import RandomForestClassifier\n",
        "rf = RandomForestClassifier(n_estimators=100)\n",
        "rf = rf.fit(X_train, y_train)\n",
        "rf.score(X_test, y_test)"
      ],
      "execution_count": null,
      "outputs": []
    },
    {
      "cell_type": "code",
      "metadata": {
        "id": "mAjL7aAHfqmD"
      },
      "source": [
        "sorted(zip(rf.feature_importances_, selected_features), reverse=True)"
      ],
      "execution_count": null,
      "outputs": []
    },
    {
      "cell_type": "markdown",
      "metadata": {
        "id": "V17J9ktagAS_"
      },
      "source": [
        "Grid Search"
      ]
    },
    {
      "cell_type": "code",
      "metadata": {
        "id": "yVZbW0iIf-Vf"
      },
      "source": [
        "# Create the GridSearchCV model\n",
        "from sklearn.model_selection import GridSearchCV\n",
        "param_grid = {'C': [.001, .01, .1, 1, 5, 10],\n",
        "              'max_iter': [10, 100,1000],\n",
        "              'class_weight': [None, 'balanced'],\n",
        "              'penalty': [\"l1\",\"none\", \"l2\"]}\n",
        "model = LogisticRegression(solver='liblinear')\n",
        "grid = GridSearchCV(model, param_grid, verbose=3)"
      ],
      "execution_count": null,
      "outputs": []
    },
    {
      "cell_type": "code",
      "metadata": {
        "id": "Z-Df4Vfrf-_D"
      },
      "source": [
        "# Train the model with GridSearch\n",
        "grid.fit(X_train_scaled, y_train)"
      ],
      "execution_count": null,
      "outputs": []
    },
    {
      "cell_type": "code",
      "metadata": {
        "id": "J5TxsDdXf_Cr"
      },
      "source": [
        "print(grid.best_params_)\n",
        "print(grid.best_score_)"
      ],
      "execution_count": null,
      "outputs": []
    },
    {
      "cell_type": "markdown",
      "metadata": {
        "id": "X45gDQoK8BIV"
      },
      "source": [
        "**Incomplete Predictions**"
      ]
    },
    {
      "cell_type": "markdown",
      "metadata": {
        "id": "bS6vvPkgft5B"
      },
      "source": [
        "Logistic Regression"
      ]
    },
    {
      "cell_type": "code",
      "metadata": {
        "id": "eENyUFxk1ta-"
      },
      "source": [
        "from sklearn.model_selection import train_test_split\n",
        "y = df[\"passResult_I\"]\n",
        "X = selected_features\n",
        "\n",
        "X_train, X_test, y_train, y_test = train_test_split(X, y, random_state=1, stratify=y)"
      ],
      "execution_count": null,
      "outputs": []
    },
    {
      "cell_type": "code",
      "metadata": {
        "id": "Hdn8n63C1ta-"
      },
      "source": [
        "from sklearn.preprocessing import MinMaxScaler\n",
        "X_scaler = MinMaxScaler().fit(X_train)\n",
        "\n",
        "X_train_scaled = X_scaler.transform(X_train)\n",
        "X_test_scaled = X_scaler.transform(X_test)"
      ],
      "execution_count": null,
      "outputs": []
    },
    {
      "cell_type": "code",
      "metadata": {
        "id": "L9BhnBrg8LhR"
      },
      "source": [
        "from sklearn.linear_model import LogisticRegression\n",
        "model = LogisticRegression(max_iter=1000)\n",
        "model.fit(X_train_scaled, y_train)"
      ],
      "execution_count": null,
      "outputs": []
    },
    {
      "cell_type": "code",
      "metadata": {
        "id": "6et3u9KA8Ms_"
      },
      "source": [
        "print(f\"Training Data Score: {model.score(X_train_scaled, y_train)}\")\n",
        "print(f\"Testing Data Score: {model.score(X_test_scaled, y_test)}\")"
      ],
      "execution_count": null,
      "outputs": []
    },
    {
      "cell_type": "markdown",
      "metadata": {
        "id": "IAmiixGTgM6S"
      },
      "source": [
        "Random Forest Classifier"
      ]
    },
    {
      "cell_type": "code",
      "metadata": {
        "id": "K9r8M9xm8OGu"
      },
      "source": [
        "from sklearn.ensemble import RandomForestClassifier\n",
        "rf = RandomForestClassifier(n_estimators=100)\n",
        "rf = rf.fit(X_train, y_train)\n",
        "rf.score(X_test, y_test)"
      ],
      "execution_count": null,
      "outputs": []
    },
    {
      "cell_type": "code",
      "metadata": {
        "id": "kxKOUqJg8PiX"
      },
      "source": [
        "sorted(zip(rf.feature_importances_, selected_features), reverse=True)"
      ],
      "execution_count": null,
      "outputs": []
    },
    {
      "cell_type": "markdown",
      "metadata": {
        "id": "DFbWCAhhgVnQ"
      },
      "source": [
        "Grid Search"
      ]
    },
    {
      "cell_type": "code",
      "metadata": {
        "id": "W35A8EjagUiW"
      },
      "source": [
        "# Create the GridSearchCV model\n",
        "from sklearn.model_selection import GridSearchCV\n",
        "param_grid = {'C': [.001, .01, .1, 1, 5, 10],\n",
        "              'max_iter': [10, 100,1000],\n",
        "              'class_weight': [None, 'balanced'],\n",
        "              'penalty': [\"l1\",\"none\", \"l2\"]}\n",
        "model = LogisticRegression(solver='liblinear')\n",
        "grid = GridSearchCV(model, param_grid, verbose=3)"
      ],
      "execution_count": null,
      "outputs": []
    },
    {
      "cell_type": "code",
      "metadata": {
        "id": "ldjpJIEVgUlq"
      },
      "source": [
        "# Train the model with GridSearch\n",
        "grid.fit(X_train_scaled, y_train)"
      ],
      "execution_count": null,
      "outputs": []
    },
    {
      "cell_type": "code",
      "metadata": {
        "id": "YX59wqN2gUom"
      },
      "source": [
        "print(grid.best_params_)\n",
        "print(grid.best_score_)"
      ],
      "execution_count": null,
      "outputs": []
    },
    {
      "cell_type": "markdown",
      "metadata": {
        "id": "cTkwH8ZZ8OiY"
      },
      "source": [
        "**Sack Predictions**"
      ]
    },
    {
      "cell_type": "markdown",
      "metadata": {
        "id": "zXRnXxtBgejQ"
      },
      "source": [
        "Logistic Regression"
      ]
    },
    {
      "cell_type": "code",
      "metadata": {
        "id": "mi-rSAZJ8R6A"
      },
      "source": [
        "from sklearn.model_selection import train_test_split\n",
        "y = df[\"passResult_S\"]\n",
        "X = selected_features\n",
        "\n",
        "X_train, X_test, y_train, y_test = train_test_split(X, y, random_state=1, stratify=y)"
      ],
      "execution_count": null,
      "outputs": []
    },
    {
      "cell_type": "code",
      "metadata": {
        "id": "m16Pw2E28UUO"
      },
      "source": [
        "from sklearn.preprocessing import MinMaxScaler\n",
        "X_scaler = MinMaxScaler().fit(X_train)\n",
        "\n",
        "X_train_scaled = X_scaler.transform(X_train)\n",
        "X_test_scaled = X_scaler.transform(X_test)"
      ],
      "execution_count": null,
      "outputs": []
    },
    {
      "cell_type": "code",
      "metadata": {
        "id": "YF21MwyF8V4i"
      },
      "source": [
        "from sklearn.linear_model import LogisticRegression\n",
        "model = LogisticRegression(max_iter=1000)\n",
        "model.fit(X_train_scaled, y_train)"
      ],
      "execution_count": null,
      "outputs": []
    },
    {
      "cell_type": "code",
      "metadata": {
        "id": "kJNWy4JZ8XW_"
      },
      "source": [
        "print(f\"Training Data Score: {model.score(X_train_scaled, y_train)}\")\n",
        "print(f\"Testing Data Score: {model.score(X_test_scaled, y_test)}\")"
      ],
      "execution_count": null,
      "outputs": []
    },
    {
      "cell_type": "markdown",
      "metadata": {
        "id": "_KLCOYhVgkF8"
      },
      "source": [
        "Random Forest Clasifier"
      ]
    },
    {
      "cell_type": "code",
      "metadata": {
        "id": "Tyq-9nc6giyQ"
      },
      "source": [
        "from sklearn.ensemble import RandomForestClassifier\n",
        "rf = RandomForestClassifier(n_estimators=100)\n",
        "rf = rf.fit(X_train, y_train)\n",
        "rf.score(X_test, y_test)"
      ],
      "execution_count": null,
      "outputs": []
    },
    {
      "cell_type": "code",
      "metadata": {
        "id": "WtmsRFrcgjCY"
      },
      "source": [
        "sorted(zip(rf.feature_importances_, selected_features), reverse=True)"
      ],
      "execution_count": null,
      "outputs": []
    },
    {
      "cell_type": "markdown",
      "metadata": {
        "id": "hTS9tmbmgryZ"
      },
      "source": [
        "Grid Search"
      ]
    },
    {
      "cell_type": "code",
      "metadata": {
        "id": "nahKlHg5gjar"
      },
      "source": [
        "# Create the GridSearchCV model\n",
        "from sklearn.model_selection import GridSearchCV\n",
        "param_grid = {'C': [.001, .01, .1, 1, 5, 10],\n",
        "              'max_iter': [10, 100,1000],\n",
        "              'class_weight': [None, 'balanced'],\n",
        "              'penalty': [\"l1\",\"none\", \"l2\"]}\n",
        "model = LogisticRegression(solver='liblinear')\n",
        "grid = GridSearchCV(model, param_grid, verbose=3)"
      ],
      "execution_count": null,
      "outputs": []
    },
    {
      "cell_type": "code",
      "metadata": {
        "id": "fOH1r6qZgjBV"
      },
      "source": [
        "# Train the model with GridSearch\n",
        "grid.fit(X_train_scaled, y_train)"
      ],
      "execution_count": null,
      "outputs": []
    },
    {
      "cell_type": "code",
      "metadata": {
        "id": "M9lHublPgi5l"
      },
      "source": [
        "print(grid.best_params_)\n",
        "print(grid.best_score_)"
      ],
      "execution_count": null,
      "outputs": []
    },
    {
      "cell_type": "code",
      "metadata": {
        "id": "QQk3KHcY8Y6X"
      },
      "source": [
        ""
      ],
      "execution_count": null,
      "outputs": []
    },
    {
      "cell_type": "markdown",
      "metadata": {
        "id": "DFml0NxK8Zoq"
      },
      "source": [
        "**Interceptions Predictions**"
      ]
    },
    {
      "cell_type": "markdown",
      "metadata": {
        "id": "ezbr8MH7gzt3"
      },
      "source": [
        "Logistic Regression"
      ]
    },
    {
      "cell_type": "code",
      "metadata": {
        "id": "rRi-ChHW8ezt"
      },
      "source": [
        "from sklearn.model_selection import train_test_split\n",
        "y = df[\"passResult_IN\"]\n",
        "X = selected_features\n",
        "\n",
        "X_train, X_test, y_train, y_test = train_test_split(X, y, random_state=1, stratify=y)"
      ],
      "execution_count": null,
      "outputs": []
    },
    {
      "cell_type": "code",
      "metadata": {
        "id": "4zSYgoLB8iMD"
      },
      "source": [
        "from sklearn.preprocessing import MinMaxScaler\n",
        "X_scaler = MinMaxScaler().fit(X_train)\n",
        "\n",
        "X_train_scaled = X_scaler.transform(X_train)\n",
        "X_test_scaled = X_scaler.transform(X_test)"
      ],
      "execution_count": null,
      "outputs": []
    },
    {
      "cell_type": "code",
      "metadata": {
        "id": "fc9aHy3R8jjd"
      },
      "source": [
        "from sklearn.linear_model import LogisticRegression\n",
        "model = LogisticRegression(max_iter=1000)\n",
        "model.fit(X_train_scaled, y_train)"
      ],
      "execution_count": null,
      "outputs": []
    },
    {
      "cell_type": "code",
      "metadata": {
        "id": "nORAEih08km9"
      },
      "source": [
        "print(f\"Training Data Score: {model.score(X_train_scaled, y_train)}\")\n",
        "print(f\"Testing Data Score: {model.score(X_test_scaled, y_test)}\")"
      ],
      "execution_count": null,
      "outputs": []
    },
    {
      "cell_type": "markdown",
      "metadata": {
        "id": "P4wuZxv_g4IE"
      },
      "source": [
        "Random Forest Classifier"
      ]
    },
    {
      "cell_type": "code",
      "metadata": {
        "id": "9dQhkE1Dg24c"
      },
      "source": [
        "from sklearn.ensemble import RandomForestClassifier\n",
        "rf = RandomForestClassifier(n_estimators=100)\n",
        "rf = rf.fit(X_train, y_train)\n",
        "rf.score(X_test, y_test)"
      ],
      "execution_count": null,
      "outputs": []
    },
    {
      "cell_type": "code",
      "metadata": {
        "id": "ljxXe7S0g262"
      },
      "source": [
        "sorted(zip(rf.feature_importances_, selected_features), reverse=True)"
      ],
      "execution_count": null,
      "outputs": []
    },
    {
      "cell_type": "markdown",
      "metadata": {
        "id": "qh1qyRvQg-s5"
      },
      "source": [
        "Grid Search"
      ]
    },
    {
      "cell_type": "code",
      "metadata": {
        "id": "vMRUGwjKg2-a"
      },
      "source": [
        "# Create the GridSearchCV model\n",
        "from sklearn.model_selection import GridSearchCV\n",
        "param_grid = {'C': [.001, .01, .1, 1, 5, 10],\n",
        "              'max_iter': [10, 100,1000],\n",
        "              'class_weight': [None, 'balanced'],\n",
        "              'penalty': [\"l1\",\"none\", \"l2\"]}\n",
        "model = LogisticRegression(solver='liblinear')\n",
        "grid = GridSearchCV(model, param_grid, verbose=3)"
      ],
      "execution_count": null,
      "outputs": []
    },
    {
      "cell_type": "code",
      "metadata": {
        "id": "xIAlC6d1g3Bl"
      },
      "source": [
        "# Train the model with GridSearch\n",
        "grid.fit(X_train_scaled, y_train)"
      ],
      "execution_count": null,
      "outputs": []
    },
    {
      "cell_type": "code",
      "metadata": {
        "id": "SKVov3JWg3FY"
      },
      "source": [
        "print(grid.best_params_)\n",
        "print(grid.best_score_)"
      ],
      "execution_count": null,
      "outputs": []
    },
    {
      "cell_type": "code",
      "metadata": {
        "id": "5dGqwPST8mA8"
      },
      "source": [
        ""
      ],
      "execution_count": null,
      "outputs": []
    },
    {
      "cell_type": "markdown",
      "metadata": {
        "id": "3yzvp8tC83YW"
      },
      "source": [
        "**Cacth Predictions vs Defensive formations**"
      ]
    },
    {
      "cell_type": "markdown",
      "metadata": {
        "id": "jfdFTllShPpg"
      },
      "source": [
        "Logistic Regression"
      ]
    },
    {
      "cell_type": "code",
      "metadata": {
        "id": "0zpZBZgt87Cu"
      },
      "source": [
        "from sklearn.model_selection import train_test_split\n",
        "y = df[\"passResult_C\"]\n",
        "X = defensive_features\n",
        "\n",
        "X_train, X_test, y_train, y_test = train_test_split(X, y, random_state=1, stratify=y)"
      ],
      "execution_count": null,
      "outputs": []
    },
    {
      "cell_type": "code",
      "metadata": {
        "id": "zfm-AJSv9AfA"
      },
      "source": [
        "from sklearn.preprocessing import MinMaxScaler\n",
        "X_scaler = MinMaxScaler().fit(X_train)\n",
        "\n",
        "X_train_scaled = X_scaler.transform(X_train)\n",
        "X_test_scaled = X_scaler.transform(X_test)"
      ],
      "execution_count": null,
      "outputs": []
    },
    {
      "cell_type": "code",
      "metadata": {
        "id": "u4Kxk62R9Ja4"
      },
      "source": [
        "from sklearn.linear_model import LogisticRegression\n",
        "model = LogisticRegression(max_iter=1000)\n",
        "model.fit(X_train_scaled, y_train)"
      ],
      "execution_count": null,
      "outputs": []
    },
    {
      "cell_type": "code",
      "metadata": {
        "id": "5pZ0impo9K9j"
      },
      "source": [
        "print(f\"Training Data Score: {model.score(X_train_scaled, y_train)}\")\n",
        "print(f\"Testing Data Score: {model.score(X_test_scaled, y_test)}\")"
      ],
      "execution_count": null,
      "outputs": []
    },
    {
      "cell_type": "markdown",
      "metadata": {
        "id": "-o4jJ7CthS-N"
      },
      "source": [
        "Random Forest Classifier"
      ]
    },
    {
      "cell_type": "code",
      "metadata": {
        "id": "Ts-hVuCu9MhZ"
      },
      "source": [
        "from sklearn.ensemble import RandomForestClassifier\n",
        "rf = RandomForestClassifier(n_estimators=100)\n",
        "rf = rf.fit(X_train, y_train)\n",
        "rf.score(X_test, y_test)"
      ],
      "execution_count": null,
      "outputs": []
    },
    {
      "cell_type": "code",
      "metadata": {
        "id": "9X52Sdz4hVXX"
      },
      "source": [
        "sorted(zip(rf.feature_importances_, defensive_features), reverse=True)"
      ],
      "execution_count": null,
      "outputs": []
    },
    {
      "cell_type": "markdown",
      "metadata": {
        "id": "C6OMmV4Ohbp4"
      },
      "source": [
        "Grid Search"
      ]
    },
    {
      "cell_type": "code",
      "metadata": {
        "id": "RhbqESo3hVZ_"
      },
      "source": [
        "# Create the GridSearchCV model\n",
        "from sklearn.model_selection import GridSearchCV\n",
        "param_grid = {'C': [.001, .01, .1, 1, 5, 10],\n",
        "              'max_iter': [10, 100,1000],\n",
        "              'class_weight': [None, 'balanced'],\n",
        "              'penalty': [\"l1\",\"none\", \"l2\"]}\n",
        "model = LogisticRegression(solver='liblinear')\n",
        "grid = GridSearchCV(model, param_grid, verbose=3)"
      ],
      "execution_count": null,
      "outputs": []
    },
    {
      "cell_type": "code",
      "metadata": {
        "id": "QkmYLl6ehVfc"
      },
      "source": [
        "# Train the model with GridSearch\n",
        "grid.fit(X_train_scaled, y_train)"
      ],
      "execution_count": null,
      "outputs": []
    },
    {
      "cell_type": "code",
      "metadata": {
        "id": "5WhF2RxbhnoU"
      },
      "source": [
        "print(grid.best_params_)\n",
        "print(grid.best_score_)"
      ],
      "execution_count": null,
      "outputs": []
    },
    {
      "cell_type": "markdown",
      "metadata": {
        "id": "eXDLS1IL_MX-"
      },
      "source": [
        "**Incomplete Passes vs Offense formations**"
      ]
    },
    {
      "cell_type": "markdown",
      "metadata": {
        "id": "Q1I92mALhqHz"
      },
      "source": [
        "Logistic Regression"
      ]
    },
    {
      "cell_type": "code",
      "metadata": {
        "id": "8EknKcv6_TNu"
      },
      "source": [
        "from sklearn.model_selection import train_test_split\n",
        "y = df[\"passResult_I\"]\n",
        "X = offensive_features\n",
        "\n",
        "X_train, X_test, y_train, y_test = train_test_split(X, y, random_state=1, stratify=y)"
      ],
      "execution_count": null,
      "outputs": []
    },
    {
      "cell_type": "code",
      "metadata": {
        "id": "qxnj3bBG_YYb"
      },
      "source": [
        "from sklearn.preprocessing import MinMaxScaler\n",
        "X_scaler = MinMaxScaler().fit(X_train)\n",
        "\n",
        "X_train_scaled = X_scaler.transform(X_train)\n",
        "X_test_scaled = X_scaler.transform(X_test)"
      ],
      "execution_count": null,
      "outputs": []
    },
    {
      "cell_type": "code",
      "metadata": {
        "id": "UHfMD_e0_aDd"
      },
      "source": [
        "from sklearn.linear_model import LogisticRegression\n",
        "model = LogisticRegression(max_iter=1000)\n",
        "model.fit(X_train_scaled, y_train)"
      ],
      "execution_count": null,
      "outputs": []
    },
    {
      "cell_type": "code",
      "metadata": {
        "id": "BRUP9lx__bUE"
      },
      "source": [
        "print(f\"Training Data Score: {model.score(X_train_scaled, y_train)}\")\n",
        "print(f\"Testing Data Score: {model.score(X_test_scaled, y_test)}\")"
      ],
      "execution_count": null,
      "outputs": []
    },
    {
      "cell_type": "markdown",
      "metadata": {
        "id": "nNQQpsMGhvoD"
      },
      "source": [
        "Random Forest Classifier"
      ]
    },
    {
      "cell_type": "code",
      "metadata": {
        "id": "9b8ysba6hu1h"
      },
      "source": [
        "from sklearn.ensemble import RandomForestClassifier\n",
        "rf = RandomForestClassifier(n_estimators=100)\n",
        "rf = rf.fit(X_train, y_train)\n",
        "rf.score(X_test, y_test)"
      ],
      "execution_count": null,
      "outputs": []
    },
    {
      "cell_type": "code",
      "metadata": {
        "id": "dniIxKvehu6J"
      },
      "source": [
        "sorted(zip(rf.feature_importances_, offensive_features), reverse=True)"
      ],
      "execution_count": null,
      "outputs": []
    },
    {
      "cell_type": "markdown",
      "metadata": {
        "id": "7ZlZTsyCh5G1"
      },
      "source": [
        "Grid Search"
      ]
    },
    {
      "cell_type": "code",
      "metadata": {
        "id": "krNkCxvahvAf"
      },
      "source": [
        "# Create the GridSearchCV model\n",
        "from sklearn.model_selection import GridSearchCV\n",
        "param_grid = {'C': [.001, .01, .1, 1, 5, 10],\n",
        "              'max_iter': [10, 100,1000],\n",
        "              'class_weight': [None, 'balanced'],\n",
        "              'penalty': [\"l1\",\"none\", \"l2\"]}\n",
        "model = LogisticRegression(solver='liblinear')\n",
        "grid = GridSearchCV(model, param_grid, verbose=3)"
      ],
      "execution_count": null,
      "outputs": []
    },
    {
      "cell_type": "code",
      "metadata": {
        "id": "Czv8VQrXhvDd"
      },
      "source": [
        "# Train the model with GridSearch\n",
        "grid.fit(X_train_scaled, y_train)"
      ],
      "execution_count": null,
      "outputs": []
    },
    {
      "cell_type": "code",
      "metadata": {
        "id": "P4ATPqEchvGe"
      },
      "source": [
        "print(grid.best_params_)\n",
        "print(grid.best_score_)"
      ],
      "execution_count": null,
      "outputs": []
    },
    {
      "cell_type": "markdown",
      "metadata": {
        "id": "IEYyhRYONUAL"
      },
      "source": [
        "**Exta DB's and Incomplete Catches**"
      ]
    },
    {
      "cell_type": "markdown",
      "metadata": {
        "id": "AajG7aMniMvO"
      },
      "source": [
        "Logistic Regression"
      ]
    },
    {
      "cell_type": "code",
      "metadata": {
        "id": "7LV2ZmxVNase"
      },
      "source": [
        "moreDB_features = df[['personnelD_0 DL, 4 LB, 7 DB',\t'personnelD_0 DL, 5 LB, 6 DB',\t'personnelD_0 DL, 6 LB, 5 DB',\t'personnelD_1 DL, 3 LB, 7 DB',\t\n",
        "                      'personnelD_1 DL, 4 LB, 6 DB', 'personnelD_1 DL, 5 LB, 5 DB',\t'personnelD_2 DL, 2 LB, 7 DB', 'personnelD_2 DL, 4 LB, 5 DB',\t\n",
        "                      'personnelD_3 DL, 1 LB, 7 DB', 'personnelD_3 DL, 2 LB, 6 DB', 'personnelD_4 DL, 1 LB, 6 DB']]"
      ],
      "execution_count": null,
      "outputs": []
    },
    {
      "cell_type": "code",
      "metadata": {
        "id": "zMR06WsHNcnU"
      },
      "source": [
        "from sklearn.model_selection import train_test_split\n",
        "y = df[\"passResult_I\"]\n",
        "X = moreDB_features\n",
        "\n",
        "X_train, X_test, y_train, y_test = train_test_split(X, y, random_state=1, stratify=y)"
      ],
      "execution_count": null,
      "outputs": []
    },
    {
      "cell_type": "code",
      "metadata": {
        "id": "Dqb9QcRaOJHy"
      },
      "source": [
        "from sklearn.preprocessing import MinMaxScaler\n",
        "X_scaler = MinMaxScaler().fit(X_train)\n",
        "\n",
        "X_train_scaled = X_scaler.transform(X_train)\n",
        "X_test_scaled = X_scaler.transform(X_test)"
      ],
      "execution_count": null,
      "outputs": []
    },
    {
      "cell_type": "code",
      "metadata": {
        "id": "egJwqzh0OKtk"
      },
      "source": [
        "from sklearn.linear_model import LogisticRegression\n",
        "model = LogisticRegression(max_iter=1000)\n",
        "model.fit(X_train_scaled, y_train)"
      ],
      "execution_count": null,
      "outputs": []
    },
    {
      "cell_type": "code",
      "metadata": {
        "id": "x27eA-AcOMIC"
      },
      "source": [
        "print(f\"Training Data Score: {model.score(X_train_scaled, y_train)}\")\n",
        "print(f\"Testing Data Score: {model.score(X_test_scaled, y_test)}\")"
      ],
      "execution_count": null,
      "outputs": []
    },
    {
      "cell_type": "markdown",
      "metadata": {
        "id": "HMEO338ViSfW"
      },
      "source": [
        "Random Forest Classifier"
      ]
    },
    {
      "cell_type": "code",
      "metadata": {
        "id": "RBKsCXXviQ1W"
      },
      "source": [
        "from sklearn.ensemble import RandomForestClassifier\n",
        "rf = RandomForestClassifier(n_estimators=100)\n",
        "rf = rf.fit(X_train, y_train)\n",
        "rf.score(X_test, y_test)"
      ],
      "execution_count": null,
      "outputs": []
    },
    {
      "cell_type": "code",
      "metadata": {
        "id": "_GKk_zaGiQ3_"
      },
      "source": [
        "sorted(zip(rf.feature_importances_, moreDB_features), reverse=True)"
      ],
      "execution_count": null,
      "outputs": []
    },
    {
      "cell_type": "markdown",
      "metadata": {
        "id": "emrMBkIkiZmz"
      },
      "source": [
        "Grid Search"
      ]
    },
    {
      "cell_type": "code",
      "metadata": {
        "id": "S5g_d_XhiQ6t"
      },
      "source": [
        "# Create the GridSearchCV model\n",
        "from sklearn.model_selection import GridSearchCV\n",
        "param_grid = {'C': [.001, .01, .1, 1, 5, 10],\n",
        "              'max_iter': [10, 100,1000],\n",
        "              'class_weight': [None, 'balanced'],\n",
        "              'penalty': [\"l1\",\"none\", \"l2\"]}\n",
        "model = LogisticRegression(solver='liblinear')\n",
        "grid = GridSearchCV(model, param_grid, verbose=3)"
      ],
      "execution_count": null,
      "outputs": []
    },
    {
      "cell_type": "code",
      "metadata": {
        "id": "ONG8ou9KiQ_v"
      },
      "source": [
        "# Train the model with GridSearch\n",
        "grid.fit(X_train_scaled, y_train)"
      ],
      "execution_count": null,
      "outputs": []
    },
    {
      "cell_type": "code",
      "metadata": {
        "id": "IMddamyKiRhn"
      },
      "source": [
        "print(grid.best_params_)\n",
        "print(grid.best_score_)"
      ],
      "execution_count": null,
      "outputs": []
    },
    {
      "cell_type": "code",
      "metadata": {
        "id": "N0Q4HxJxiRfx"
      },
      "source": [
        ""
      ],
      "execution_count": null,
      "outputs": []
    },
    {
      "cell_type": "markdown",
      "metadata": {
        "id": "31Y86enYOUED"
      },
      "source": [
        "**Extra DB and Interceptions**"
      ]
    },
    {
      "cell_type": "markdown",
      "metadata": {
        "id": "6xjxy4gpifcq"
      },
      "source": [
        "Logistic Regression"
      ]
    },
    {
      "cell_type": "code",
      "metadata": {
        "id": "tu9VzoGKON0_"
      },
      "source": [
        "from sklearn.model_selection import train_test_split\n",
        "y = df[\"passResult_IN\"]\n",
        "X = moreDB_features\n",
        "\n",
        "X_train, X_test, y_train, y_test = train_test_split(X, y, random_state=1, stratify=y)"
      ],
      "execution_count": null,
      "outputs": []
    },
    {
      "cell_type": "code",
      "metadata": {
        "id": "NSN8BvQROar6"
      },
      "source": [
        "from sklearn.preprocessing import MinMaxScaler\n",
        "X_scaler = MinMaxScaler().fit(X_train)\n",
        "\n",
        "X_train_scaled = X_scaler.transform(X_train)\n",
        "X_test_scaled = X_scaler.transform(X_test)"
      ],
      "execution_count": null,
      "outputs": []
    },
    {
      "cell_type": "code",
      "metadata": {
        "id": "x-BpenwjOcU6"
      },
      "source": [
        "from sklearn.linear_model import LogisticRegression\n",
        "model = LogisticRegression(max_iter=1000)\n",
        "model.fit(X_train_scaled, y_train)"
      ],
      "execution_count": null,
      "outputs": []
    },
    {
      "cell_type": "code",
      "metadata": {
        "id": "reyot3v-Odif"
      },
      "source": [
        "print(f\"Training Data Score: {model.score(X_train_scaled, y_train)}\")\n",
        "print(f\"Testing Data Score: {model.score(X_test_scaled, y_test)}\")"
      ],
      "execution_count": null,
      "outputs": []
    },
    {
      "cell_type": "markdown",
      "metadata": {
        "id": "c3URIh7FijLP"
      },
      "source": [
        "Random Forest Classifier"
      ]
    },
    {
      "cell_type": "code",
      "metadata": {
        "id": "YsTR6IHIiiZN"
      },
      "source": [
        "from sklearn.ensemble import RandomForestClassifier\n",
        "rf = RandomForestClassifier(n_estimators=100)\n",
        "rf = rf.fit(X_train, y_train)\n",
        "rf.score(X_test, y_test)\n",
        "\n"
      ],
      "execution_count": null,
      "outputs": []
    },
    {
      "cell_type": "code",
      "metadata": {
        "id": "BKT5MyIziidi"
      },
      "source": [
        "sorted(zip(rf.feature_importances_, moreDB_features), reverse=True)"
      ],
      "execution_count": null,
      "outputs": []
    },
    {
      "cell_type": "markdown",
      "metadata": {
        "id": "XUMQ4_yPist_"
      },
      "source": [
        "Grid Search"
      ]
    },
    {
      "cell_type": "code",
      "metadata": {
        "id": "jmF6DmOYiihp"
      },
      "source": [
        "# Create the GridSearchCV model\n",
        "from sklearn.model_selection import GridSearchCV\n",
        "param_grid = {'C': [.001, .01, .1, 1, 5, 10],\n",
        "              'max_iter': [10, 100,1000],\n",
        "              'class_weight': [None, 'balanced'],\n",
        "              'penalty': [\"l1\",\"none\", \"l2\"]}\n",
        "model = LogisticRegression(solver='liblinear')\n",
        "grid = GridSearchCV(model, param_grid, verbose=3)"
      ],
      "execution_count": null,
      "outputs": []
    },
    {
      "cell_type": "code",
      "metadata": {
        "id": "5ScZtUPMiiln"
      },
      "source": [
        "# Train the model with GridSearch\n",
        "grid.fit(X_train_scaled, y_train)"
      ],
      "execution_count": null,
      "outputs": []
    },
    {
      "cell_type": "code",
      "metadata": {
        "id": "NZYZVFP0iipl"
      },
      "source": [
        "\n",
        "print(grid.best_params_)\n",
        "print(grid.best_score_)"
      ],
      "execution_count": null,
      "outputs": []
    },
    {
      "cell_type": "code",
      "metadata": {
        "id": "WCtUIoUliiuY"
      },
      "source": [
        ""
      ],
      "execution_count": null,
      "outputs": []
    },
    {
      "cell_type": "code",
      "metadata": {
        "id": "k6q7oXTrOe6n"
      },
      "source": [
        ""
      ],
      "execution_count": null,
      "outputs": []
    },
    {
      "cell_type": "markdown",
      "metadata": {
        "id": "Ft_glq_6OgSf"
      },
      "source": [
        "**Extra DB and Sacks**"
      ]
    },
    {
      "cell_type": "markdown",
      "metadata": {
        "id": "bJCEIJfzixv7"
      },
      "source": [
        "Logistic Regression"
      ]
    },
    {
      "cell_type": "code",
      "metadata": {
        "id": "FwmEhpekOlTl"
      },
      "source": [
        "from sklearn.model_selection import train_test_split\n",
        "y = df[\"passResult_IN\"]\n",
        "X = moreDB_features\n",
        "\n",
        "X_train, X_test, y_train, y_test = train_test_split(X, y, random_state=1, stratify=y)"
      ],
      "execution_count": null,
      "outputs": []
    },
    {
      "cell_type": "code",
      "metadata": {
        "id": "l8-zTEtyOmtX"
      },
      "source": [
        "from sklearn.preprocessing import MinMaxScaler\n",
        "X_scaler = MinMaxScaler().fit(X_train)\n",
        "\n",
        "X_train_scaled = X_scaler.transform(X_train)\n",
        "X_test_scaled = X_scaler.transform(X_test)"
      ],
      "execution_count": null,
      "outputs": []
    },
    {
      "cell_type": "code",
      "metadata": {
        "id": "K0KTAiGiOn8k"
      },
      "source": [
        "from sklearn.linear_model import LogisticRegression\n",
        "model = LogisticRegression(max_iter=1000)\n",
        "model.fit(X_train_scaled, y_train)"
      ],
      "execution_count": null,
      "outputs": []
    },
    {
      "cell_type": "code",
      "metadata": {
        "id": "KXkPf8cvOpYN"
      },
      "source": [
        "print(f\"Training Data Score: {model.score(X_train_scaled, y_train)}\")\n",
        "print(f\"Testing Data Score: {model.score(X_test_scaled, y_test)}\")"
      ],
      "execution_count": null,
      "outputs": []
    },
    {
      "cell_type": "markdown",
      "metadata": {
        "id": "mr1yP_Uri2dx"
      },
      "source": [
        "Random Forest"
      ]
    },
    {
      "cell_type": "code",
      "metadata": {
        "id": "obrqnAJKi0z8"
      },
      "source": [
        "from sklearn.ensemble import RandomForestClassifier\n",
        "rf = RandomForestClassifier(n_estimators=100)\n",
        "rf = rf.fit(X_train, y_train)\n",
        "rf.score(X_test, y_test)\n"
      ],
      "execution_count": null,
      "outputs": []
    },
    {
      "cell_type": "code",
      "metadata": {
        "id": "bpS-Z672i02s"
      },
      "source": [
        "sorted(zip(rf.feature_importances_, moreDB_features), reverse=True)"
      ],
      "execution_count": null,
      "outputs": []
    },
    {
      "cell_type": "markdown",
      "metadata": {
        "id": "wrIwfujpi8hK"
      },
      "source": [
        "Grid Search"
      ]
    },
    {
      "cell_type": "code",
      "metadata": {
        "id": "Bh0yY2VIi07v"
      },
      "source": [
        "# Create the GridSearchCV model\n",
        "from sklearn.model_selection import GridSearchCV\n",
        "param_grid = {'C': [.001, .01, .1, 1, 5, 10],\n",
        "              'max_iter': [10, 100,1000],\n",
        "              'class_weight': [None, 'balanced'],\n",
        "              'penalty': [\"l1\",\"none\", \"l2\"]}\n",
        "model = LogisticRegression(solver='liblinear')\n",
        "grid = GridSearchCV(model, param_grid, verbose=3)"
      ],
      "execution_count": null,
      "outputs": []
    },
    {
      "cell_type": "code",
      "metadata": {
        "id": "hVFTBffSi1Dv"
      },
      "source": [
        "# Train the model with GridSearch\n",
        "grid.fit(X_train_scaled, y_train)"
      ],
      "execution_count": null,
      "outputs": []
    },
    {
      "cell_type": "code",
      "metadata": {
        "id": "A5i-nEgti057"
      },
      "source": [
        "print(grid.best_params_)\n",
        "print(grid.best_score_)"
      ],
      "execution_count": null,
      "outputs": []
    },
    {
      "cell_type": "code",
      "metadata": {
        "id": "FYTbn3IOOr89"
      },
      "source": [
        ""
      ],
      "execution_count": null,
      "outputs": []
    },
    {
      "cell_type": "markdown",
      "metadata": {
        "id": "XNcv8llHO1sx"
      },
      "source": [
        "**Extra DB's and Catches**"
      ]
    },
    {
      "cell_type": "markdown",
      "metadata": {
        "id": "fvqISIDQjB0I"
      },
      "source": [
        "Logistic Regression"
      ]
    },
    {
      "cell_type": "code",
      "metadata": {
        "id": "mcybvzx3O6eQ"
      },
      "source": [
        "from sklearn.model_selection import train_test_split\n",
        "y = df[\"passResult_C\"]\n",
        "X = moreDB_features\n",
        "\n",
        "X_train, X_test, y_train, y_test = train_test_split(X, y, random_state=1, stratify=y)"
      ],
      "execution_count": null,
      "outputs": []
    },
    {
      "cell_type": "code",
      "metadata": {
        "id": "tV9lkiYvO9Og"
      },
      "source": [
        "from sklearn.preprocessing import MinMaxScaler\n",
        "X_scaler = MinMaxScaler().fit(X_train)\n",
        "\n",
        "X_train_scaled = X_scaler.transform(X_train)\n",
        "X_test_scaled = X_scaler.transform(X_test)"
      ],
      "execution_count": null,
      "outputs": []
    },
    {
      "cell_type": "code",
      "metadata": {
        "id": "mwV37X-1O-wA"
      },
      "source": [
        "from sklearn.linear_model import LogisticRegression\n",
        "model = LogisticRegression(max_iter=1000)\n",
        "model.fit(X_train_scaled, y_train)"
      ],
      "execution_count": null,
      "outputs": []
    },
    {
      "cell_type": "code",
      "metadata": {
        "id": "Hvh8H8XvPAIm"
      },
      "source": [
        "print(f\"Training Data Score: {model.score(X_train_scaled, y_train)}\")\n",
        "print(f\"Testing Data Score: {model.score(X_test_scaled, y_test)}\")"
      ],
      "execution_count": null,
      "outputs": []
    },
    {
      "cell_type": "markdown",
      "metadata": {
        "id": "bAihzaMRjHSm"
      },
      "source": [
        "Random Forest Classifier"
      ]
    },
    {
      "cell_type": "code",
      "metadata": {
        "id": "deSkW5zYjFvz"
      },
      "source": [
        "from sklearn.ensemble import RandomForestClassifier\n",
        "rf = RandomForestClassifier(n_estimators=100)\n",
        "rf = rf.fit(X_train, y_train)\n",
        "rf.score(X_test, y_test)"
      ],
      "execution_count": null,
      "outputs": []
    },
    {
      "cell_type": "code",
      "metadata": {
        "id": "fj4jpyaljFyq"
      },
      "source": [
        "sorted(zip(rf.feature_importances_, moreDB_features), reverse=True)"
      ],
      "execution_count": null,
      "outputs": []
    },
    {
      "cell_type": "code",
      "metadata": {
        "id": "uWKbHOyUjF1-"
      },
      "source": [
        "# Create the GridSearchCV model\n",
        "from sklearn.model_selection import GridSearchCV\n",
        "param_grid = {'C': [.001, .01, .1, 1, 5, 10],\n",
        "              'max_iter': [10, 100,1000],\n",
        "              'class_weight': [None, 'balanced'],\n",
        "              'penalty': [\"l1\",\"none\", \"l2\"]}\n",
        "model = LogisticRegression(solver='liblinear')\n",
        "grid = GridSearchCV(model, param_grid, verbose=3)"
      ],
      "execution_count": null,
      "outputs": []
    },
    {
      "cell_type": "code",
      "metadata": {
        "id": "hjwNTWL6jF5e"
      },
      "source": [
        "# Train the model with GridSearch\n",
        "grid.fit(X_train_scaled, y_train)"
      ],
      "execution_count": null,
      "outputs": []
    },
    {
      "cell_type": "code",
      "metadata": {
        "id": "7oPfcMKbPBn_"
      },
      "source": [
        "print(grid.best_params_)\n",
        "print(grid.best_score_)"
      ],
      "execution_count": null,
      "outputs": []
    },
    {
      "cell_type": "markdown",
      "metadata": {
        "id": "iBu1QXhNPUlx"
      },
      "source": [
        "**Offensive Formation agaisnt Extra DB's**"
      ]
    },
    {
      "cell_type": "markdown",
      "metadata": {
        "id": "8AFCNaCbjQvS"
      },
      "source": [
        "Logistic Regression"
      ]
    },
    {
      "cell_type": "code",
      "metadata": {
        "id": "783ljA8EPdwV"
      },
      "source": [
        "from sklearn.model_selection import train_test_split\n",
        "y = df[\"offenseFormation_I_FORM\"]\n",
        "X = moreDB_features\n",
        "\n",
        "X_train, X_test, y_train, y_test = train_test_split(X, y, random_state=1, stratify=y)"
      ],
      "execution_count": null,
      "outputs": []
    },
    {
      "cell_type": "code",
      "metadata": {
        "id": "DyXnmnV-Pj2A"
      },
      "source": [
        "from sklearn.preprocessing import MinMaxScaler\n",
        "X_scaler = MinMaxScaler().fit(X_train)\n",
        "\n",
        "X_train_scaled = X_scaler.transform(X_train)\n",
        "X_test_scaled = X_scaler.transform(X_test)"
      ],
      "execution_count": null,
      "outputs": []
    },
    {
      "cell_type": "code",
      "metadata": {
        "id": "NuWYjsw6PlmQ"
      },
      "source": [
        "from sklearn.linear_model import LogisticRegression\n",
        "model = LogisticRegression(max_iter=1000)\n",
        "model.fit(X_train_scaled, y_train)"
      ],
      "execution_count": null,
      "outputs": []
    },
    {
      "cell_type": "code",
      "metadata": {
        "id": "YDqL-hVNPnY4"
      },
      "source": [
        "print(f\"Training Data Score: {model.score(X_train_scaled, y_train)}\")\n",
        "print(f\"Testing Data Score: {model.score(X_test_scaled, y_test)}\")"
      ],
      "execution_count": null,
      "outputs": []
    },
    {
      "cell_type": "code",
      "metadata": {
        "id": "1KK427NYPpDe"
      },
      "source": [
        "# How can we test this againt catch or incomplete\n",
        "# What does the test results actually tell us\n",
        "# How can we improve this"
      ],
      "execution_count": null,
      "outputs": []
    },
    {
      "cell_type": "code",
      "metadata": {
        "id": "fm1-DMFCP4ZT"
      },
      "source": [
        "# show different style\n",
        "# explain what we are trying to solve\n",
        "# predicting y solves x\n",
        "# Random Forest - these featurs were the most important\n",
        "# grid search - \n",
        "# graphs of important features"
      ],
      "execution_count": null,
      "outputs": []
    },
    {
      "cell_type": "code",
      "metadata": {
        "id": "FgsC2MM6jTKX"
      },
      "source": [
        ""
      ],
      "execution_count": null,
      "outputs": []
    },
    {
      "cell_type": "markdown",
      "metadata": {
        "id": "5zd6xftFjT22"
      },
      "source": [
        "Random Forest"
      ]
    },
    {
      "cell_type": "code",
      "metadata": {
        "id": "TNUSUn3-jU5N"
      },
      "source": [
        "from sklearn.ensemble import RandomForestClassifier\n",
        "rf = RandomForestClassifier(n_estimators=100)\n",
        "rf = rf.fit(X_train, y_train)\n",
        "rf.score(X_test, y_test)"
      ],
      "execution_count": null,
      "outputs": []
    },
    {
      "cell_type": "code",
      "metadata": {
        "id": "bMMkZ_tfjWLP"
      },
      "source": [
        "sorted(zip(rf.feature_importances_, moreDB_features), reverse=True)"
      ],
      "execution_count": null,
      "outputs": []
    },
    {
      "cell_type": "code",
      "metadata": {
        "id": "RT1RsfuFjXXa"
      },
      "source": [
        ""
      ],
      "execution_count": null,
      "outputs": []
    },
    {
      "cell_type": "markdown",
      "metadata": {
        "id": "dd951FJ4jYgm"
      },
      "source": [
        "Grid Search"
      ]
    },
    {
      "cell_type": "code",
      "metadata": {
        "id": "N290br_kjZgR"
      },
      "source": [
        "# Create the GridSearchCV model\n",
        "from sklearn.model_selection import GridSearchCV\n",
        "param_grid = {'C': [.001, .01, .1, 1, 5, 10],\n",
        "              'max_iter': [10, 100,1000],\n",
        "              'class_weight': [None, 'balanced'],\n",
        "              'penalty': [\"l1\",\"none\", \"l2\"]}\n",
        "model = LogisticRegression(solver='liblinear')\n",
        "grid = GridSearchCV(model, param_grid, verbose=3)"
      ],
      "execution_count": null,
      "outputs": []
    },
    {
      "cell_type": "code",
      "metadata": {
        "id": "OCvEbyQtjavg"
      },
      "source": [
        "# Train the model with GridSearch\n",
        "grid.fit(X_train_scaled, y_train)"
      ],
      "execution_count": null,
      "outputs": []
    },
    {
      "cell_type": "code",
      "metadata": {
        "id": "cFl5kupejb9U"
      },
      "source": [
        "print(grid.best_params_)\n",
        "print(grid.best_score_)"
      ],
      "execution_count": null,
      "outputs": []
    },
    {
      "cell_type": "code",
      "metadata": {
        "id": "s6lz8kxSjdEk"
      },
      "source": [
        ""
      ],
      "execution_count": null,
      "outputs": []
    },
    {
      "cell_type": "markdown",
      "metadata": {
        "id": "NBOqCfc3xxGn"
      },
      "source": [
        "## **Kmeans**"
      ]
    },
    {
      "cell_type": "code",
      "metadata": {
        "id": "n_bzBIrMT1xY"
      },
      "source": [
        ""
      ],
      "execution_count": null,
      "outputs": []
    },
    {
      "cell_type": "markdown",
      "metadata": {
        "id": "Js4lSzTqT_DF"
      },
      "source": [
        "# MatPlotLib"
      ]
    },
    {
      "cell_type": "code",
      "metadata": {
        "id": "g60KRnL_UCJ8"
      },
      "source": [
        ""
      ],
      "execution_count": null,
      "outputs": []
    }
  ]
}